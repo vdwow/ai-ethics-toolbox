{
 "cells": [
  {
   "cell_type": "code",
   "execution_count": 42,
   "metadata": {},
   "outputs": [
    {
     "name": "stderr",
     "output_type": "stream",
     "text": [
      "AVX = 1 | AVX_VNNI = 0 | AVX2 = 1 | AVX512 = 0 | AVX512_VBMI = 0 | AVX512_VNNI = 0 | FMA = 1 | NEON = 0 | ARM_FMA = 0 | F16C = 1 | FP16_VA = 0 | WASM_SIMD = 0 | BLAS = 0 | SSE3 = 1 | SSSE3 = 0 | VSX = 0 | \n",
      "[codecarbon INFO @ 16:01:19] [setup] RAM Tracking...\n",
      "[codecarbon INFO @ 16:01:19] [setup] GPU Tracking...\n",
      "[codecarbon INFO @ 16:01:19] Tracking Nvidia GPU via pynvml\n",
      "[codecarbon INFO @ 16:01:19] [setup] CPU Tracking...\n",
      "[codecarbon WARNING @ 16:01:19] No CPU tracking mode found. Falling back on CPU constant mode.\n",
      "[codecarbon INFO @ 16:01:21] CPU Model on constant consumption mode: AMD Ryzen 7 3700X 8-Core Processor\n",
      "[codecarbon INFO @ 16:01:21] >>> Tracker's metadata:\n",
      "[codecarbon INFO @ 16:01:21]   Platform system: Windows-10-10.0.22621-SP0\n",
      "[codecarbon INFO @ 16:01:21]   Python version: 3.11.7\n",
      "[codecarbon INFO @ 16:01:21]   CodeCarbon version: 2.3.2\n",
      "[codecarbon INFO @ 16:01:21]   Available RAM : 31.928 GB\n",
      "[codecarbon INFO @ 16:01:21]   CPU count: 16\n",
      "[codecarbon INFO @ 16:01:21]   CPU model: AMD Ryzen 7 3700X 8-Core Processor\n",
      "[codecarbon INFO @ 16:01:21]   GPU count: 1\n",
      "[codecarbon INFO @ 16:01:21]   GPU model: 1 x NVIDIA GeForce RTX 2070 SUPER\n",
      "[codecarbon INFO @ 16:01:40] Energy consumed for RAM : 0.000050 kWh. RAM Power : 11.972930431365967 W\n",
      "[codecarbon INFO @ 16:01:40] Energy consumed for all GPUs : 0.000192 kWh. Total GPU Power : 46.01846396506851 W\n",
      "[codecarbon INFO @ 16:01:40] Energy consumed for all CPUs : 0.000136 kWh. Total CPU Power : 32.5 W\n",
      "[codecarbon INFO @ 16:01:40] 0.000378 kWh of electricity used since the beginning.\n",
      "[codecarbon INFO @ 16:01:55] Energy consumed for RAM : 0.000100 kWh. RAM Power : 11.972930431365967 W\n",
      "[codecarbon INFO @ 16:01:55] Energy consumed for all GPUs : 0.000385 kWh. Total GPU Power : 46.136434897376375 W\n",
      "[codecarbon INFO @ 16:01:55] Energy consumed for all CPUs : 0.000272 kWh. Total CPU Power : 32.5 W\n",
      "[codecarbon INFO @ 16:01:55] 0.000756 kWh of electricity used since the beginning.\n",
      "[codecarbon INFO @ 16:02:10] Energy consumed for RAM : 0.000150 kWh. RAM Power : 11.972930431365967 W\n",
      "[codecarbon INFO @ 16:02:10] Energy consumed for all GPUs : 0.000576 kWh. Total GPU Power : 45.85412058540471 W\n",
      "[codecarbon INFO @ 16:02:10] Energy consumed for all CPUs : 0.000407 kWh. Total CPU Power : 32.5 W\n",
      "[codecarbon INFO @ 16:02:10] 0.001132 kWh of electricity used since the beginning.\n",
      "[codecarbon INFO @ 16:02:25] Energy consumed for RAM : 0.000199 kWh. RAM Power : 11.972930431365967 W\n",
      "[codecarbon INFO @ 16:02:25] Energy consumed for all GPUs : 0.000766 kWh. Total GPU Power : 45.55965434969281 W\n",
      "[codecarbon INFO @ 16:02:25] Energy consumed for all CPUs : 0.000543 kWh. Total CPU Power : 32.5 W\n",
      "[codecarbon INFO @ 16:02:25] 0.001508 kWh of electricity used since the beginning.\n",
      "[codecarbon INFO @ 16:02:40] Energy consumed for RAM : 0.000249 kWh. RAM Power : 11.972930431365967 W\n",
      "[codecarbon INFO @ 16:02:40] Energy consumed for all GPUs : 0.000957 kWh. Total GPU Power : 45.89395089425992 W\n",
      "[codecarbon INFO @ 16:02:40] Energy consumed for all CPUs : 0.000678 kWh. Total CPU Power : 32.5 W\n",
      "[codecarbon INFO @ 16:02:40] 0.001884 kWh of electricity used since the beginning.\n",
      "[codecarbon INFO @ 16:02:40] Energy consumed for RAM : 0.000251 kWh. RAM Power : 11.972930431365967 W\n",
      "[codecarbon INFO @ 16:02:40] Energy consumed for all GPUs : 0.000966 kWh. Total GPU Power : 45.302527487633775 W\n",
      "[codecarbon INFO @ 16:02:40] Energy consumed for all CPUs : 0.000684 kWh. Total CPU Power : 32.5 W\n",
      "[codecarbon INFO @ 16:02:40] 0.001902 kWh of electricity used since the beginning.\n"
     ]
    }
   ],
   "source": [
    "from llama_cpp import Llama\n",
    "from codecarbon import EmissionsTracker\n",
    "\n",
    "path = './llms/llama-2-7b-chat.Q2_K.gguf'\n",
    "\n",
    "llm = Llama(model_path = path,\n",
    "            n_ctx = 512,\n",
    "            n_batch = 32)\n",
    "\n",
    "with EmissionsTracker() as tracker:\n",
    "\n",
    "    prompt = \"Is generative artificial intelligence a good news for climate change ?\"\n",
    "\n",
    "    output = llm(prompt,\n",
    "                max_tokens = -1,\n",
    "                echo = False,\n",
    "                temperature = 0.1,\n",
    "                top_p = 0.9)"
   ]
  },
  {
   "cell_type": "code",
   "execution_count": 41,
   "metadata": {},
   "outputs": [
    {
     "name": "stdout",
     "output_type": "stream",
     "text": [
      "\n",
      " Unterscheidung between the two types of AI, and how they can be applied to address the climate crisis.\n",
      "\n",
      "Generative AI refers to a type of artificial intelligence that has the ability to generate new content or data, such as images, videos, music, or text. This is in contrast to other types of AI, such as machine learning, which focuses on analyzing and learning from existing data. Generative AI has the potential to revolutionize many industries, including climate change mitigation and adaptation efforts.\n",
      "One area where generative AI can make a significant impact is in the field of climate modeling. Climate models are complex computer simulations that are used to predict future climate scenarios and evaluate the effectiveness of different climate change mitigation strategies. Generative AI can be used to improve the accuracy and resolution of these models, allowing for more detailed and reliable predictions of future climate scenarios. This can help policymakers make more informed decisions about how to address the climate crisis.\n",
      "Another area where generative AI can be applied is in the development of new climate technologies. For example, generative AI could be used to design new materials or systems that are more efficient and effective at capturing and storing carbon emissions. Or it could be used to develop new technologies for converting waste biomass into energy. By using generative AI to design and optimize these technologies, we can accelerate the transition to a low-carbon economy.\n",
      "Generative AI can also be applied to the field of climate communication. By generating visually striking and informative graphics, videos, and other visual content, generative AI can help to communicate complex climate science to a wider audience. This can help to raise awareness about the importance of addressing the climate crisis and inspire more people to take action.\n",
      "Finally, generative AI can be used to support climate change adaptation efforts. For example, it could be used to develop personalized weather forecasts for farmers, or to design more resilient infrastructure for coastal communities vulnerable to sea level rise. By using generative AI to improve our understanding of the climate and how it will change in the future, we can better prepare for and adapt to these changes.\n",
      "In conclusion, generative AI has the potential to make a significant impact on the field of climate change mitigation and\n"
     ]
    }
   ],
   "source": [
    "print(output['choices'][0]['text'])"
   ]
  },
  {
   "cell_type": "code",
   "execution_count": null,
   "metadata": {},
   "outputs": [],
   "source": []
  }
 ],
 "metadata": {
  "kernelspec": {
   "display_name": "Python 3",
   "language": "python",
   "name": "python3"
  },
  "language_info": {
   "codemirror_mode": {
    "name": "ipython",
    "version": 3
   },
   "file_extension": ".py",
   "mimetype": "text/x-python",
   "name": "python",
   "nbconvert_exporter": "python",
   "pygments_lexer": "ipython3",
   "version": "3.11.7"
  }
 },
 "nbformat": 4,
 "nbformat_minor": 2
}
