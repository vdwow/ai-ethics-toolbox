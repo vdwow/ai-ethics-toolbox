{
 "cells": [
  {
   "cell_type": "markdown",
   "metadata": {},
   "source": [
    "<a href=\"http://www.insa-toulouse.fr/\" ><img src=\"http://www.math.univ-toulouse.fr/~besse/Wikistat/Images/logo-insa.jpg\" style=\"height:80px; display: inline\"  alt=\"INSA\"/></a> "
   ]
  },
  {
   "cell_type": "markdown",
   "metadata": {},
   "source": [
    "# Tutoriel en python: Détecter, Mesurer, la Discrimination Indirecte des Algorithmes d'Apprentissage Statistique\n",
    "\n",
    "\n",
    "**Résumé**\n",
    "L'objectif de ce calepin est de proposer les codes en python permettant de reproduire une partie des résultats obtenus avec le [tutoriel en R](https://github.com/wikistat/Fair-ML-4-Ethical-AI/blob/master/AdultCensus/AdultCensus-R-biasDetectionCourt.ipynb) de détection et correction élémentaire des biais et discriminations. Il est  indispensable d'avoir exécuté et étudié le [tutoriel en R](https://github.com/wikistat/Fair-ML-4-Ethical-AI/blob/master/AdultCensus/AdultCensus-R-biasDetectionCourt.ipynb) très explicite pour la compréhension de la démarche avant d'exécuter celui-ci en Python pour s'approprier les codes nécessaires.\n",
    "\n",
    "**Remarques** \n",
    "- Tout le début: préparation des données et apprentissage des algorithmes reprend (copier coller) les codes du [tutoriel](https://github.com/wikistat/Apprentissage/blob/master/Adult-Census/Apprent-Python-AdultCensus.ipynb) du dépôt sur l'[apprentissage](https://github.com/wikistat/Apprentissage).\n",
    "- La production des codes de ce calepin a largement bénéficié de la contribution des étudiants de l'INSA de Toulouse, spécialité *Mathématiques Appliquées* promotion 2020, notamment celle de Paul Charnay et Emmeline Monnédières.\n",
    "- Ce tutoriel peut être exécuté en local après chargement ou clône du dépôt ou encore dans le nuage *Google Colab* en cliquant sur le lien ci-dessous:\n",
    "\n",
    "<a href=\"https://colab.research.google.com/github/wikistat/Fair-ML-4-Ethical-AI/blob/master/AdultCensus/AdultCensus-Python-biasDetection.ipynb\" target=\"_parent\"><img src=\"https://colab.research.google.com/assets/colab-badge.svg\" alt=\"Open In Colab\"/></a>"
   ]
  },
  {
   "cell_type": "markdown",
   "metadata": {},
   "source": [
    "## 1 Introduction\n",
    "### 1.1 Les données\n",
    "Des données publiques disponibles sur le site [UCI repository](http://archive.ics.uci.edu/ml/) sont extraites de la base de données issue du recensement réalisé aux Etats Unis en 1994. Les deux fichiers *train* et *test* on été réunis en un seul. Ces données son largement utilisées et font référence comme outil de *benchmark* pour comparer les performances de méthodes d’apprentissage. L’objectif est de prévoir, avec plus ou moins de biais, la variable binaire \"revenu annuel\" supérieur ou inférieur à 50k$. Cette prévision n'impacte pas la personne mais comme la démarche et le contexte sont tout à fait similaires à ce que pourrait faire une banque pour évaluer un risque de crédit, c'est exemple est très illustratif. Ce jeu de données est systématiquement utilisé (bac à sable) pour évaluer les propriétés des algorithmes d'apprentissage équitable ou loyal (*fair learning*) car, contrairement à beaucoup d'autres jeux de données utilisés pour cette fin (*e.g. german credit bank*), la vraie valeur de la variable cible est connue ainsi que l'origine ethnique des personnes concernées.\n",
    "\n",
    "Dans les données initiales, 48.842 individus sont décrits par les 14 variables du tableau ci-dessous:\n",
    "\n",
    "\n",
    "|Num|Libellé|Ensemble de valeurs|\n",
    "|-|---------:|-------------------:|\n",
    "|1|`Age`|real|\n",
    "|2|`workClass`|Private, Self-emp-not-inc, Self-emp-inc, Federal-gov, Local-gov, State-gov, Without-pay, Never-worked|\n",
    "|3|`fnlwgt`|real|\n",
    "|4|`education`|Bachelors, Some-college, 11th, HS-grad, Prof-school, Assoc-acdm, Assoc-voc, 9th, 7th-8th, 12th, Masters, 1st-4th, 10th, Doctorate, 5th-6th, Preschool|\n",
    "|5|`educNum`|integer|\n",
    "|6|`mariStat`|Married-civ-spouse, Divorced, Never-married, Separated, Widowed, Married-spouse-absent, Married-AF-spouse|\n",
    "|7|`occup`|Tech-support, Craft-repair, Other-service, Sales, Exec-managerial, Prof-specialty, Handlers-cleaners, Machine-op-inspct, Adm-clerical, Farming-fishing, Transport-moving, Priv-house-serv, Protective-serv, Armed-Forces|\n",
    "|8|`relationship`|Wife, Own-child, Husband, Not-in-family, Other-relative, Unmarried\n",
    "|9|`origEthn`|White, Asian-Pac-Islander, Amer-Indian-Eskimo, Other, Black|\n",
    "|10|`sex`|Female, Male|\n",
    "|11|`capitalGain`|real| \n",
    "|12|`capitalLoss`|real|\n",
    "|13|`hoursWeek`|real|\n",
    "|14|`nativCountry`|United-States, Cambodia, England, Puerto-Rico, Canada, Germany, Outlying-US(Guam-USVI-etc), India, Japan, Greece, South, China, Cuba, Iran, Honduras, Philippines, Italy, Poland, Jamaica, Vietnam, Mexico, Portugal, Ireland, France, Dominican-Republic, Laos, Ecuador, Taiwan, Haiti, Columbia, Hungary, Guatemala, Nicaragua, Scotland, Thailand, Yugoslavia, El-Salvador, Trinadad&Tobago, Peru, Hong, Holand-Netherlands|\n",
    "|15|`income`|>50K, <=50K|\n"
   ]
  },
  {
   "cell_type": "markdown",
   "metadata": {},
   "source": [
    "### 1.2 Préparation des données\n",
    "\n",
    "Le traitement commence par une préparation détaillée des données:\n",
    "- lecture et prise en charge des données en remarquant que la variable `fnlwgt` (Final sampling weight) a un [statut particulier](http://web.cs.wpi.edu/~cs4341/C00/Projects/fnlwgt) pas très clair; elle est éliminée;\n",
    "- suppression des observations présentant des données manquantes, erreurs ou incohérences,\n",
    "- regroupement des modalités trop rares, \n",
    "- suppression des variables redondantes. \n",
    "\n",
    "Cette phase est notoirement différente de la stratégie de Friedler et al. (2019) qui, par principe, analysent automatiquement toutes les données brutes sans le préalable d'une analyse statistique descriptive élémentaire.\n",
    "\n",
    "### 1.3 Estimation des biais\n",
    "\n",
    "Parmi tous les critères de biais existant susceptibles de mettre en évidence une discrimination indirecte (Zliobaitė, 2015)), trois sont privilégiés (cf. Vermat et Rubin, 2018): \n",
    "1. discrimination indirecte par l'effet disproportionné: *disparate impact* ou *demographic equality*\n",
    "2. comparaison des taux d'erreur conditionnels: *overall error equality*\n",
    "3. comparaison des rapports de cote: *Conditional procedure accuracy equality* ou *disparate mistreatment* ou *equalized odds*.\n",
    "\n",
    "L'effet disproportionné est considéré ici en priorité mais les outils  (fonctions) d'estimation par intervalle de confiance des autres biais sont fournis."
   ]
  },
  {
   "cell_type": "markdown",
   "metadata": {},
   "source": [
    "## 2 Pris en charge et exploration des données\n",
    "Lors de cette phase de travail, il y a deux points de vue radicalement différents. \n",
    "- Celui illustré par Friedler et al. (2019) consiste à entraîner un algorithme sur les données brutes sans exploration \"humaine\" préalable faisant appel à des compétences statistiques; par principe, tout est automatisé.\n",
    "- Celui proposé dans ce tutoriel est le résultat d'une démarche nécessitant des compétences élémentaires  statistiques pour explorer les données, comprendre leur structure, détecter les problèmes potentiels: données manquantes, atypiques, biais, classes rares, distributions \"anormales\"...) afin d'y remédier au mieux de l'intérêt de l'objectif poursuivi.\n",
    "\n",
    "Remarquons que ce deuxièmme point de vue de connaissance des données semble plus respectueux des [lignes directrices des experts de la CE pour une IA igne de confiance](https://ec.europa.eu/futurium/en/ai-alliance-consultation) et anticipe donc un futur réglement européen annoncé par le [livre blanc](https://ec.europa.eu/info/sites/info/files/commission-white-paper-artificial-intelligence-feb2020_fr.pdf).\n",
    "### 2.1 Lecture \n",
    "Deux possibilités pour charger les données issues du dépôt de l'UCI en fonction du mode d'exécution adopté; en local après avoir installé Python et ses librairies ou à distance dans le nuage *Google Colab*. \n",
    "1. Dans le premier cas, les données sont chargées en même temps que le dépôt *Github*, **changer le chemin d'accès en conséquence** en décommentant la commande `path` ci-dessous afin d'économiser le temps de chargement. \n",
    "2. Dans le deuxième cas, <a href=\"https://colab.research.google.com/github/wikistat/Fair-ML-4-Ethical-AI/blob/master/AdultCensus/AdultCensus-Python-biasDetection.ipynb\" target=\"_parent\"><img src=\"https://colab.research.google.com/assets/colab-badge.svg\" alt=\"Open In Colab\"/></a>\n",
    "les données sont chargées et lues dans l'environnement de *Google Colab*; il est nécessaire d'exécuter la cellule suivante:"
   ]
  },
  {
   "cell_type": "code",
   "execution_count": 1,
   "metadata": {
    "ExecuteTime": {
     "end_time": "2020-03-15T07:21:52.420370Z",
     "start_time": "2020-03-15T07:21:51.845027Z"
    }
   },
   "outputs": [
    {
     "data": {
      "text/html": [
       "<div>\n",
       "<style scoped>\n",
       "    .dataframe tbody tr th:only-of-type {\n",
       "        vertical-align: middle;\n",
       "    }\n",
       "\n",
       "    .dataframe tbody tr th {\n",
       "        vertical-align: top;\n",
       "    }\n",
       "\n",
       "    .dataframe thead th {\n",
       "        text-align: right;\n",
       "    }\n",
       "</style>\n",
       "<table border=\"1\" class=\"dataframe\">\n",
       "  <thead>\n",
       "    <tr style=\"text-align: right;\">\n",
       "      <th></th>\n",
       "      <th>age</th>\n",
       "      <th>workClass</th>\n",
       "      <th>fnlwgt</th>\n",
       "      <th>education</th>\n",
       "      <th>educNum</th>\n",
       "      <th>mariStat</th>\n",
       "      <th>occup</th>\n",
       "      <th>relationship</th>\n",
       "      <th>origEthn</th>\n",
       "      <th>sex</th>\n",
       "      <th>capitalGain</th>\n",
       "      <th>capitalLoss</th>\n",
       "      <th>hoursWeek</th>\n",
       "      <th>nativCountry</th>\n",
       "      <th>income</th>\n",
       "    </tr>\n",
       "  </thead>\n",
       "  <tbody>\n",
       "    <tr>\n",
       "      <th>0</th>\n",
       "      <td>39</td>\n",
       "      <td>State-gov</td>\n",
       "      <td>77516</td>\n",
       "      <td>Bachelors</td>\n",
       "      <td>13</td>\n",
       "      <td>Never-married</td>\n",
       "      <td>Adm-clerical</td>\n",
       "      <td>Not-in-family</td>\n",
       "      <td>White</td>\n",
       "      <td>Male</td>\n",
       "      <td>2174</td>\n",
       "      <td>0</td>\n",
       "      <td>40</td>\n",
       "      <td>United-States</td>\n",
       "      <td>&lt;=50K</td>\n",
       "    </tr>\n",
       "    <tr>\n",
       "      <th>1</th>\n",
       "      <td>50</td>\n",
       "      <td>Self-emp-not-inc</td>\n",
       "      <td>83311</td>\n",
       "      <td>Bachelors</td>\n",
       "      <td>13</td>\n",
       "      <td>Married-civ-spouse</td>\n",
       "      <td>Exec-managerial</td>\n",
       "      <td>Husband</td>\n",
       "      <td>White</td>\n",
       "      <td>Male</td>\n",
       "      <td>0</td>\n",
       "      <td>0</td>\n",
       "      <td>13</td>\n",
       "      <td>United-States</td>\n",
       "      <td>&lt;=50K</td>\n",
       "    </tr>\n",
       "    <tr>\n",
       "      <th>2</th>\n",
       "      <td>38</td>\n",
       "      <td>Private</td>\n",
       "      <td>215646</td>\n",
       "      <td>HS-grad</td>\n",
       "      <td>9</td>\n",
       "      <td>Divorced</td>\n",
       "      <td>Handlers-cleaners</td>\n",
       "      <td>Not-in-family</td>\n",
       "      <td>White</td>\n",
       "      <td>Male</td>\n",
       "      <td>0</td>\n",
       "      <td>0</td>\n",
       "      <td>40</td>\n",
       "      <td>United-States</td>\n",
       "      <td>&lt;=50K</td>\n",
       "    </tr>\n",
       "    <tr>\n",
       "      <th>3</th>\n",
       "      <td>53</td>\n",
       "      <td>Private</td>\n",
       "      <td>234721</td>\n",
       "      <td>11th</td>\n",
       "      <td>7</td>\n",
       "      <td>Married-civ-spouse</td>\n",
       "      <td>Handlers-cleaners</td>\n",
       "      <td>Husband</td>\n",
       "      <td>Black</td>\n",
       "      <td>Male</td>\n",
       "      <td>0</td>\n",
       "      <td>0</td>\n",
       "      <td>40</td>\n",
       "      <td>United-States</td>\n",
       "      <td>&lt;=50K</td>\n",
       "    </tr>\n",
       "    <tr>\n",
       "      <th>4</th>\n",
       "      <td>28</td>\n",
       "      <td>Private</td>\n",
       "      <td>338409</td>\n",
       "      <td>Bachelors</td>\n",
       "      <td>13</td>\n",
       "      <td>Married-civ-spouse</td>\n",
       "      <td>Prof-specialty</td>\n",
       "      <td>Wife</td>\n",
       "      <td>Black</td>\n",
       "      <td>Female</td>\n",
       "      <td>0</td>\n",
       "      <td>0</td>\n",
       "      <td>40</td>\n",
       "      <td>Cuba</td>\n",
       "      <td>&lt;=50K</td>\n",
       "    </tr>\n",
       "  </tbody>\n",
       "</table>\n",
       "</div>"
      ],
      "text/plain": [
       "   age          workClass  fnlwgt   education  educNum             mariStat  \\\n",
       "0   39          State-gov   77516   Bachelors       13        Never-married   \n",
       "1   50   Self-emp-not-inc   83311   Bachelors       13   Married-civ-spouse   \n",
       "2   38            Private  215646     HS-grad        9             Divorced   \n",
       "3   53            Private  234721        11th        7   Married-civ-spouse   \n",
       "4   28            Private  338409   Bachelors       13   Married-civ-spouse   \n",
       "\n",
       "                occup    relationship origEthn      sex  capitalGain  \\\n",
       "0        Adm-clerical   Not-in-family    White     Male         2174   \n",
       "1     Exec-managerial         Husband    White     Male            0   \n",
       "2   Handlers-cleaners   Not-in-family    White     Male            0   \n",
       "3   Handlers-cleaners         Husband    Black     Male            0   \n",
       "4      Prof-specialty            Wife    Black   Female            0   \n",
       "\n",
       "   capitalLoss  hoursWeek    nativCountry  income  \n",
       "0            0         40   United-States   <=50K  \n",
       "1            0         13   United-States   <=50K  \n",
       "2            0         40   United-States   <=50K  \n",
       "3            0         40   United-States   <=50K  \n",
       "4            0         40            Cuba   <=50K  "
      ]
     },
     "execution_count": 1,
     "metadata": {},
     "output_type": "execute_result"
    }
   ],
   "source": [
    "%matplotlib inline\n",
    "# Importations \n",
    "import matplotlib.pyplot as plt\n",
    "import pandas as pd\n",
    "import numpy as np\n",
    "import scipy\n",
    "adult=pd.read_csv('adultTrainTest.csv')\n",
    "adult.head()"
   ]
  },
  {
   "cell_type": "markdown",
   "metadata": {},
   "source": [
    "### 2.2 Regroupement des modalités trop peu fréquentes"
   ]
  },
  {
   "cell_type": "code",
   "execution_count": 2,
   "metadata": {
    "ExecuteTime": {
     "end_time": "2020-03-15T07:21:52.427229Z",
     "start_time": "2020-03-15T07:21:52.422816Z"
    }
   },
   "outputs": [],
   "source": [
    "def create_categorical_data(df, column_name):\n",
    "    cat_columns = pd.Categorical(df[column_name], ordered=False)\n",
    "    return cat_columns"
   ]
  },
  {
   "cell_type": "code",
   "execution_count": 3,
   "metadata": {
    "ExecuteTime": {
     "end_time": "2020-03-15T07:21:52.441096Z",
     "start_time": "2020-03-15T07:21:52.430168Z"
    }
   },
   "outputs": [
    {
     "name": "stdout",
     "output_type": "stream",
     "text": [
      "[' Divorced' ' Married-AF-spouse' ' Married-civ-spouse'\n",
      " ' Married-spouse-absent' ' Never-married' ' Separated' ' Widowed']\n"
     ]
    }
   ],
   "source": [
    "print(np.sort(adult[\"mariStat\"].unique()))"
   ]
  },
  {
   "cell_type": "code",
   "execution_count": 4,
   "metadata": {
    "ExecuteTime": {
     "end_time": "2020-03-15T07:21:52.457357Z",
     "start_time": "2020-03-15T07:21:52.443414Z"
    }
   },
   "outputs": [],
   "source": [
    "# mariStat\n",
    "cat_name_dic = {\" Never-married\": \"Never-Married\", \" Married-AF-spouse\": \"Married\",\n",
    "                \" Married-civ-spouse\": \"Married\", \" Married-spouse-absent\": \"Not-Married\",\n",
    "                \" Separated\": \"Not-Married\", \" Divorced\": \"Not-Married\", \" Widowed\": \"Widowed\"}\n",
    "adult['mariStat'] = adult.mariStat.map(cat_name_dic)"
   ]
  },
  {
   "cell_type": "code",
   "execution_count": 5,
   "metadata": {
    "ExecuteTime": {
     "end_time": "2020-03-15T07:21:52.466956Z",
     "start_time": "2020-03-15T07:21:52.459275Z"
    }
   },
   "outputs": [
    {
     "name": "stdout",
     "output_type": "stream",
     "text": [
      "[' ?' ' Cambodia' ' Canada' ' China' ' Columbia' ' Cuba'\n",
      " ' Dominican-Republic' ' Ecuador' ' El-Salvador' ' England' ' France'\n",
      " ' Germany' ' Greece' ' Guatemala' ' Haiti' ' Holand-Netherlands'\n",
      " ' Honduras' ' Hong' ' Hungary' ' India' ' Iran' ' Ireland' ' Italy'\n",
      " ' Jamaica' ' Japan' ' Laos' ' Mexico' ' Nicaragua'\n",
      " ' Outlying-US(Guam-USVI-etc)' ' Peru' ' Philippines' ' Poland'\n",
      " ' Portugal' ' Puerto-Rico' ' Scotland' ' South' ' Taiwan' ' Thailand'\n",
      " ' Trinadad&Tobago' ' United-States' ' Vietnam' ' Yugoslavia']\n"
     ]
    }
   ],
   "source": [
    "print(np.sort(adult[\"nativCountry\"].unique()))"
   ]
  },
  {
   "cell_type": "code",
   "execution_count": 6,
   "metadata": {
    "ExecuteTime": {
     "end_time": "2020-03-15T07:21:52.491965Z",
     "start_time": "2020-03-15T07:21:52.468699Z"
    }
   },
   "outputs": [],
   "source": [
    "# nativCountry\n",
    "cat_country = {\" Cambodia\": \"SE-Asia\", \" Canada\": \"British-Commonwealth\", \" China\": \"China\", \" Columbia\": \"South-America\",\n",
    "               \" Cuba\": \"Other\", \" Dominican-Republic\": \"Latin-America\", \" Ecuador\": \"South-America\",\n",
    "               \" El-Salvador\": \"South-America\", \" England\": \"British-Commonwealth\", \" France\": \"Euro_1\",\n",
    "               \" Germany\": \"Euro_1\", \" Greece\": \"Euro_2\", \" Guatemala\": \"Latin-America\", \" Haiti\": \"Latin-America\",\n",
    "               \" Holand-Netherlands\": \"Euro_1\", \" Honduras\": \"Latin-America\", \" Hong\": \"China\", \" Hungary\": \"Euro_2\",\n",
    "               \" India\": \"British-Commonwealth\", \" Iran\": \"Other\", \" Ireland\": \"British-Commonwealth\", \" Italy\": \"Euro_1\",\n",
    "               \" Jamaica\": \"Latin-America\", \" Japan\": \"Other\", \" Laos\": \"SE-Asia\", \" Mexico\": \"Latin-America\",\n",
    "               \" Nicaragua\": \"Latin-America\", \" Outlying-US(Guam-USVI-etc)\": \"Latin-America\", \" Peru\": \"South-America\",\n",
    "               \" Philippines\": \"SE-Asia\", \" Poland\": \"Euro_2\", \" Portugal\": \"Euro_2\", \" Puerto-Rico\": \"Latin-America\",\n",
    "               \" Scotland\": \"British-Commonwealth\", \" South\": \"Euro_2\", \" Taiwan\": \"China\", \" Thailand\": \"SE-Asia\",\n",
    "               \" Trinadad&Tobago\": \"Latin-America\", \" Vietnam\": \"SE-Asia\", \" United-States\": \"United-States\",\n",
    "               \" Yugoslavia\": \"Euro_2\"}\n",
    "adult[\"nativCountry\"] = adult.nativCountry.map(cat_country)"
   ]
  },
  {
   "cell_type": "code",
   "execution_count": 7,
   "metadata": {
    "ExecuteTime": {
     "end_time": "2020-03-15T07:21:52.504730Z",
     "start_time": "2020-03-15T07:21:52.494379Z"
    }
   },
   "outputs": [
    {
     "name": "stdout",
     "output_type": "stream",
     "text": [
      "[' 10th' ' 11th' ' 12th' ' 1st-4th' ' 5th-6th' ' 7th-8th' ' 9th'\n",
      " ' Assoc-acdm' ' Assoc-voc' ' Bachelors' ' Doctorate' ' HS-grad'\n",
      " ' Masters' ' Preschool' ' Prof-school' ' Some-college']\n"
     ]
    }
   ],
   "source": [
    "print(np.sort(adult[\"education\"].unique()))"
   ]
  },
  {
   "cell_type": "code",
   "execution_count": 8,
   "metadata": {
    "ExecuteTime": {
     "end_time": "2020-03-15T07:21:52.521822Z",
     "start_time": "2020-03-15T07:21:52.507850Z"
    }
   },
   "outputs": [],
   "source": [
    "# education\n",
    "cat_educ = {\" 10th\": \"Dropout\", \" 11th\": \"Dropout\", \" 12th\": \"Dropout\", \" 1st-4th\": \"Dropout\", \" 5th-6th\": \"Dropout\",\n",
    "            \" 7th-8th\": \"Dropout\", \" 9th\": \"Dropout\", \" Assoc-acdm\": \"Associates\", \" Assoc-voc\": \"Associates\",\n",
    "            \" Bachelors\": \"Bachelors\", \" Doctorate\": \"Doctorate\", \" HS-grad\": \"HS-grad\", \" Masters\": \"Masters\",\n",
    "            \" Preschool\": \"Dropout\", \" Prof-school\": \"Prof-School\", \" Some-college\": \"HS-Graduate\"}\n",
    "adult[\"education\"] = adult.education.map(cat_educ)"
   ]
  },
  {
   "cell_type": "code",
   "execution_count": 9,
   "metadata": {
    "ExecuteTime": {
     "end_time": "2020-03-15T07:21:52.536215Z",
     "start_time": "2020-03-15T07:21:52.524801Z"
    }
   },
   "outputs": [
    {
     "name": "stdout",
     "output_type": "stream",
     "text": [
      "[' ?' ' Federal-gov' ' Local-gov' ' Never-worked' ' Private'\n",
      " ' Self-emp-inc' ' Self-emp-not-inc' ' State-gov' ' Without-pay']\n"
     ]
    }
   ],
   "source": [
    "print(np.sort(adult[\"workClass\"].unique()))"
   ]
  },
  {
   "cell_type": "code",
   "execution_count": 10,
   "metadata": {
    "ExecuteTime": {
     "end_time": "2020-03-15T07:21:52.559389Z",
     "start_time": "2020-03-15T07:21:52.538679Z"
    }
   },
   "outputs": [],
   "source": [
    "# workClass\n",
    "cat_work = {\" Federal-gov\": \"Federal-Govt\", \" Local-gov\": \"Other-Govt\", \" State-gov\": \"Other-Govt\", \" Private\": \"Private\",\n",
    "            \" Self-emp-inc\": \"Self-Employed\", \" Self-emp-not-inc\": \"Self-Employed\", \" Without-pay\": \"Not-Working\",\n",
    "            \" Never-worked\": \"Not-Working\"}\n",
    "adult[\"workClass\"] = adult.workClass.map(cat_work)"
   ]
  },
  {
   "cell_type": "code",
   "execution_count": 11,
   "metadata": {
    "ExecuteTime": {
     "end_time": "2020-03-15T07:21:52.575604Z",
     "start_time": "2020-03-15T07:21:52.561709Z"
    }
   },
   "outputs": [
    {
     "name": "stdout",
     "output_type": "stream",
     "text": [
      "[' ?' ' Adm-clerical' ' Armed-Forces' ' Craft-repair' ' Exec-managerial'\n",
      " ' Farming-fishing' ' Handlers-cleaners' ' Machine-op-inspct'\n",
      " ' Other-service' ' Priv-house-serv' ' Prof-specialty' ' Protective-serv'\n",
      " ' Sales' ' Tech-support' ' Transport-moving']\n"
     ]
    }
   ],
   "source": [
    "print(np.sort(adult[\"occup\"].unique()))"
   ]
  },
  {
   "cell_type": "code",
   "execution_count": 12,
   "metadata": {
    "ExecuteTime": {
     "end_time": "2020-03-15T07:21:52.593468Z",
     "start_time": "2020-03-15T07:21:52.577916Z"
    }
   },
   "outputs": [],
   "source": [
    "# occup\n",
    "cat_occup = {\" Adm-clerical\": \"Admin\", \" Craft-repair\": \"Blue-Collar\", \" Exec-managerial\": \"White-Collar\",\n",
    "             \" Farming-fishing\": \"Blue-Collar\", \" Handlers-cleaners\": \"Blue-Collar\", \" Machine-op-inspct\": \"Blue-Collar\",\n",
    "             \" Other-service\": \"Service\", \" Priv-house-serv\": \"Service\", \" Prof-specialty\": \"Professional\",\n",
    "             \" Protective-serv\": \"Other-occups\", \" Sales\": \"Sales\", \" Tech-support\": \"Other-occups\",\n",
    "             \" Transport-moving\": \"Blue-Collar\"}\n",
    "adult[\"occup\"] = adult.occup.map(cat_occup)"
   ]
  },
  {
   "cell_type": "code",
   "execution_count": 13,
   "metadata": {
    "ExecuteTime": {
     "end_time": "2020-03-15T07:21:52.609086Z",
     "start_time": "2020-03-15T07:21:52.595392Z"
    }
   },
   "outputs": [
    {
     "name": "stdout",
     "output_type": "stream",
     "text": [
      "[' Amer-Indian-Eskimo' ' Asian-Pac-Islander' ' Black' ' Other' ' White']\n"
     ]
    }
   ],
   "source": [
    "print(np.sort(adult[\"origEthn\"].unique()))"
   ]
  },
  {
   "cell_type": "code",
   "execution_count": 14,
   "metadata": {
    "ExecuteTime": {
     "end_time": "2020-03-15T07:21:52.624534Z",
     "start_time": "2020-03-15T07:21:52.611595Z"
    }
   },
   "outputs": [],
   "source": [
    "# origEthn\n",
    "cat_orig = {\" White\": \"CaucYes\", \" Black\": \"CaucNo\", \" Amer-Indian-Eskimo\": \"CaucNo\", \" Asian-Pac-Islander\": \"CaucNo\",\n",
    "            \" Other\": \"CaucNo\"}\n",
    "adult[\"origEthn\"] = adult.origEthn.map(cat_orig)"
   ]
  },
  {
   "cell_type": "code",
   "execution_count": 15,
   "metadata": {
    "ExecuteTime": {
     "end_time": "2020-03-15T07:21:52.637060Z",
     "start_time": "2020-03-15T07:21:52.626654Z"
    }
   },
   "outputs": [
    {
     "name": "stdout",
     "output_type": "stream",
     "text": [
      "[' <=50K' ' >50K']\n"
     ]
    }
   ],
   "source": [
    "print(np.sort(adult[\"income\"].unique()))"
   ]
  },
  {
   "cell_type": "code",
   "execution_count": 16,
   "metadata": {
    "ExecuteTime": {
     "end_time": "2020-03-15T07:21:52.646057Z",
     "start_time": "2020-03-15T07:21:52.639238Z"
    }
   },
   "outputs": [],
   "source": [
    "def create_categorical_data_rename(df, column_name, cat_name_dic):\n",
    "    cat_columns = pd.Categorical(df[column_name], ordered=False)\n",
    "    new_categorie = [cat_name_dic[old_name] for old_name in cat_columns.categories]\n",
    "    return cat_columns.rename_categories(new_categorie)"
   ]
  },
  {
   "cell_type": "code",
   "execution_count": 17,
   "metadata": {
    "ExecuteTime": {
     "end_time": "2020-03-15T07:21:52.660305Z",
     "start_time": "2020-03-15T07:21:52.648095Z"
    }
   },
   "outputs": [],
   "source": [
    "adult[\"income\"] = create_categorical_data_rename(adult, \"income\", {\" <=50K\": \"incLow\", \" >50K\": \"incHigh\"})"
   ]
  },
  {
   "cell_type": "code",
   "execution_count": 18,
   "metadata": {
    "ExecuteTime": {
     "end_time": "2020-03-15T07:21:52.708650Z",
     "start_time": "2020-03-15T07:21:52.662253Z"
    }
   },
   "outputs": [],
   "source": [
    "for name in [\"workClass\", \"education\", \"mariStat\", \"occup\", \"relationship\", \"origEthn\", \"sex\", \"nativCountry\"]:\n",
    "    adult[name] = create_categorical_data(adult, name)"
   ]
  },
  {
   "cell_type": "markdown",
   "metadata": {},
   "source": [
    "### 2.3 Transformations de variables quantitatives\n",
    "Les distributions sont trop disymétriques pour intégrer un modèle linéaire sensible à des valeurs extrêmes."
   ]
  },
  {
   "cell_type": "code",
   "execution_count": 19,
   "metadata": {
    "ExecuteTime": {
     "end_time": "2020-03-15T07:21:52.940161Z",
     "start_time": "2020-03-15T07:21:52.710395Z"
    }
   },
   "outputs": [
    {
     "data": {
      "image/png": "[encoded data removed]",
      "text/plain": [
       "<Figure size 432x288 with 1 Axes>"
      ]
     },
     "metadata": {
      "needs_background": "light"
     },
     "output_type": "display_data"
    }
   ],
   "source": [
    "adult[\"capitalGain\"].hist()\n",
    "plt.show()"
   ]
  },
  {
   "cell_type": "code",
   "execution_count": 20,
   "metadata": {
    "ExecuteTime": {
     "end_time": "2020-03-15T07:21:52.963102Z",
     "start_time": "2020-03-15T07:21:52.942543Z"
    }
   },
   "outputs": [],
   "source": [
    "adult[\"LcapitalGain\"] = np.log(1 + adult[\"capitalGain\"])\n",
    "adult[\"LcapitalLoss\"] = np.log(1 + adult[\"capitalLoss\"])"
   ]
  },
  {
   "cell_type": "markdown",
   "metadata": {},
   "source": [
    "### 2.4 Suppressions de données manquantes ou incohérentes"
   ]
  },
  {
   "cell_type": "code",
   "execution_count": 21,
   "metadata": {
    "ExecuteTime": {
     "end_time": "2020-03-15T07:21:53.014553Z",
     "start_time": "2020-03-15T07:21:52.965502Z"
    }
   },
   "outputs": [
    {
     "data": {
      "text/html": [
       "<div>\n",
       "<style scoped>\n",
       "    .dataframe tbody tr th:only-of-type {\n",
       "        vertical-align: middle;\n",
       "    }\n",
       "\n",
       "    .dataframe tbody tr th {\n",
       "        vertical-align: top;\n",
       "    }\n",
       "\n",
       "    .dataframe thead th {\n",
       "        text-align: right;\n",
       "    }\n",
       "</style>\n",
       "<table border=\"1\" class=\"dataframe\">\n",
       "  <thead>\n",
       "    <tr style=\"text-align: right;\">\n",
       "      <th></th>\n",
       "      <th>age</th>\n",
       "      <th>workClass</th>\n",
       "      <th>fnlwgt</th>\n",
       "      <th>education</th>\n",
       "      <th>educNum</th>\n",
       "      <th>mariStat</th>\n",
       "      <th>occup</th>\n",
       "      <th>relationship</th>\n",
       "      <th>origEthn</th>\n",
       "      <th>sex</th>\n",
       "      <th>capitalGain</th>\n",
       "      <th>capitalLoss</th>\n",
       "      <th>hoursWeek</th>\n",
       "      <th>nativCountry</th>\n",
       "      <th>income</th>\n",
       "      <th>LcapitalGain</th>\n",
       "      <th>LcapitalLoss</th>\n",
       "    </tr>\n",
       "  </thead>\n",
       "  <tbody>\n",
       "    <tr>\n",
       "      <th>0</th>\n",
       "      <td>39</td>\n",
       "      <td>Other-Govt</td>\n",
       "      <td>77516</td>\n",
       "      <td>Bachelors</td>\n",
       "      <td>13</td>\n",
       "      <td>Never-Married</td>\n",
       "      <td>Admin</td>\n",
       "      <td>Not-in-family</td>\n",
       "      <td>CaucYes</td>\n",
       "      <td>Male</td>\n",
       "      <td>2174</td>\n",
       "      <td>0</td>\n",
       "      <td>40</td>\n",
       "      <td>United-States</td>\n",
       "      <td>incLow</td>\n",
       "      <td>7.684784</td>\n",
       "      <td>0.0</td>\n",
       "    </tr>\n",
       "    <tr>\n",
       "      <th>1</th>\n",
       "      <td>50</td>\n",
       "      <td>Self-Employed</td>\n",
       "      <td>83311</td>\n",
       "      <td>Bachelors</td>\n",
       "      <td>13</td>\n",
       "      <td>Married</td>\n",
       "      <td>White-Collar</td>\n",
       "      <td>Husband</td>\n",
       "      <td>CaucYes</td>\n",
       "      <td>Male</td>\n",
       "      <td>0</td>\n",
       "      <td>0</td>\n",
       "      <td>13</td>\n",
       "      <td>United-States</td>\n",
       "      <td>incLow</td>\n",
       "      <td>0.000000</td>\n",
       "      <td>0.0</td>\n",
       "    </tr>\n",
       "    <tr>\n",
       "      <th>2</th>\n",
       "      <td>38</td>\n",
       "      <td>Private</td>\n",
       "      <td>215646</td>\n",
       "      <td>HS-grad</td>\n",
       "      <td>9</td>\n",
       "      <td>Not-Married</td>\n",
       "      <td>Blue-Collar</td>\n",
       "      <td>Not-in-family</td>\n",
       "      <td>CaucYes</td>\n",
       "      <td>Male</td>\n",
       "      <td>0</td>\n",
       "      <td>0</td>\n",
       "      <td>40</td>\n",
       "      <td>United-States</td>\n",
       "      <td>incLow</td>\n",
       "      <td>0.000000</td>\n",
       "      <td>0.0</td>\n",
       "    </tr>\n",
       "    <tr>\n",
       "      <th>3</th>\n",
       "      <td>53</td>\n",
       "      <td>Private</td>\n",
       "      <td>234721</td>\n",
       "      <td>Dropout</td>\n",
       "      <td>7</td>\n",
       "      <td>Married</td>\n",
       "      <td>Blue-Collar</td>\n",
       "      <td>Husband</td>\n",
       "      <td>CaucNo</td>\n",
       "      <td>Male</td>\n",
       "      <td>0</td>\n",
       "      <td>0</td>\n",
       "      <td>40</td>\n",
       "      <td>United-States</td>\n",
       "      <td>incLow</td>\n",
       "      <td>0.000000</td>\n",
       "      <td>0.0</td>\n",
       "    </tr>\n",
       "    <tr>\n",
       "      <th>4</th>\n",
       "      <td>28</td>\n",
       "      <td>Private</td>\n",
       "      <td>338409</td>\n",
       "      <td>Bachelors</td>\n",
       "      <td>13</td>\n",
       "      <td>Married</td>\n",
       "      <td>Professional</td>\n",
       "      <td>Wife</td>\n",
       "      <td>CaucNo</td>\n",
       "      <td>Female</td>\n",
       "      <td>0</td>\n",
       "      <td>0</td>\n",
       "      <td>40</td>\n",
       "      <td>Other</td>\n",
       "      <td>incLow</td>\n",
       "      <td>0.000000</td>\n",
       "      <td>0.0</td>\n",
       "    </tr>\n",
       "  </tbody>\n",
       "</table>\n",
       "</div>"
      ],
      "text/plain": [
       "   age      workClass  fnlwgt  education  educNum       mariStat  \\\n",
       "0   39     Other-Govt   77516  Bachelors       13  Never-Married   \n",
       "1   50  Self-Employed   83311  Bachelors       13        Married   \n",
       "2   38        Private  215646    HS-grad        9    Not-Married   \n",
       "3   53        Private  234721    Dropout        7        Married   \n",
       "4   28        Private  338409  Bachelors       13        Married   \n",
       "\n",
       "          occup    relationship origEthn      sex  capitalGain  capitalLoss  \\\n",
       "0         Admin   Not-in-family  CaucYes     Male         2174            0   \n",
       "1  White-Collar         Husband  CaucYes     Male            0            0   \n",
       "2   Blue-Collar   Not-in-family  CaucYes     Male            0            0   \n",
       "3   Blue-Collar         Husband   CaucNo     Male            0            0   \n",
       "4  Professional            Wife   CaucNo   Female            0            0   \n",
       "\n",
       "   hoursWeek   nativCountry  income  LcapitalGain  LcapitalLoss  \n",
       "0         40  United-States  incLow      7.684784           0.0  \n",
       "1         13  United-States  incLow      0.000000           0.0  \n",
       "2         40  United-States  incLow      0.000000           0.0  \n",
       "3         40  United-States  incLow      0.000000           0.0  \n",
       "4         40          Other  incLow      0.000000           0.0  "
      ]
     },
     "execution_count": 21,
     "metadata": {},
     "output_type": "execute_result"
    }
   ],
   "source": [
    "adult = adult[np.logical_not(adult.isnull().any(axis=1))]\n",
    "adult.head()"
   ]
  },
  {
   "cell_type": "code",
   "execution_count": 22,
   "metadata": {
    "ExecuteTime": {
     "end_time": "2020-03-15T07:21:53.040217Z",
     "start_time": "2020-03-15T07:21:53.017035Z"
    }
   },
   "outputs": [],
   "source": [
    "adult = adult[(adult[\"sex\"] != \"Female\") | (adult[\"relationship\"] != \"Husband\")]\n",
    "adult = adult[(adult[\"sex\"] != \"Male\") | (adult[\"relationship\"] != \"Wife\")]"
   ]
  },
  {
   "cell_type": "markdown",
   "metadata": {},
   "source": [
    "### 2.5 Description statistique élémentaire\n",
    "Mettre en évidence des difficultés présentes sur certaines variables ou couples de variables."
   ]
  },
  {
   "cell_type": "code",
   "execution_count": 23,
   "metadata": {
    "ExecuteTime": {
     "end_time": "2020-03-15T07:21:53.107296Z",
     "start_time": "2020-03-15T07:21:53.043096Z"
    }
   },
   "outputs": [
    {
     "data": {
      "text/html": [
       "<div>\n",
       "<style scoped>\n",
       "    .dataframe tbody tr th:only-of-type {\n",
       "        vertical-align: middle;\n",
       "    }\n",
       "\n",
       "    .dataframe tbody tr th {\n",
       "        vertical-align: top;\n",
       "    }\n",
       "\n",
       "    .dataframe thead th {\n",
       "        text-align: right;\n",
       "    }\n",
       "</style>\n",
       "<table border=\"1\" class=\"dataframe\">\n",
       "  <thead>\n",
       "    <tr style=\"text-align: right;\">\n",
       "      <th></th>\n",
       "      <th>age</th>\n",
       "      <th>fnlwgt</th>\n",
       "      <th>educNum</th>\n",
       "      <th>capitalGain</th>\n",
       "      <th>capitalLoss</th>\n",
       "      <th>hoursWeek</th>\n",
       "      <th>LcapitalGain</th>\n",
       "      <th>LcapitalLoss</th>\n",
       "    </tr>\n",
       "  </thead>\n",
       "  <tbody>\n",
       "    <tr>\n",
       "      <th>count</th>\n",
       "      <td>45208.000000</td>\n",
       "      <td>4.520800e+04</td>\n",
       "      <td>45208.000000</td>\n",
       "      <td>45208.000000</td>\n",
       "      <td>45208.000000</td>\n",
       "      <td>45208.000000</td>\n",
       "      <td>45208.000000</td>\n",
       "      <td>45208.000000</td>\n",
       "    </tr>\n",
       "    <tr>\n",
       "      <th>mean</th>\n",
       "      <td>38.550035</td>\n",
       "      <td>1.897257e+05</td>\n",
       "      <td>10.118298</td>\n",
       "      <td>1101.610003</td>\n",
       "      <td>88.581114</td>\n",
       "      <td>40.937776</td>\n",
       "      <td>0.740792</td>\n",
       "      <td>0.355432</td>\n",
       "    </tr>\n",
       "    <tr>\n",
       "      <th>std</th>\n",
       "      <td>13.218340</td>\n",
       "      <td>1.056474e+05</td>\n",
       "      <td>2.552960</td>\n",
       "      <td>7507.512510</td>\n",
       "      <td>404.927674</td>\n",
       "      <td>12.007784</td>\n",
       "      <td>2.466579</td>\n",
       "      <td>1.595791</td>\n",
       "    </tr>\n",
       "    <tr>\n",
       "      <th>min</th>\n",
       "      <td>17.000000</td>\n",
       "      <td>1.349200e+04</td>\n",
       "      <td>1.000000</td>\n",
       "      <td>0.000000</td>\n",
       "      <td>0.000000</td>\n",
       "      <td>1.000000</td>\n",
       "      <td>0.000000</td>\n",
       "      <td>0.000000</td>\n",
       "    </tr>\n",
       "    <tr>\n",
       "      <th>25%</th>\n",
       "      <td>28.000000</td>\n",
       "      <td>1.173810e+05</td>\n",
       "      <td>9.000000</td>\n",
       "      <td>0.000000</td>\n",
       "      <td>0.000000</td>\n",
       "      <td>40.000000</td>\n",
       "      <td>0.000000</td>\n",
       "      <td>0.000000</td>\n",
       "    </tr>\n",
       "    <tr>\n",
       "      <th>50%</th>\n",
       "      <td>37.000000</td>\n",
       "      <td>1.783120e+05</td>\n",
       "      <td>10.000000</td>\n",
       "      <td>0.000000</td>\n",
       "      <td>0.000000</td>\n",
       "      <td>40.000000</td>\n",
       "      <td>0.000000</td>\n",
       "      <td>0.000000</td>\n",
       "    </tr>\n",
       "    <tr>\n",
       "      <th>75%</th>\n",
       "      <td>47.000000</td>\n",
       "      <td>2.379155e+05</td>\n",
       "      <td>13.000000</td>\n",
       "      <td>0.000000</td>\n",
       "      <td>0.000000</td>\n",
       "      <td>45.000000</td>\n",
       "      <td>0.000000</td>\n",
       "      <td>0.000000</td>\n",
       "    </tr>\n",
       "    <tr>\n",
       "      <th>max</th>\n",
       "      <td>90.000000</td>\n",
       "      <td>1.490400e+06</td>\n",
       "      <td>16.000000</td>\n",
       "      <td>99999.000000</td>\n",
       "      <td>4356.000000</td>\n",
       "      <td>99.000000</td>\n",
       "      <td>11.512925</td>\n",
       "      <td>8.379539</td>\n",
       "    </tr>\n",
       "  </tbody>\n",
       "</table>\n",
       "</div>"
      ],
      "text/plain": [
       "                age        fnlwgt       educNum   capitalGain   capitalLoss  \\\n",
       "count  45208.000000  4.520800e+04  45208.000000  45208.000000  45208.000000   \n",
       "mean      38.550035  1.897257e+05     10.118298   1101.610003     88.581114   \n",
       "std       13.218340  1.056474e+05      2.552960   7507.512510    404.927674   \n",
       "min       17.000000  1.349200e+04      1.000000      0.000000      0.000000   \n",
       "25%       28.000000  1.173810e+05      9.000000      0.000000      0.000000   \n",
       "50%       37.000000  1.783120e+05     10.000000      0.000000      0.000000   \n",
       "75%       47.000000  2.379155e+05     13.000000      0.000000      0.000000   \n",
       "max       90.000000  1.490400e+06     16.000000  99999.000000   4356.000000   \n",
       "\n",
       "          hoursWeek  LcapitalGain  LcapitalLoss  \n",
       "count  45208.000000  45208.000000  45208.000000  \n",
       "mean      40.937776      0.740792      0.355432  \n",
       "std       12.007784      2.466579      1.595791  \n",
       "min        1.000000      0.000000      0.000000  \n",
       "25%       40.000000      0.000000      0.000000  \n",
       "50%       40.000000      0.000000      0.000000  \n",
       "75%       45.000000      0.000000      0.000000  \n",
       "max       99.000000     11.512925      8.379539  "
      ]
     },
     "execution_count": 23,
     "metadata": {},
     "output_type": "execute_result"
    }
   ],
   "source": [
    "adult.describe()"
   ]
  },
  {
   "cell_type": "markdown",
   "metadata": {},
   "source": [
    "**Q** Que dire de la distribution de la variable `age`, de celle `income` ?"
   ]
  },
  {
   "cell_type": "code",
   "execution_count": 24,
   "metadata": {
    "ExecuteTime": {
     "end_time": "2020-03-15T07:21:53.307252Z",
     "start_time": "2020-03-15T07:21:53.110235Z"
    }
   },
   "outputs": [
    {
     "data": {
      "image/png": "[encoded data removed]",
      "text/plain": [
       "<Figure size 432x288 with 1 Axes>"
      ]
     },
     "metadata": {
      "needs_background": "light"
     },
     "output_type": "display_data"
    }
   ],
   "source": [
    "adult[\"age\"].hist()\n",
    "plt.show()"
   ]
  },
  {
   "cell_type": "code",
   "execution_count": 25,
   "metadata": {
    "ExecuteTime": {
     "end_time": "2020-03-15T07:21:53.323184Z",
     "start_time": "2020-03-15T07:21:53.309265Z"
    }
   },
   "outputs": [
    {
     "data": {
      "text/plain": [
       "incLow     34004\n",
       "incHigh    11204\n",
       "Name: income, dtype: int64"
      ]
     },
     "execution_count": 25,
     "metadata": {},
     "output_type": "execute_result"
    }
   ],
   "source": [
    "adult[\"income\"].value_counts()"
   ]
  },
  {
   "cell_type": "code",
   "execution_count": 26,
   "metadata": {
    "ExecuteTime": {
     "end_time": "2020-03-15T07:21:53.356187Z",
     "start_time": "2020-03-15T07:21:53.329367Z"
    }
   },
   "outputs": [
    {
     "data": {
      "text/plain": [
       " Husband           18661\n",
       " Not-in-family     11697\n",
       " Own-child          6624\n",
       " Unmarried          4788\n",
       " Wife               2091\n",
       " Other-relative     1347\n",
       "Name: relationship, dtype: int64"
      ]
     },
     "execution_count": 26,
     "metadata": {},
     "output_type": "execute_result"
    }
   ],
   "source": [
    "adult[\"relationship\"].value_counts()"
   ]
  },
  {
   "cell_type": "code",
   "execution_count": 27,
   "metadata": {
    "ExecuteTime": {
     "end_time": "2020-03-15T07:21:53.840369Z",
     "start_time": "2020-03-15T07:21:53.359430Z"
    }
   },
   "outputs": [
    {
     "data": {
      "image/png": "[encoded data removed]",
      "text/plain": [
       "<Figure size 432x288 with 1 Axes>"
      ]
     },
     "metadata": {
      "needs_background": "light"
     },
     "output_type": "display_data"
    }
   ],
   "source": [
    "adult.plot(kind=\"scatter\",x=\"age\",y=\"educNum\")\n",
    "plt.show()"
   ]
  },
  {
   "cell_type": "markdown",
   "metadata": {},
   "source": [
    "**Q** Que dire des liaisons : `age x hoursWeek`, `age x income`, `sex x income` ?"
   ]
  },
  {
   "cell_type": "code",
   "execution_count": 28,
   "metadata": {
    "ExecuteTime": {
     "end_time": "2020-03-15T07:21:54.306443Z",
     "start_time": "2020-03-15T07:21:53.843537Z"
    }
   },
   "outputs": [
    {
     "data": {
      "image/png": "[encoded data removed]",
      "text/plain": [
       "<Figure size 432x288 with 1 Axes>"
      ]
     },
     "metadata": {
      "needs_background": "light"
     },
     "output_type": "display_data"
    }
   ],
   "source": [
    "adult.plot(kind=\"scatter\",x=\"hoursWeek\",y=\"age\")\n",
    "plt.show()"
   ]
  },
  {
   "cell_type": "code",
   "execution_count": 29,
   "metadata": {
    "ExecuteTime": {
     "end_time": "2020-03-15T07:21:54.560423Z",
     "start_time": "2020-03-15T07:21:54.308169Z"
    }
   },
   "outputs": [
    {
     "data": {
      "image/png": "[encoded data removed]",
      "text/plain": [
       "<Figure size 432x288 with 1 Axes>"
      ]
     },
     "metadata": {
      "needs_background": "light"
     },
     "output_type": "display_data"
    }
   ],
   "source": [
    "adult.boxplot(column=\"age\",by=\"income\")\n",
    "plt.show()"
   ]
  },
  {
   "cell_type": "markdown",
   "metadata": {},
   "source": [
    "**Q** Que dire des redondances ci-dessous?"
   ]
  },
  {
   "cell_type": "code",
   "execution_count": 30,
   "metadata": {
    "ExecuteTime": {
     "end_time": "2020-03-15T07:21:54.600679Z",
     "start_time": "2020-03-15T07:21:54.562792Z"
    }
   },
   "outputs": [
    {
     "name": "stdout",
     "output_type": "stream",
     "text": [
      "educNum      1    2    3    4    5     6     7    8      9     10    11    12  \\\n",
      "education                                                                       \n",
      "Associates    0    0    0    0    0     0     0    0      0     0  1959  1507   \n",
      "Bachelors     0    0    0    0    0     0     0    0      0     0     0     0   \n",
      "Doctorate     0    0    0    0    0     0     0    0      0     0     0     0   \n",
      "Dropout      72  222  449  823  676  1223  1619  576      0     0     0     0   \n",
      "HS-Graduate   0    0    0    0    0     0     0    0      0  9895     0     0   \n",
      "HS-grad       0    0    0    0    0     0     0    0  14778     0     0     0   \n",
      "Masters       0    0    0    0    0     0     0    0      0     0     0     0   \n",
      "Prof-School   0    0    0    0    0     0     0    0      0     0     0     0   \n",
      "\n",
      "educNum        13    14   15   16  \n",
      "education                          \n",
      "Associates      0     0    0    0  \n",
      "Bachelors    7569     0    0    0  \n",
      "Doctorate       0     0    0  544  \n",
      "Dropout         0     0    0    0  \n",
      "HS-Graduate     0     0    0    0  \n",
      "HS-grad         0     0    0    0  \n",
      "Masters         0  2512    0    0  \n",
      "Prof-School     0     0  784    0  \n"
     ]
    }
   ],
   "source": [
    "table=pd.crosstab(adult[\"education\"],adult[\"educNum\"])\n",
    "print(table) "
   ]
  },
  {
   "cell_type": "code",
   "execution_count": 31,
   "metadata": {
    "ExecuteTime": {
     "end_time": "2020-03-15T07:21:54.653812Z",
     "start_time": "2020-03-15T07:21:54.603596Z"
    }
   },
   "outputs": [
    {
     "name": "stdout",
     "output_type": "stream",
     "text": [
      "relationship    Husband   Not-in-family   Other-relative   Own-child  \\\n",
      "mariStat                                                               \n",
      "Married           18661              19              184         126   \n",
      "Never-Married         0            6686              819        5862   \n",
      "Not-Married           0            4305              285         616   \n",
      "Widowed               0             687               59          20   \n",
      "\n",
      "relationship    Unmarried   Wife  \n",
      "mariStat                          \n",
      "Married                 0   2091  \n",
      "Never-Married        1223      0  \n",
      "Not-Married          3054      0  \n",
      "Widowed               511      0  \n"
     ]
    }
   ],
   "source": [
    "table=pd.crosstab(adult[\"mariStat\"],adult[\"relationship\"])\n",
    "print(table)"
   ]
  },
  {
   "cell_type": "code",
   "execution_count": 33,
   "metadata": {
    "ExecuteTime": {
     "end_time": "2020-03-15T07:21:54.865264Z",
     "start_time": "2020-03-15T07:21:54.655993Z"
    }
   },
   "outputs": [
    {
     "data": {
      "image/png": "[encoded data removed]",
      "text/plain": [
       "<Figure size 432x288 with 3 Axes>"
      ]
     },
     "metadata": {
      "needs_background": "light"
     },
     "output_type": "display_data"
    }
   ],
   "source": [
    "# Mosaic plots\n",
    "from statsmodels.graphics.mosaicplot import mosaic\n",
    "mosaic(adult,[\"income\",\"sex\"])\n",
    "plt.show()"
   ]
  },
  {
   "cell_type": "code",
   "execution_count": 34,
   "metadata": {
    "ExecuteTime": {
     "end_time": "2020-03-15T07:21:55.032721Z",
     "start_time": "2020-03-15T07:21:54.867909Z"
    }
   },
   "outputs": [
    {
     "data": {
      "image/png": "[encoded data removed]",
      "text/plain": [
       "<Figure size 432x288 with 3 Axes>"
      ]
     },
     "metadata": {
      "needs_background": "light"
     },
     "output_type": "display_data"
    }
   ],
   "source": [
    "from statsmodels.graphics.mosaicplot import mosaic\n",
    "mosaic(adult,[\"income\",\"origEthn\"])\n",
    "plt.show()"
   ]
  },
  {
   "cell_type": "markdown",
   "metadata": {},
   "source": [
    "Quelques modifications comlémentaires sont apportées de la base. Des variables sont supprimées afin de ne garder qu'une seule présence d'une information sensible: genre et origine ethnique.\n",
    "- Suppression de la variable `fnlwgt` qui n'a guère de signification pour cette analyse.\n",
    "- Suppression de la variable `workClass` redondante acvec l'occupation.\n",
    "- Suppression de la variable `education` redondante avec le niveau de diplôme.\n",
    "- Suppression de la variable `capitalGain` et `capitalLoss` remplacée par leur transformations log.\n",
    "- Création d'une variable binaire `Child`: présence ou non d'enfants.\n",
    "- Suppression de la variable `relationship` redondante avec le genre et le statut marital.\n",
    "- Suppression de la variable `nativCountry` redondante avec l'origine ethnique."
   ]
  },
  {
   "cell_type": "code",
   "execution_count": 35,
   "metadata": {
    "ExecuteTime": {
     "end_time": "2020-03-15T07:21:55.039230Z",
     "start_time": "2020-03-15T07:21:55.034175Z"
    }
   },
   "outputs": [
    {
     "name": "stdout",
     "output_type": "stream",
     "text": [
      "[' Husband' ' Not-in-family' ' Other-relative' ' Own-child' ' Unmarried'\n",
      " ' Wife']\n"
     ]
    }
   ],
   "source": [
    "print(np.sort(adult[\"relationship\"].unique()))"
   ]
  },
  {
   "cell_type": "code",
   "execution_count": 36,
   "metadata": {
    "ExecuteTime": {
     "end_time": "2020-03-15T07:21:55.052913Z",
     "start_time": "2020-03-15T07:21:55.043096Z"
    }
   },
   "outputs": [],
   "source": [
    "cat_orig = {' Husband':\"ChildNo\",' Not-in-family':\"ChildNo\",' Other-relative':\"ChildNo\",' Own-child':\"ChildYes\",' Unmarried':\"ChildNo\",' Wife':\"ChildNo\"}\n",
    "adult[\"child\"] = adult.relationship.map(cat_orig)"
   ]
  },
  {
   "cell_type": "code",
   "execution_count": 37,
   "metadata": {
    "ExecuteTime": {
     "end_time": "2020-03-15T07:21:55.070903Z",
     "start_time": "2020-03-15T07:21:55.060493Z"
    }
   },
   "outputs": [],
   "source": [
    "adult=adult.drop([\"workClass\",\"education\",\"fnlwgt\",\"nativCountry\",\"relationship\", \n",
    "                  \"capitalGain\", \"capitalLoss\"],axis=1)"
   ]
  },
  {
   "cell_type": "code",
   "execution_count": 38,
   "metadata": {
    "ExecuteTime": {
     "end_time": "2020-03-15T07:21:55.098504Z",
     "start_time": "2020-03-15T07:21:55.073722Z"
    }
   },
   "outputs": [
    {
     "data": {
      "text/html": [
       "<div>\n",
       "<style scoped>\n",
       "    .dataframe tbody tr th:only-of-type {\n",
       "        vertical-align: middle;\n",
       "    }\n",
       "\n",
       "    .dataframe tbody tr th {\n",
       "        vertical-align: top;\n",
       "    }\n",
       "\n",
       "    .dataframe thead th {\n",
       "        text-align: right;\n",
       "    }\n",
       "</style>\n",
       "<table border=\"1\" class=\"dataframe\">\n",
       "  <thead>\n",
       "    <tr style=\"text-align: right;\">\n",
       "      <th></th>\n",
       "      <th>age</th>\n",
       "      <th>educNum</th>\n",
       "      <th>mariStat</th>\n",
       "      <th>occup</th>\n",
       "      <th>origEthn</th>\n",
       "      <th>sex</th>\n",
       "      <th>hoursWeek</th>\n",
       "      <th>income</th>\n",
       "      <th>LcapitalGain</th>\n",
       "      <th>LcapitalLoss</th>\n",
       "      <th>child</th>\n",
       "    </tr>\n",
       "  </thead>\n",
       "  <tbody>\n",
       "    <tr>\n",
       "      <th>0</th>\n",
       "      <td>39</td>\n",
       "      <td>13</td>\n",
       "      <td>Never-Married</td>\n",
       "      <td>Admin</td>\n",
       "      <td>CaucYes</td>\n",
       "      <td>Male</td>\n",
       "      <td>40</td>\n",
       "      <td>incLow</td>\n",
       "      <td>7.684784</td>\n",
       "      <td>0.0</td>\n",
       "      <td>ChildNo</td>\n",
       "    </tr>\n",
       "    <tr>\n",
       "      <th>1</th>\n",
       "      <td>50</td>\n",
       "      <td>13</td>\n",
       "      <td>Married</td>\n",
       "      <td>White-Collar</td>\n",
       "      <td>CaucYes</td>\n",
       "      <td>Male</td>\n",
       "      <td>13</td>\n",
       "      <td>incLow</td>\n",
       "      <td>0.000000</td>\n",
       "      <td>0.0</td>\n",
       "      <td>ChildNo</td>\n",
       "    </tr>\n",
       "    <tr>\n",
       "      <th>2</th>\n",
       "      <td>38</td>\n",
       "      <td>9</td>\n",
       "      <td>Not-Married</td>\n",
       "      <td>Blue-Collar</td>\n",
       "      <td>CaucYes</td>\n",
       "      <td>Male</td>\n",
       "      <td>40</td>\n",
       "      <td>incLow</td>\n",
       "      <td>0.000000</td>\n",
       "      <td>0.0</td>\n",
       "      <td>ChildNo</td>\n",
       "    </tr>\n",
       "    <tr>\n",
       "      <th>3</th>\n",
       "      <td>53</td>\n",
       "      <td>7</td>\n",
       "      <td>Married</td>\n",
       "      <td>Blue-Collar</td>\n",
       "      <td>CaucNo</td>\n",
       "      <td>Male</td>\n",
       "      <td>40</td>\n",
       "      <td>incLow</td>\n",
       "      <td>0.000000</td>\n",
       "      <td>0.0</td>\n",
       "      <td>ChildNo</td>\n",
       "    </tr>\n",
       "    <tr>\n",
       "      <th>4</th>\n",
       "      <td>28</td>\n",
       "      <td>13</td>\n",
       "      <td>Married</td>\n",
       "      <td>Professional</td>\n",
       "      <td>CaucNo</td>\n",
       "      <td>Female</td>\n",
       "      <td>40</td>\n",
       "      <td>incLow</td>\n",
       "      <td>0.000000</td>\n",
       "      <td>0.0</td>\n",
       "      <td>ChildNo</td>\n",
       "    </tr>\n",
       "  </tbody>\n",
       "</table>\n",
       "</div>"
      ],
      "text/plain": [
       "   age  educNum       mariStat         occup origEthn      sex  hoursWeek  \\\n",
       "0   39       13  Never-Married         Admin  CaucYes     Male         40   \n",
       "1   50       13        Married  White-Collar  CaucYes     Male         13   \n",
       "2   38        9    Not-Married   Blue-Collar  CaucYes     Male         40   \n",
       "3   53        7        Married   Blue-Collar   CaucNo     Male         40   \n",
       "4   28       13        Married  Professional   CaucNo   Female         40   \n",
       "\n",
       "   income  LcapitalGain  LcapitalLoss    child  \n",
       "0  incLow      7.684784           0.0  ChildNo  \n",
       "1  incLow      0.000000           0.0  ChildNo  \n",
       "2  incLow      0.000000           0.0  ChildNo  \n",
       "3  incLow      0.000000           0.0  ChildNo  \n",
       "4  incLow      0.000000           0.0  ChildNo  "
      ]
     },
     "execution_count": 38,
     "metadata": {},
     "output_type": "execute_result"
    }
   ],
   "source": [
    "adult.head()"
   ]
  },
  {
   "cell_type": "markdown",
   "metadata": {},
   "source": [
    "### 2.6 Variables indicatrices\n",
    "\n",
    "**Q** Pourquoi l’introduction de *dummy variables*? "
   ]
  },
  {
   "cell_type": "code",
   "execution_count": 39,
   "metadata": {
    "ExecuteTime": {
     "end_time": "2020-03-15T07:21:55.134795Z",
     "start_time": "2020-03-15T07:21:55.100458Z"
    }
   },
   "outputs": [
    {
     "data": {
      "text/html": [
       "<div>\n",
       "<style scoped>\n",
       "    .dataframe tbody tr th:only-of-type {\n",
       "        vertical-align: middle;\n",
       "    }\n",
       "\n",
       "    .dataframe tbody tr th {\n",
       "        vertical-align: top;\n",
       "    }\n",
       "\n",
       "    .dataframe thead th {\n",
       "        text-align: right;\n",
       "    }\n",
       "</style>\n",
       "<table border=\"1\" class=\"dataframe\">\n",
       "  <thead>\n",
       "    <tr style=\"text-align: right;\">\n",
       "      <th></th>\n",
       "      <th>mariStat_Married</th>\n",
       "      <th>mariStat_Never-Married</th>\n",
       "      <th>mariStat_Not-Married</th>\n",
       "      <th>mariStat_Widowed</th>\n",
       "      <th>occup_Admin</th>\n",
       "      <th>occup_Blue-Collar</th>\n",
       "      <th>occup_Other-occups</th>\n",
       "      <th>occup_Professional</th>\n",
       "      <th>occup_Sales</th>\n",
       "      <th>occup_Service</th>\n",
       "      <th>occup_White-Collar</th>\n",
       "      <th>origEthn_CaucNo</th>\n",
       "      <th>origEthn_CaucYes</th>\n",
       "      <th>sex_ Female</th>\n",
       "      <th>sex_ Male</th>\n",
       "      <th>child_ChildNo</th>\n",
       "      <th>child_ChildYes</th>\n",
       "    </tr>\n",
       "  </thead>\n",
       "  <tbody>\n",
       "    <tr>\n",
       "      <th>0</th>\n",
       "      <td>0</td>\n",
       "      <td>1</td>\n",
       "      <td>0</td>\n",
       "      <td>0</td>\n",
       "      <td>1</td>\n",
       "      <td>0</td>\n",
       "      <td>0</td>\n",
       "      <td>0</td>\n",
       "      <td>0</td>\n",
       "      <td>0</td>\n",
       "      <td>0</td>\n",
       "      <td>0</td>\n",
       "      <td>1</td>\n",
       "      <td>0</td>\n",
       "      <td>1</td>\n",
       "      <td>1</td>\n",
       "      <td>0</td>\n",
       "    </tr>\n",
       "    <tr>\n",
       "      <th>1</th>\n",
       "      <td>1</td>\n",
       "      <td>0</td>\n",
       "      <td>0</td>\n",
       "      <td>0</td>\n",
       "      <td>0</td>\n",
       "      <td>0</td>\n",
       "      <td>0</td>\n",
       "      <td>0</td>\n",
       "      <td>0</td>\n",
       "      <td>0</td>\n",
       "      <td>1</td>\n",
       "      <td>0</td>\n",
       "      <td>1</td>\n",
       "      <td>0</td>\n",
       "      <td>1</td>\n",
       "      <td>1</td>\n",
       "      <td>0</td>\n",
       "    </tr>\n",
       "    <tr>\n",
       "      <th>2</th>\n",
       "      <td>0</td>\n",
       "      <td>0</td>\n",
       "      <td>1</td>\n",
       "      <td>0</td>\n",
       "      <td>0</td>\n",
       "      <td>1</td>\n",
       "      <td>0</td>\n",
       "      <td>0</td>\n",
       "      <td>0</td>\n",
       "      <td>0</td>\n",
       "      <td>0</td>\n",
       "      <td>0</td>\n",
       "      <td>1</td>\n",
       "      <td>0</td>\n",
       "      <td>1</td>\n",
       "      <td>1</td>\n",
       "      <td>0</td>\n",
       "    </tr>\n",
       "    <tr>\n",
       "      <th>3</th>\n",
       "      <td>1</td>\n",
       "      <td>0</td>\n",
       "      <td>0</td>\n",
       "      <td>0</td>\n",
       "      <td>0</td>\n",
       "      <td>1</td>\n",
       "      <td>0</td>\n",
       "      <td>0</td>\n",
       "      <td>0</td>\n",
       "      <td>0</td>\n",
       "      <td>0</td>\n",
       "      <td>1</td>\n",
       "      <td>0</td>\n",
       "      <td>0</td>\n",
       "      <td>1</td>\n",
       "      <td>1</td>\n",
       "      <td>0</td>\n",
       "    </tr>\n",
       "    <tr>\n",
       "      <th>4</th>\n",
       "      <td>1</td>\n",
       "      <td>0</td>\n",
       "      <td>0</td>\n",
       "      <td>0</td>\n",
       "      <td>0</td>\n",
       "      <td>0</td>\n",
       "      <td>0</td>\n",
       "      <td>1</td>\n",
       "      <td>0</td>\n",
       "      <td>0</td>\n",
       "      <td>0</td>\n",
       "      <td>1</td>\n",
       "      <td>0</td>\n",
       "      <td>1</td>\n",
       "      <td>0</td>\n",
       "      <td>1</td>\n",
       "      <td>0</td>\n",
       "    </tr>\n",
       "  </tbody>\n",
       "</table>\n",
       "</div>"
      ],
      "text/plain": [
       "   mariStat_Married  mariStat_Never-Married  mariStat_Not-Married  \\\n",
       "0                 0                       1                     0   \n",
       "1                 1                       0                     0   \n",
       "2                 0                       0                     1   \n",
       "3                 1                       0                     0   \n",
       "4                 1                       0                     0   \n",
       "\n",
       "   mariStat_Widowed  occup_Admin  occup_Blue-Collar  occup_Other-occups  \\\n",
       "0                 0            1                  0                   0   \n",
       "1                 0            0                  0                   0   \n",
       "2                 0            0                  1                   0   \n",
       "3                 0            0                  1                   0   \n",
       "4                 0            0                  0                   0   \n",
       "\n",
       "   occup_Professional  occup_Sales  occup_Service  occup_White-Collar  \\\n",
       "0                   0            0              0                   0   \n",
       "1                   0            0              0                   1   \n",
       "2                   0            0              0                   0   \n",
       "3                   0            0              0                   0   \n",
       "4                   1            0              0                   0   \n",
       "\n",
       "   origEthn_CaucNo  origEthn_CaucYes  sex_ Female  sex_ Male  child_ChildNo  \\\n",
       "0                0                 1            0          1              1   \n",
       "1                0                 1            0          1              1   \n",
       "2                0                 1            0          1              1   \n",
       "3                1                 0            0          1              1   \n",
       "4                1                 0            1          0              1   \n",
       "\n",
       "   child_ChildYes  \n",
       "0               0  \n",
       "1               0  \n",
       "2               0  \n",
       "3               0  \n",
       "4               0  "
      ]
     },
     "execution_count": 39,
     "metadata": {},
     "output_type": "execute_result"
    }
   ],
   "source": [
    "adultDum=pd.get_dummies(adult[[\"mariStat\",\"occup\",\"origEthn\",\"sex\",\"child\"]])\n",
    "adultDum.head()"
   ]
  },
  {
   "cell_type": "code",
   "execution_count": 40,
   "metadata": {
    "ExecuteTime": {
     "end_time": "2020-03-15T07:21:55.145935Z",
     "start_time": "2020-03-15T07:21:55.136423Z"
    }
   },
   "outputs": [],
   "source": [
    "adultJoin = adult[[\"age\",\"educNum\",\"hoursWeek\",\"LcapitalGain\",\"LcapitalLoss\",\"income\"]].join(adultDum)"
   ]
  },
  {
   "cell_type": "code",
   "execution_count": 41,
   "metadata": {
    "ExecuteTime": {
     "end_time": "2020-03-15T07:21:55.169385Z",
     "start_time": "2020-03-15T07:21:55.147890Z"
    }
   },
   "outputs": [
    {
     "data": {
      "text/html": [
       "<div>\n",
       "<style scoped>\n",
       "    .dataframe tbody tr th:only-of-type {\n",
       "        vertical-align: middle;\n",
       "    }\n",
       "\n",
       "    .dataframe tbody tr th {\n",
       "        vertical-align: top;\n",
       "    }\n",
       "\n",
       "    .dataframe thead th {\n",
       "        text-align: right;\n",
       "    }\n",
       "</style>\n",
       "<table border=\"1\" class=\"dataframe\">\n",
       "  <thead>\n",
       "    <tr style=\"text-align: right;\">\n",
       "      <th></th>\n",
       "      <th>age</th>\n",
       "      <th>educNum</th>\n",
       "      <th>hoursWeek</th>\n",
       "      <th>LcapitalGain</th>\n",
       "      <th>LcapitalLoss</th>\n",
       "      <th>income</th>\n",
       "      <th>mariStat_Married</th>\n",
       "      <th>mariStat_Never-Married</th>\n",
       "      <th>mariStat_Not-Married</th>\n",
       "      <th>mariStat_Widowed</th>\n",
       "      <th>...</th>\n",
       "      <th>occup_Professional</th>\n",
       "      <th>occup_Sales</th>\n",
       "      <th>occup_Service</th>\n",
       "      <th>occup_White-Collar</th>\n",
       "      <th>origEthn_CaucNo</th>\n",
       "      <th>origEthn_CaucYes</th>\n",
       "      <th>sex_ Female</th>\n",
       "      <th>sex_ Male</th>\n",
       "      <th>child_ChildNo</th>\n",
       "      <th>child_ChildYes</th>\n",
       "    </tr>\n",
       "  </thead>\n",
       "  <tbody>\n",
       "    <tr>\n",
       "      <th>0</th>\n",
       "      <td>39</td>\n",
       "      <td>13</td>\n",
       "      <td>40</td>\n",
       "      <td>7.684784</td>\n",
       "      <td>0.0</td>\n",
       "      <td>incLow</td>\n",
       "      <td>0</td>\n",
       "      <td>1</td>\n",
       "      <td>0</td>\n",
       "      <td>0</td>\n",
       "      <td>...</td>\n",
       "      <td>0</td>\n",
       "      <td>0</td>\n",
       "      <td>0</td>\n",
       "      <td>0</td>\n",
       "      <td>0</td>\n",
       "      <td>1</td>\n",
       "      <td>0</td>\n",
       "      <td>1</td>\n",
       "      <td>1</td>\n",
       "      <td>0</td>\n",
       "    </tr>\n",
       "    <tr>\n",
       "      <th>1</th>\n",
       "      <td>50</td>\n",
       "      <td>13</td>\n",
       "      <td>13</td>\n",
       "      <td>0.000000</td>\n",
       "      <td>0.0</td>\n",
       "      <td>incLow</td>\n",
       "      <td>1</td>\n",
       "      <td>0</td>\n",
       "      <td>0</td>\n",
       "      <td>0</td>\n",
       "      <td>...</td>\n",
       "      <td>0</td>\n",
       "      <td>0</td>\n",
       "      <td>0</td>\n",
       "      <td>1</td>\n",
       "      <td>0</td>\n",
       "      <td>1</td>\n",
       "      <td>0</td>\n",
       "      <td>1</td>\n",
       "      <td>1</td>\n",
       "      <td>0</td>\n",
       "    </tr>\n",
       "    <tr>\n",
       "      <th>2</th>\n",
       "      <td>38</td>\n",
       "      <td>9</td>\n",
       "      <td>40</td>\n",
       "      <td>0.000000</td>\n",
       "      <td>0.0</td>\n",
       "      <td>incLow</td>\n",
       "      <td>0</td>\n",
       "      <td>0</td>\n",
       "      <td>1</td>\n",
       "      <td>0</td>\n",
       "      <td>...</td>\n",
       "      <td>0</td>\n",
       "      <td>0</td>\n",
       "      <td>0</td>\n",
       "      <td>0</td>\n",
       "      <td>0</td>\n",
       "      <td>1</td>\n",
       "      <td>0</td>\n",
       "      <td>1</td>\n",
       "      <td>1</td>\n",
       "      <td>0</td>\n",
       "    </tr>\n",
       "    <tr>\n",
       "      <th>3</th>\n",
       "      <td>53</td>\n",
       "      <td>7</td>\n",
       "      <td>40</td>\n",
       "      <td>0.000000</td>\n",
       "      <td>0.0</td>\n",
       "      <td>incLow</td>\n",
       "      <td>1</td>\n",
       "      <td>0</td>\n",
       "      <td>0</td>\n",
       "      <td>0</td>\n",
       "      <td>...</td>\n",
       "      <td>0</td>\n",
       "      <td>0</td>\n",
       "      <td>0</td>\n",
       "      <td>0</td>\n",
       "      <td>1</td>\n",
       "      <td>0</td>\n",
       "      <td>0</td>\n",
       "      <td>1</td>\n",
       "      <td>1</td>\n",
       "      <td>0</td>\n",
       "    </tr>\n",
       "    <tr>\n",
       "      <th>4</th>\n",
       "      <td>28</td>\n",
       "      <td>13</td>\n",
       "      <td>40</td>\n",
       "      <td>0.000000</td>\n",
       "      <td>0.0</td>\n",
       "      <td>incLow</td>\n",
       "      <td>1</td>\n",
       "      <td>0</td>\n",
       "      <td>0</td>\n",
       "      <td>0</td>\n",
       "      <td>...</td>\n",
       "      <td>1</td>\n",
       "      <td>0</td>\n",
       "      <td>0</td>\n",
       "      <td>0</td>\n",
       "      <td>1</td>\n",
       "      <td>0</td>\n",
       "      <td>1</td>\n",
       "      <td>0</td>\n",
       "      <td>1</td>\n",
       "      <td>0</td>\n",
       "    </tr>\n",
       "  </tbody>\n",
       "</table>\n",
       "<p>5 rows × 23 columns</p>\n",
       "</div>"
      ],
      "text/plain": [
       "   age  educNum  hoursWeek  LcapitalGain  LcapitalLoss  income  \\\n",
       "0   39       13         40      7.684784           0.0  incLow   \n",
       "1   50       13         13      0.000000           0.0  incLow   \n",
       "2   38        9         40      0.000000           0.0  incLow   \n",
       "3   53        7         40      0.000000           0.0  incLow   \n",
       "4   28       13         40      0.000000           0.0  incLow   \n",
       "\n",
       "   mariStat_Married  mariStat_Never-Married  mariStat_Not-Married  \\\n",
       "0                 0                       1                     0   \n",
       "1                 1                       0                     0   \n",
       "2                 0                       0                     1   \n",
       "3                 1                       0                     0   \n",
       "4                 1                       0                     0   \n",
       "\n",
       "   mariStat_Widowed  ...  occup_Professional  occup_Sales  occup_Service  \\\n",
       "0                 0  ...                   0            0              0   \n",
       "1                 0  ...                   0            0              0   \n",
       "2                 0  ...                   0            0              0   \n",
       "3                 0  ...                   0            0              0   \n",
       "4                 0  ...                   1            0              0   \n",
       "\n",
       "   occup_White-Collar  origEthn_CaucNo  origEthn_CaucYes  sex_ Female  \\\n",
       "0                   0                0                 1            0   \n",
       "1                   1                0                 1            0   \n",
       "2                   0                0                 1            0   \n",
       "3                   0                1                 0            0   \n",
       "4                   0                1                 0            1   \n",
       "\n",
       "   sex_ Male  child_ChildNo  child_ChildYes  \n",
       "0          1              1               0  \n",
       "1          1              1               0  \n",
       "2          1              1               0  \n",
       "3          1              1               0  \n",
       "4          0              1               0  \n",
       "\n",
       "[5 rows x 23 columns]"
      ]
     },
     "execution_count": 41,
     "metadata": {},
     "output_type": "execute_result"
    }
   ],
   "source": [
    "adultJoin.head()"
   ]
  },
  {
   "cell_type": "code",
   "execution_count": 42,
   "metadata": {
    "ExecuteTime": {
     "end_time": "2020-03-15T07:21:55.177568Z",
     "start_time": "2020-03-15T07:21:55.171824Z"
    }
   },
   "outputs": [
    {
     "data": {
      "text/plain": [
       "(45208, 11)"
      ]
     },
     "execution_count": 42,
     "metadata": {},
     "output_type": "execute_result"
    }
   ],
   "source": [
    "adult.shape"
   ]
  },
  {
   "cell_type": "markdown",
   "metadata": {},
   "source": [
    "### 2.7 Préparation des échantillons\n",
    "La base de données est réduite par tirage aléatoire puis divisée en deux échantillons d'apprentissage et de test."
   ]
  },
  {
   "cell_type": "code",
   "execution_count": 43,
   "metadata": {
    "ExecuteTime": {
     "end_time": "2020-03-15T07:21:55.195233Z",
     "start_time": "2020-03-15T07:21:55.181135Z"
    }
   },
   "outputs": [],
   "source": [
    "# possibilité de réduire la taille de l'apprentissage par échantillonnage aléatoire ou pas\n",
    "ind_ech = np.random.choice(adultJoin.index.values, 20000, replace=False)\n",
    "#adultEch=adultJoin.loc[ind_ech]\n",
    "adultEch=adultJoin\n",
    "# Variable cible\n",
    "Y=adultEch[\"income\"]\n",
    "# Variables prédictives\n",
    "X=adultEch.drop([\"income\"],axis=1)"
   ]
  },
  {
   "cell_type": "code",
   "execution_count": 44,
   "metadata": {
    "ExecuteTime": {
     "end_time": "2020-03-15T07:21:55.768064Z",
     "start_time": "2020-03-15T07:21:55.197599Z"
    }
   },
   "outputs": [],
   "source": [
    "from sklearn.model_selection import train_test_split  \n",
    "X_train,X_test,Y_train,Y_test=train_test_split(X,Y,test_size=0.2,random_state=11)"
   ]
  },
  {
   "cell_type": "code",
   "execution_count": 45,
   "metadata": {
    "ExecuteTime": {
     "end_time": "2020-03-15T07:21:55.773873Z",
     "start_time": "2020-03-15T07:21:55.769797Z"
    }
   },
   "outputs": [
    {
     "data": {
      "text/plain": [
       "['LcapitalGain',\n",
       " 'LcapitalLoss',\n",
       " 'age',\n",
       " 'child_ChildNo',\n",
       " 'child_ChildYes',\n",
       " 'educNum',\n",
       " 'hoursWeek',\n",
       " 'mariStat_Married',\n",
       " 'mariStat_Never-Married',\n",
       " 'mariStat_Not-Married',\n",
       " 'mariStat_Widowed',\n",
       " 'occup_Admin',\n",
       " 'occup_Blue-Collar',\n",
       " 'occup_Other-occups',\n",
       " 'occup_Professional',\n",
       " 'occup_Sales',\n",
       " 'occup_Service',\n",
       " 'occup_White-Collar',\n",
       " 'origEthn_CaucNo',\n",
       " 'origEthn_CaucYes',\n",
       " 'sex_ Female',\n",
       " 'sex_ Male']"
      ]
     },
     "execution_count": 45,
     "metadata": {},
     "output_type": "execute_result"
    }
   ],
   "source": [
    "sorted(X_train)"
   ]
  },
  {
   "cell_type": "markdown",
   "metadata": {},
   "source": [
    "## 3 Prévision du seuil de revenu \n",
    "Une comparaison détaillée (cf. le [tutoriel](https://github.com/wikistat/Apprentissage/blob/master/Adult-Census/Apprent-Python-AdultCensus.ipynb)) de la plupart des modèles et algorithmes de prévision du seuil de revenu en fonction des différentes variables met en évidence des résultats de prévision un peu meilleurs obtenus par l'algorithme de *gradient boosting* (version xtrem). Néanmoins, on peut se limiter ici à un choix plus restreint de modèles et algorithmes pour comprendre l'impact sur la discrimination.\n",
    "- la régression logistique (linéaire) interprétable; \n",
    "- les forêts aléatoires (non linéaire) conduisent à une meilleure précision mais sans capacité d'interprétation,\n",
    "- *gradient boosting* (idem).\n",
    "\n",
    "### 3.1 Prévision par [régression logistique](http://wikistat.fr/pdf/st-m-app-rlogit.pdf)\n",
    "**Q** Comment est opérée la sélection de variables? \n",
    "\n",
    "**Q** Commenter  les options de la commande  `GridSearchCV`. A quoi sert `param` ?"
   ]
  },
  {
   "cell_type": "code",
   "execution_count": 46,
   "metadata": {
    "ExecuteTime": {
     "end_time": "2020-03-15T07:22:30.295962Z",
     "start_time": "2020-03-15T07:21:55.775523Z"
    }
   },
   "outputs": [
    {
     "name": "stdout",
     "output_type": "stream",
     "text": [
      "Temps logit = 49.009988, Meilleur taux = 0.162224, Meilleur paramètre = {'C': 1.1}\n"
     ]
    }
   ],
   "source": [
    "from sklearn.linear_model import LogisticRegression\n",
    "from sklearn.model_selection import GridSearchCV\n",
    "import time\n",
    "tps0=time.perf_counter()\n",
    "# Optimisation du paramètre de pénalisation\n",
    "# grille de valeurs\n",
    "param=[{\"C\":[0.9,1,1.1,1.2,1.3,1.4]}]\n",
    "logit = GridSearchCV(LogisticRegression(penalty=\"l1\",solver=\"liblinear\"), param,cv=10,n_jobs=-1)\n",
    "logitOpt=logit.fit(X_train, Y_train)  # GridSearchCV est lui même un estimateur\n",
    "# paramètre optimal\n",
    "logitOpt.best_params_[\"C\"]\n",
    "tps1=(time.perf_counter()-tps0)\n",
    "print(\"Temps logit = %f, Meilleur taux = %f, Meilleur paramètre = %s\" % (tps1,\n",
    "                              1.-logitOpt.best_score_,logitOpt.best_params_))"
   ]
  },
  {
   "cell_type": "code",
   "execution_count": 47,
   "metadata": {
    "ExecuteTime": {
     "end_time": "2020-03-15T07:22:30.301469Z",
     "start_time": "2020-03-15T07:22:30.298141Z"
    }
   },
   "outputs": [],
   "source": [
    "ClogOpt=logitOpt.best_params_['C'] # pour des étapes ultérieures"
   ]
  },
  {
   "cell_type": "code",
   "execution_count": 48,
   "metadata": {
    "ExecuteTime": {
     "end_time": "2020-03-15T07:22:30.338347Z",
     "start_time": "2020-03-15T07:22:30.304472Z"
    }
   },
   "outputs": [
    {
     "data": {
      "text/plain": [
       "0.16146870161468707"
      ]
     },
     "execution_count": 48,
     "metadata": {},
     "output_type": "execute_result"
    }
   ],
   "source": [
    "# erreur sur l'échantillon test\n",
    "1-logitOpt.score(X_test, Y_test)"
   ]
  },
  {
   "cell_type": "code",
   "execution_count": 49,
   "metadata": {
    "ExecuteTime": {
     "end_time": "2020-03-15T07:22:30.369595Z",
     "start_time": "2020-03-15T07:22:30.340049Z"
    }
   },
   "outputs": [
    {
     "name": "stdout",
     "output_type": "stream",
     "text": [
      "income   incLow  incHigh\n",
      "row_0                   \n",
      "incHigh     551     1309\n",
      "incLow     6273      909\n"
     ]
    }
   ],
   "source": [
    "# Prévision\n",
    "y_chap = logitOpt.predict(X_test)\n",
    "# matrice de confusion\n",
    "table=pd.crosstab(y_chap,Y_test)\n",
    "print(table)"
   ]
  },
  {
   "cell_type": "markdown",
   "metadata": {},
   "source": [
    "**Q** Quels algorithmes pourraient être exécutés en R pour la régression logistique? \n",
    "\n",
    "**Q** Que dire de l'interprétabilité des résultats par rapport à ceux de R?"
   ]
  },
  {
   "cell_type": "code",
   "execution_count": 50,
   "metadata": {
    "ExecuteTime": {
     "end_time": "2020-03-15T07:22:30.868996Z",
     "start_time": "2020-03-15T07:22:30.372108Z"
    }
   },
   "outputs": [
    {
     "data": {
      "text/plain": [
       "array([[-0.02281117, -0.287147  , -0.02660953, -0.20549666, -0.14910991,\n",
       "         0.39597748,  2.77051346,  2.50336817,  2.53312669,  0.43099837,\n",
       "         0.75808288,  0.11635402, -0.0050261 ,  0.28529088,  1.41775782,\n",
       "        -0.25054066,  1.13660951,  1.0105142 ,  1.10761216,  0.91355521,\n",
       "         1.17516663,  2.11594451]])"
      ]
     },
     "execution_count": 50,
     "metadata": {},
     "output_type": "execute_result"
    }
   ],
   "source": [
    "# Coefficients\n",
    "LogisticRegression(penalty=\"l1\",C=logitOpt.best_params_['C'],\n",
    "                   solver='liblinear').fit(X_train, Y_train).coef_"
   ]
  },
  {
   "cell_type": "markdown",
   "metadata": {},
   "source": [
    "### 3.2 [Forêts aléatoires](http://wikistat.fr/pdf/st-m-app-agreg.pdf)\n",
    "En R, il peut être intéressant de construire un arbre binaire de classification. \n",
    "\n",
    "**Q** Pourquoi un arbre fourni par `scikit-learn` présente beaucoup moins d'intérêt?\n",
    "\n",
    "**Q** Commenter les choix de tous les paramètres ci-dessous."
   ]
  },
  {
   "cell_type": "code",
   "execution_count": 55,
   "metadata": {
    "ExecuteTime": {
     "end_time": "2020-03-15T07:22:37.398767Z",
     "start_time": "2020-03-15T07:22:30.870705Z"
    }
   },
   "outputs": [
    {
     "name": "stderr",
     "output_type": "stream",
     "text": [
      "c:\\Users\\Valentin\\AppData\\Local\\Programs\\Python\\Python310\\lib\\site-packages\\sklearn\\ensemble\\_forest.py:427: FutureWarning: `max_features='auto'` has been deprecated in 1.1 and will be removed in 1.3. To keep the past behaviour, explicitly set `max_features='sqrt'` or remove this parameter as it is also the default value for RandomForestClassifiers and ExtraTreesClassifiers.\n",
      "  warn(\n"
     ]
    },
    {
     "name": "stdout",
     "output_type": "stream",
     "text": [
      "0.13946800862688713\n"
     ]
    }
   ],
   "source": [
    "from sklearn.ensemble import RandomForestClassifier \n",
    "# définition des paramètres\n",
    "forest = RandomForestClassifier(n_estimators=500, \n",
    "   criterion='gini', max_depth=None,\n",
    "   min_samples_split=6, min_samples_leaf=5, \n",
    "   max_features='auto', max_leaf_nodes=None,\n",
    "   bootstrap=True, oob_score=True,n_jobs=-1)\n",
    "# apprentissage\n",
    "rfFit = forest.fit(X_train,Y_train)\n",
    "print(1-rfFit.oob_score_)"
   ]
  },
  {
   "cell_type": "code",
   "execution_count": 56,
   "metadata": {
    "ExecuteTime": {
     "end_time": "2020-03-15T07:22:37.863240Z",
     "start_time": "2020-03-15T07:22:37.400278Z"
    }
   },
   "outputs": [
    {
     "data": {
      "text/plain": [
       "0.13879672638796725"
      ]
     },
     "execution_count": 56,
     "metadata": {},
     "output_type": "execute_result"
    }
   ],
   "source": [
    "# erreur de prévision sur le test\n",
    "1-rfFit.score(X_test,Y_test)"
   ]
  },
  {
   "cell_type": "markdown",
   "metadata": {},
   "source": [
    "L'exécution ci-dessous peut êêtre un peu longue..."
   ]
  },
  {
   "cell_type": "code",
   "execution_count": 57,
   "metadata": {
    "ExecuteTime": {
     "end_time": "2020-03-15T07:29:48.594010Z",
     "start_time": "2020-03-15T07:22:37.867126Z"
    }
   },
   "outputs": [
    {
     "ename": "KeyboardInterrupt",
     "evalue": "",
     "output_type": "error",
     "traceback": [
      "\u001b[1;31m---------------------------------------------------------------------------\u001b[0m",
      "\u001b[1;31mKeyboardInterrupt\u001b[0m                         Traceback (most recent call last)",
      "\u001b[1;32mc:\\Users\\Valentin\\Documents\\GitHub\\responsible-ai\\fairML-course\\AdultCensus\\AdultCensus-Python-biasDetection.ipynb Cell 71\u001b[0m in \u001b[0;36m<cell line: 7>\u001b[1;34m()\u001b[0m\n\u001b[0;32m      <a href='vscode-notebook-cell:/c%3A/Users/Valentin/Documents/GitHub/responsible-ai/fairML-course/AdultCensus/AdultCensus-Python-biasDetection.ipynb#Y131sZmlsZQ%3D%3D?line=4'>5</a>\u001b[0m param\u001b[39m=\u001b[39m[{\u001b[39m\"\u001b[39m\u001b[39mmax_features\u001b[39m\u001b[39m\"\u001b[39m:\u001b[39mlist\u001b[39m(\u001b[39mrange\u001b[39m(\u001b[39m2\u001b[39m,\u001b[39m10\u001b[39m,\u001b[39m1\u001b[39m))}]\n\u001b[0;32m      <a href='vscode-notebook-cell:/c%3A/Users/Valentin/Documents/GitHub/responsible-ai/fairML-course/AdultCensus/AdultCensus-Python-biasDetection.ipynb#Y131sZmlsZQ%3D%3D?line=5'>6</a>\u001b[0m rf\u001b[39m=\u001b[39m GridSearchCV(RandomForestClassifier(n_estimators\u001b[39m=\u001b[39m\u001b[39m500\u001b[39m,min_samples_split\u001b[39m=\u001b[39m\u001b[39m6\u001b[39m, min_samples_leaf\u001b[39m=\u001b[39m\u001b[39m5\u001b[39m,n_jobs\u001b[39m=\u001b[39m\u001b[39m-\u001b[39m\u001b[39m1\u001b[39m),param,cv\u001b[39m=\u001b[39m\u001b[39m10\u001b[39m,n_jobs\u001b[39m=\u001b[39m\u001b[39m-\u001b[39m\u001b[39m1\u001b[39m)\n\u001b[1;32m----> <a href='vscode-notebook-cell:/c%3A/Users/Valentin/Documents/GitHub/responsible-ai/fairML-course/AdultCensus/AdultCensus-Python-biasDetection.ipynb#Y131sZmlsZQ%3D%3D?line=6'>7</a>\u001b[0m rfOpt\u001b[39m=\u001b[39mrf\u001b[39m.\u001b[39;49mfit(X_train, Y_train)\n\u001b[0;32m      <a href='vscode-notebook-cell:/c%3A/Users/Valentin/Documents/GitHub/responsible-ai/fairML-course/AdultCensus/AdultCensus-Python-biasDetection.ipynb#Y131sZmlsZQ%3D%3D?line=7'>8</a>\u001b[0m \u001b[39m# paramètre optimal\u001b[39;00m\n\u001b[0;32m      <a href='vscode-notebook-cell:/c%3A/Users/Valentin/Documents/GitHub/responsible-ai/fairML-course/AdultCensus/AdultCensus-Python-biasDetection.ipynb#Y131sZmlsZQ%3D%3D?line=8'>9</a>\u001b[0m tps1\u001b[39m=\u001b[39m(time\u001b[39m.\u001b[39mperf_counter()\u001b[39m-\u001b[39mtps0)\n",
      "File \u001b[1;32mc:\\Users\\Valentin\\AppData\\Local\\Programs\\Python\\Python310\\lib\\site-packages\\sklearn\\model_selection\\_search.py:875\u001b[0m, in \u001b[0;36mBaseSearchCV.fit\u001b[1;34m(self, X, y, groups, **fit_params)\u001b[0m\n\u001b[0;32m    869\u001b[0m     results \u001b[39m=\u001b[39m \u001b[39mself\u001b[39m\u001b[39m.\u001b[39m_format_results(\n\u001b[0;32m    870\u001b[0m         all_candidate_params, n_splits, all_out, all_more_results\n\u001b[0;32m    871\u001b[0m     )\n\u001b[0;32m    873\u001b[0m     \u001b[39mreturn\u001b[39;00m results\n\u001b[1;32m--> 875\u001b[0m \u001b[39mself\u001b[39;49m\u001b[39m.\u001b[39;49m_run_search(evaluate_candidates)\n\u001b[0;32m    877\u001b[0m \u001b[39m# multimetric is determined here because in the case of a callable\u001b[39;00m\n\u001b[0;32m    878\u001b[0m \u001b[39m# self.scoring the return type is only known after calling\u001b[39;00m\n\u001b[0;32m    879\u001b[0m first_test_score \u001b[39m=\u001b[39m all_out[\u001b[39m0\u001b[39m][\u001b[39m\"\u001b[39m\u001b[39mtest_scores\u001b[39m\u001b[39m\"\u001b[39m]\n",
      "File \u001b[1;32mc:\\Users\\Valentin\\AppData\\Local\\Programs\\Python\\Python310\\lib\\site-packages\\sklearn\\model_selection\\_search.py:1375\u001b[0m, in \u001b[0;36mGridSearchCV._run_search\u001b[1;34m(self, evaluate_candidates)\u001b[0m\n\u001b[0;32m   1373\u001b[0m \u001b[39mdef\u001b[39;00m \u001b[39m_run_search\u001b[39m(\u001b[39mself\u001b[39m, evaluate_candidates):\n\u001b[0;32m   1374\u001b[0m     \u001b[39m\"\"\"Search all candidates in param_grid\"\"\"\u001b[39;00m\n\u001b[1;32m-> 1375\u001b[0m     evaluate_candidates(ParameterGrid(\u001b[39mself\u001b[39;49m\u001b[39m.\u001b[39;49mparam_grid))\n",
      "File \u001b[1;32mc:\\Users\\Valentin\\AppData\\Local\\Programs\\Python\\Python310\\lib\\site-packages\\sklearn\\model_selection\\_search.py:822\u001b[0m, in \u001b[0;36mBaseSearchCV.fit.<locals>.evaluate_candidates\u001b[1;34m(candidate_params, cv, more_results)\u001b[0m\n\u001b[0;32m    814\u001b[0m \u001b[39mif\u001b[39;00m \u001b[39mself\u001b[39m\u001b[39m.\u001b[39mverbose \u001b[39m>\u001b[39m \u001b[39m0\u001b[39m:\n\u001b[0;32m    815\u001b[0m     \u001b[39mprint\u001b[39m(\n\u001b[0;32m    816\u001b[0m         \u001b[39m\"\u001b[39m\u001b[39mFitting \u001b[39m\u001b[39m{0}\u001b[39;00m\u001b[39m folds for each of \u001b[39m\u001b[39m{1}\u001b[39;00m\u001b[39m candidates,\u001b[39m\u001b[39m\"\u001b[39m\n\u001b[0;32m    817\u001b[0m         \u001b[39m\"\u001b[39m\u001b[39m totalling \u001b[39m\u001b[39m{2}\u001b[39;00m\u001b[39m fits\u001b[39m\u001b[39m\"\u001b[39m\u001b[39m.\u001b[39mformat(\n\u001b[0;32m    818\u001b[0m             n_splits, n_candidates, n_candidates \u001b[39m*\u001b[39m n_splits\n\u001b[0;32m    819\u001b[0m         )\n\u001b[0;32m    820\u001b[0m     )\n\u001b[1;32m--> 822\u001b[0m out \u001b[39m=\u001b[39m parallel(\n\u001b[0;32m    823\u001b[0m     delayed(_fit_and_score)(\n\u001b[0;32m    824\u001b[0m         clone(base_estimator),\n\u001b[0;32m    825\u001b[0m         X,\n\u001b[0;32m    826\u001b[0m         y,\n\u001b[0;32m    827\u001b[0m         train\u001b[39m=\u001b[39;49mtrain,\n\u001b[0;32m    828\u001b[0m         test\u001b[39m=\u001b[39;49mtest,\n\u001b[0;32m    829\u001b[0m         parameters\u001b[39m=\u001b[39;49mparameters,\n\u001b[0;32m    830\u001b[0m         split_progress\u001b[39m=\u001b[39;49m(split_idx, n_splits),\n\u001b[0;32m    831\u001b[0m         candidate_progress\u001b[39m=\u001b[39;49m(cand_idx, n_candidates),\n\u001b[0;32m    832\u001b[0m         \u001b[39m*\u001b[39;49m\u001b[39m*\u001b[39;49mfit_and_score_kwargs,\n\u001b[0;32m    833\u001b[0m     )\n\u001b[0;32m    834\u001b[0m     \u001b[39mfor\u001b[39;49;00m (cand_idx, parameters), (split_idx, (train, test)) \u001b[39min\u001b[39;49;00m product(\n\u001b[0;32m    835\u001b[0m         \u001b[39menumerate\u001b[39;49m(candidate_params), \u001b[39menumerate\u001b[39;49m(cv\u001b[39m.\u001b[39;49msplit(X, y, groups))\n\u001b[0;32m    836\u001b[0m     )\n\u001b[0;32m    837\u001b[0m )\n\u001b[0;32m    839\u001b[0m \u001b[39mif\u001b[39;00m \u001b[39mlen\u001b[39m(out) \u001b[39m<\u001b[39m \u001b[39m1\u001b[39m:\n\u001b[0;32m    840\u001b[0m     \u001b[39mraise\u001b[39;00m \u001b[39mValueError\u001b[39;00m(\n\u001b[0;32m    841\u001b[0m         \u001b[39m\"\u001b[39m\u001b[39mNo fits were performed. \u001b[39m\u001b[39m\"\u001b[39m\n\u001b[0;32m    842\u001b[0m         \u001b[39m\"\u001b[39m\u001b[39mWas the CV iterator empty? \u001b[39m\u001b[39m\"\u001b[39m\n\u001b[0;32m    843\u001b[0m         \u001b[39m\"\u001b[39m\u001b[39mWere there no candidates?\u001b[39m\u001b[39m\"\u001b[39m\n\u001b[0;32m    844\u001b[0m     )\n",
      "File \u001b[1;32mc:\\Users\\Valentin\\AppData\\Local\\Programs\\Python\\Python310\\lib\\site-packages\\joblib\\parallel.py:1098\u001b[0m, in \u001b[0;36mParallel.__call__\u001b[1;34m(self, iterable)\u001b[0m\n\u001b[0;32m   1095\u001b[0m     \u001b[39mself\u001b[39m\u001b[39m.\u001b[39m_iterating \u001b[39m=\u001b[39m \u001b[39mFalse\u001b[39;00m\n\u001b[0;32m   1097\u001b[0m \u001b[39mwith\u001b[39;00m \u001b[39mself\u001b[39m\u001b[39m.\u001b[39m_backend\u001b[39m.\u001b[39mretrieval_context():\n\u001b[1;32m-> 1098\u001b[0m     \u001b[39mself\u001b[39;49m\u001b[39m.\u001b[39;49mretrieve()\n\u001b[0;32m   1099\u001b[0m \u001b[39m# Make sure that we get a last message telling us we are done\u001b[39;00m\n\u001b[0;32m   1100\u001b[0m elapsed_time \u001b[39m=\u001b[39m time\u001b[39m.\u001b[39mtime() \u001b[39m-\u001b[39m \u001b[39mself\u001b[39m\u001b[39m.\u001b[39m_start_time\n",
      "File \u001b[1;32mc:\\Users\\Valentin\\AppData\\Local\\Programs\\Python\\Python310\\lib\\site-packages\\joblib\\parallel.py:975\u001b[0m, in \u001b[0;36mParallel.retrieve\u001b[1;34m(self)\u001b[0m\n\u001b[0;32m    973\u001b[0m \u001b[39mtry\u001b[39;00m:\n\u001b[0;32m    974\u001b[0m     \u001b[39mif\u001b[39;00m \u001b[39mgetattr\u001b[39m(\u001b[39mself\u001b[39m\u001b[39m.\u001b[39m_backend, \u001b[39m'\u001b[39m\u001b[39msupports_timeout\u001b[39m\u001b[39m'\u001b[39m, \u001b[39mFalse\u001b[39;00m):\n\u001b[1;32m--> 975\u001b[0m         \u001b[39mself\u001b[39m\u001b[39m.\u001b[39m_output\u001b[39m.\u001b[39mextend(job\u001b[39m.\u001b[39;49mget(timeout\u001b[39m=\u001b[39;49m\u001b[39mself\u001b[39;49m\u001b[39m.\u001b[39;49mtimeout))\n\u001b[0;32m    976\u001b[0m     \u001b[39melse\u001b[39;00m:\n\u001b[0;32m    977\u001b[0m         \u001b[39mself\u001b[39m\u001b[39m.\u001b[39m_output\u001b[39m.\u001b[39mextend(job\u001b[39m.\u001b[39mget())\n",
      "File \u001b[1;32mc:\\Users\\Valentin\\AppData\\Local\\Programs\\Python\\Python310\\lib\\site-packages\\joblib\\_parallel_backends.py:567\u001b[0m, in \u001b[0;36mLokyBackend.wrap_future_result\u001b[1;34m(future, timeout)\u001b[0m\n\u001b[0;32m    564\u001b[0m \u001b[39m\"\"\"Wrapper for Future.result to implement the same behaviour as\u001b[39;00m\n\u001b[0;32m    565\u001b[0m \u001b[39mAsyncResults.get from multiprocessing.\"\"\"\u001b[39;00m\n\u001b[0;32m    566\u001b[0m \u001b[39mtry\u001b[39;00m:\n\u001b[1;32m--> 567\u001b[0m     \u001b[39mreturn\u001b[39;00m future\u001b[39m.\u001b[39;49mresult(timeout\u001b[39m=\u001b[39;49mtimeout)\n\u001b[0;32m    568\u001b[0m \u001b[39mexcept\u001b[39;00m CfTimeoutError \u001b[39mas\u001b[39;00m e:\n\u001b[0;32m    569\u001b[0m     \u001b[39mraise\u001b[39;00m \u001b[39mTimeoutError\u001b[39;00m \u001b[39mfrom\u001b[39;00m \u001b[39me\u001b[39;00m\n",
      "File \u001b[1;32mc:\\Users\\Valentin\\AppData\\Local\\Programs\\Python\\Python310\\lib\\concurrent\\futures\\_base.py:441\u001b[0m, in \u001b[0;36mFuture.result\u001b[1;34m(self, timeout)\u001b[0m\n\u001b[0;32m    438\u001b[0m \u001b[39melif\u001b[39;00m \u001b[39mself\u001b[39m\u001b[39m.\u001b[39m_state \u001b[39m==\u001b[39m FINISHED:\n\u001b[0;32m    439\u001b[0m     \u001b[39mreturn\u001b[39;00m \u001b[39mself\u001b[39m\u001b[39m.\u001b[39m__get_result()\n\u001b[1;32m--> 441\u001b[0m \u001b[39mself\u001b[39;49m\u001b[39m.\u001b[39;49m_condition\u001b[39m.\u001b[39;49mwait(timeout)\n\u001b[0;32m    443\u001b[0m \u001b[39mif\u001b[39;00m \u001b[39mself\u001b[39m\u001b[39m.\u001b[39m_state \u001b[39min\u001b[39;00m [CANCELLED, CANCELLED_AND_NOTIFIED]:\n\u001b[0;32m    444\u001b[0m     \u001b[39mraise\u001b[39;00m CancelledError()\n",
      "File \u001b[1;32mc:\\Users\\Valentin\\AppData\\Local\\Programs\\Python\\Python310\\lib\\threading.py:320\u001b[0m, in \u001b[0;36mCondition.wait\u001b[1;34m(self, timeout)\u001b[0m\n\u001b[0;32m    318\u001b[0m \u001b[39mtry\u001b[39;00m:    \u001b[39m# restore state no matter what (e.g., KeyboardInterrupt)\u001b[39;00m\n\u001b[0;32m    319\u001b[0m     \u001b[39mif\u001b[39;00m timeout \u001b[39mis\u001b[39;00m \u001b[39mNone\u001b[39;00m:\n\u001b[1;32m--> 320\u001b[0m         waiter\u001b[39m.\u001b[39;49macquire()\n\u001b[0;32m    321\u001b[0m         gotit \u001b[39m=\u001b[39m \u001b[39mTrue\u001b[39;00m\n\u001b[0;32m    322\u001b[0m     \u001b[39melse\u001b[39;00m:\n",
      "\u001b[1;31mKeyboardInterrupt\u001b[0m: "
     ]
    }
   ],
   "source": [
    "# optimisation du paramètre\n",
    "import time\n",
    "from sklearn.model_selection import GridSearchCV\n",
    "tps0=time.perf_counter()\n",
    "param=[{\"max_features\":list(range(2,10,1))}]\n",
    "rf= GridSearchCV(RandomForestClassifier(n_estimators=500,min_samples_split=6, min_samples_leaf=5,n_jobs=-1),param,cv=10,n_jobs=-1)\n",
    "rfOpt=rf.fit(X_train, Y_train)\n",
    "# paramètre optimal\n",
    "tps1=(time.perf_counter()-tps0)\n",
    "print(\"Temps r forest = %f, Meilleur taux = %f, Meilleur paramètre = %s\" % (tps1,\n",
    "                                    1. - rfOpt.best_score_,rfOpt.best_params_))"
   ]
  },
  {
   "cell_type": "code",
   "execution_count": null,
   "metadata": {
    "ExecuteTime": {
     "end_time": "2020-03-15T07:29:48.600541Z",
     "start_time": "2020-03-15T07:29:48.596911Z"
    }
   },
   "outputs": [],
   "source": [
    "CrfOpt=rfOpt.best_params_[\"max_features\"]"
   ]
  },
  {
   "cell_type": "code",
   "execution_count": null,
   "metadata": {
    "ExecuteTime": {
     "end_time": "2020-03-15T07:29:49.033037Z",
     "start_time": "2020-03-15T07:29:48.602290Z"
    }
   },
   "outputs": [],
   "source": [
    "# erreur de prévision sur le test\n",
    "1-rfOpt.score(X_test,Y_test)"
   ]
  },
  {
   "cell_type": "code",
   "execution_count": null,
   "metadata": {
    "ExecuteTime": {
     "end_time": "2020-03-15T07:29:49.490760Z",
     "start_time": "2020-03-15T07:29:49.034873Z"
    }
   },
   "outputs": [],
   "source": [
    "# prévision\n",
    "y_chap = rfFit.predict(X_test)\n",
    "# matrice de confusion\n",
    "table=pd.crosstab(y_chap,Y_test)\n",
    "print(table)"
   ]
  },
  {
   "cell_type": "code",
   "execution_count": null,
   "metadata": {
    "ExecuteTime": {
     "end_time": "2020-03-15T07:29:51.867478Z",
     "start_time": "2020-03-15T07:29:49.495270Z"
    }
   },
   "outputs": [],
   "source": [
    "rf= RandomForestClassifier(n_estimators=100,max_features=6, min_samples_leaf=5)\n",
    "rfFit=rf.fit(X_train, Y_train)\n",
    "# Importance décroissante des variables\n",
    "importances = rfFit.feature_importances_\n",
    "indices = np.argsort(importances)[::-1]\n",
    "for f in range(20):\n",
    "    print(X_train.columns[indices[f]], importances[indices[f]])"
   ]
  },
  {
   "cell_type": "code",
   "execution_count": null,
   "metadata": {
    "ExecuteTime": {
     "end_time": "2020-03-15T07:29:52.085487Z",
     "start_time": "2020-03-15T07:29:51.869519Z"
    }
   },
   "outputs": [],
   "source": [
    "# Graphe des importances\n",
    "plt.figure()\n",
    "plt.title(\"Importances des variables\")\n",
    "plt.bar(range(X_train.shape[1]), importances[indices])\n",
    "plt.xticks(range(X_train.shape[1]), indices)\n",
    "plt.xlim([-1, X_train.shape[1]])\n",
    "plt.show()"
   ]
  },
  {
   "cell_type": "markdown",
   "metadata": {},
   "source": [
    "**Q** Comment est obtenu le graphique? Quel indicateur d'importance est utilisé? Comment interpréter ces résultats?"
   ]
  },
  {
   "cell_type": "markdown",
   "metadata": {},
   "source": [
    "### 3.3 [Gradient boosting](http://wikistat.fr/pdf/st-m-app-agreg.pdf)\n",
    "L'algorithme *machine gradient boosting* pour améliorer les performances.Il est probable que la version XGBoost permette de gagner encore un peu en précision mais ce n'est pas l'objectif ici mais plutôt d'observer l'impact sur le biais de ce type d'algorithme.\n",
    "\n",
    "**Q** Pourquoi pas de paramètre `njobs=-1`? Corrélativement quel est l'intérêt de la librairie XGBoost?\n",
    "\n",
    "**Q** En plus de celui optimisé, quels sont les 2 principaux paramètres de cet algorithme laissés par défaut?"
   ]
  },
  {
   "cell_type": "code",
   "execution_count": null,
   "metadata": {
    "ExecuteTime": {
     "end_time": "2020-03-15T07:33:27.650754Z",
     "start_time": "2020-03-15T07:29:52.087384Z"
    }
   },
   "outputs": [],
   "source": [
    "from sklearn.ensemble import GradientBoostingClassifier\n",
    "tps0=time.perf_counter()\n",
    "param=[{\"n_estimators\":[300, 350, 400]}]\n",
    "gbm= GridSearchCV(GradientBoostingClassifier(),param,cv=10)\n",
    "gbmOpt=gbm.fit(X_train, Y_train)\n",
    "# paramètre optimal\n",
    "tps1=(time.perf_counter()-tps0)\n",
    "print(\"Temps boosting = %f, Meilleur taux = %f, Meilleur paramètre = %s\" % (tps1,\n",
    "                        1. - gbmOpt.best_score_,gbmOpt.best_params_))"
   ]
  },
  {
   "cell_type": "code",
   "execution_count": null,
   "metadata": {
    "ExecuteTime": {
     "end_time": "2020-03-15T07:33:27.654882Z",
     "start_time": "2020-03-15T07:33:27.652399Z"
    }
   },
   "outputs": [],
   "source": [
    "CgbmOpt=gbmOpt.best_params_[\"n_estimators\"]"
   ]
  },
  {
   "cell_type": "code",
   "execution_count": null,
   "metadata": {
    "ExecuteTime": {
     "end_time": "2020-03-15T07:33:27.726597Z",
     "start_time": "2020-03-15T07:33:27.656315Z"
    }
   },
   "outputs": [],
   "source": [
    "# erreur de prévision sur le test\n",
    "1-gbmOpt.score(X_test,Y_test)"
   ]
  },
  {
   "cell_type": "code",
   "execution_count": null,
   "metadata": {
    "ExecuteTime": {
     "end_time": "2020-03-15T07:33:27.802329Z",
     "start_time": "2020-03-15T07:33:27.728568Z"
    }
   },
   "outputs": [],
   "source": [
    "# prévision de l'échantillon test\n",
    "y_chap = gbmOpt.predict(X_test)\n",
    "# matrice de confusion\n",
    "table=pd.crosstab(y_chap,Y_test)\n",
    "print(table)"
   ]
  },
  {
   "cell_type": "markdown",
   "metadata": {},
   "source": [
    "Le [tutoriel](https://github.com/wikistat/Apprentissage/blob/master/Adult-Census/Apprent-Python-AdultCensus.ipynb) du dépôt d'apprentissage compare finement les performances des algoritmes: courbes ROC et [Validation croisée](http://wikistat.fr/pdf/st-m-app-risque.pdf) *Monte Carlo*."
   ]
  },
  {
   "cell_type": "markdown",
   "metadata": {},
   "source": [
    "## 4 Détection des discriminations\n",
    "Cette section est focalisée sur les codes des fonctions d'estimations par intervalle de confiance des principaux indicateurs de biais. Un travail laissé en exercice permettrait d'obtenir facilement les résultats complémentaires du [tutoriel en R](https://github.com/wikistat/Fair-ML-4-Ethical-AI/blob/master/AdultCensus/AdultCensus-R-biasDetectionCourt.ipynb): suppression de la variable sensible du modèle, inutilité du *testing*, atténuation élémentaire du biais et discrimination positive, effet de cette atténuation sur les autres biais.\n",
    "\n",
    "### 4.1 Estimation de l'effet disproportionné\n",
    "Fontions d'estimation pontuelle et par intervalle de confiance de l'effet disproportionné."
   ]
  },
  {
   "cell_type": "code",
   "execution_count": null,
   "metadata": {
    "ExecuteTime": {
     "end_time": "2020-03-15T11:09:21.641782Z",
     "start_time": "2020-03-15T11:09:21.632408Z"
    }
   },
   "outputs": [],
   "source": [
    "def DI(tab):\n",
    "    \"\"\"\n",
    "    Calcule le disparate impact ponctuel d'une table de contingence \n",
    "    Colonnes = Variable sensible\n",
    "    Lignes = variable cible\n",
    "    \"\"\"\n",
    "    tab_np = tab.to_numpy()\n",
    "    DI = (tab_np[0,0] / (tab_np[1,0] + tab_np[0,0])) / (tab_np[0,1] / (tab_np[1,1] + tab_np[0,1]))\n",
    "    return DI"
   ]
  },
  {
   "cell_type": "code",
   "execution_count": null,
   "metadata": {},
   "outputs": [],
   "source": [
    "def dispImp(var_sens, var_cible, alpha=0.05):\n",
    "    \"\"\"\n",
    "    Estimation du disparate impact par intervalle de confiance  \n",
    "                                                             \n",
    "  Cette fonction prend trois arguments en entrée :           \n",
    "    - La variable binaire considérée comme sensible          \n",
    "    - La variable cible Y ou sa prévision                    \n",
    "    - alpha par défaut 0.05                                  \n",
    "  Elle renvoie la valeur Tn du disparate impact et des bornes de l'intervalle de confiance                \n",
    "  Attention à l'ordre lexicographique des niveaux des facteurs, le premier est par convention celui jugé défavorable  \n",
    "    \"\"\"\n",
    "\n",
    "    S = var_sens.astype('int')\n",
    "    Y = var_cible.astype('int')\n",
    "    n = len(S)\n",
    "    \n",
    "    pi_1 = np.sum(S)/n #estimated P(S=1)\n",
    "    pi_0 = 1 - pi_1 #estimated P(S=0)\n",
    "    p_1 = np.sum(S * Y) / n #estimated P(g(X)=1, S=1)\n",
    "    p_0 = np.sum((1 - S) * Y) / n #estimated P(g(X)=1, S=0)\n",
    "    Tn = p_0 * pi_1 / (p_1 * pi_0) # disparate impact\n",
    "    grad_h = lambda x: np.array((x[3]/(x[1]*x[2]), -x[0]*x[3]/(x[1]**2 * x[2]), -x[0]*x[3]/(x[2]**2 * x[1]), x[0]/(x[2]*x[1])))\n",
    "    grad = grad_h([p_0, p_1, pi_0, pi_1])\n",
    "    Cov_4 = np.array([(0, -p_0*p_1, pi_1*p_0, -pi_1*p_0), (0, 0, -pi_0*p_1, pi_0*p_1), (0,0,0,-pi_0*pi_1), (0,0,0,0)]).T\n",
    "    Cov_4 = Cov_4 + Cov_4.T + np.diag((p_0*(1-p_0), p_1*(1-p_1),pi_0*pi_1,pi_0*pi_1))\n",
    "    sigma = np.sqrt((grad.dot(Cov_4)).dot(grad))\n",
    "    \n",
    "    lower_lim = Tn - (sigma * scipy.stats.norm.ppf(1-alpha/2)) / np.sqrt(n)\n",
    "    upper_lim = Tn + (sigma * scipy.stats.norm.ppf(1-alpha/2)) / np.sqrt(n)\n",
    "    \n",
    "    return np.array([lower_lim, Tn, upper_lim])"
   ]
  },
  {
   "cell_type": "code",
   "execution_count": null,
   "metadata": {
    "ExecuteTime": {
     "end_time": "2020-03-15T11:09:24.077781Z",
     "start_time": "2020-03-15T11:09:23.523772Z"
    }
   },
   "outputs": [],
   "source": [
    "logitFixe = LogisticRegression(penalty=\"l1\",solver=\"liblinear\", C=ClogOpt)\n",
    "logitFixe.fit(X_train, Y_train)\n",
    "y_chap_logit = logitFixe.predict(X_test)"
   ]
  },
  {
   "cell_type": "code",
   "execution_count": null,
   "metadata": {
    "ExecuteTime": {
     "end_time": "2020-03-15T11:09:40.357421Z",
     "start_time": "2020-03-15T11:09:26.157352Z"
    }
   },
   "outputs": [
    {
     "ename": "NameError",
     "evalue": "name 'RandomForestClassifier' is not defined",
     "output_type": "error",
     "traceback": [
      "\u001b[1;31m---------------------------------------------------------------------------\u001b[0m",
      "\u001b[1;31mNameError\u001b[0m                                 Traceback (most recent call last)",
      "\u001b[1;32mc:\\Users\\Valentin\\Documents\\GitHub\\responsible-ai\\fairML-course\\AdultCensus\\AdultCensus-Python-biasDetection.ipynb Cell 88\u001b[0m in \u001b[0;36m<cell line: 1>\u001b[1;34m()\u001b[0m\n\u001b[1;32m----> <a href='vscode-notebook-cell:/c%3A/Users/Valentin/Documents/GitHub/responsible-ai/fairML-course/AdultCensus/AdultCensus-Python-biasDetection.ipynb#Y154sZmlsZQ%3D%3D?line=0'>1</a>\u001b[0m rfFixe \u001b[39m=\u001b[39m RandomForestClassifier(n_estimators\u001b[39m=\u001b[39m\u001b[39m500\u001b[39m, max_features\u001b[39m=\u001b[39mCrfOpt)\n\u001b[0;32m      <a href='vscode-notebook-cell:/c%3A/Users/Valentin/Documents/GitHub/responsible-ai/fairML-course/AdultCensus/AdultCensus-Python-biasDetection.ipynb#Y154sZmlsZQ%3D%3D?line=1'>2</a>\u001b[0m rfFixe\u001b[39m.\u001b[39mfit(X_train, Y_train)\n\u001b[0;32m      <a href='vscode-notebook-cell:/c%3A/Users/Valentin/Documents/GitHub/responsible-ai/fairML-course/AdultCensus/AdultCensus-Python-biasDetection.ipynb#Y154sZmlsZQ%3D%3D?line=2'>3</a>\u001b[0m y_chap_rf \u001b[39m=\u001b[39m rfFixe\u001b[39m.\u001b[39mpredict(X_test)\n",
      "\u001b[1;31mNameError\u001b[0m: name 'RandomForestClassifier' is not defined"
     ]
    }
   ],
   "source": [
    "rfFixe = RandomForestClassifier(n_estimators=500, max_features=CrfOpt)\n",
    "rfFixe.fit(X_train, Y_train)\n",
    "y_chap_rf = rfFixe.predict(X_test)"
   ]
  },
  {
   "cell_type": "code",
   "execution_count": null,
   "metadata": {
    "ExecuteTime": {
     "end_time": "2020-03-15T09:33:55.178311Z",
     "start_time": "2020-03-15T09:33:45.099843Z"
    }
   },
   "outputs": [],
   "source": [
    "gbmFixe = GradientBoostingClassifier(n_estimators=CgbmOpt)\n",
    "gbmFixe.fit(X_train, Y_train)\n",
    "y_chap_gbm = gbmFixe.predict(X_test)"
   ]
  },
  {
   "cell_type": "code",
   "execution_count": null,
   "metadata": {
    "ExecuteTime": {
     "end_time": "2020-03-15T09:33:55.220231Z",
     "start_time": "2020-03-15T09:33:55.179818Z"
    }
   },
   "outputs": [],
   "source": [
    "# récupération des matrices de confusion\n",
    "tableSex_logit = pd.crosstab(y_chap_logit, X_test['sex_ Male'].map({0: \"Female\", 1: \"Male\"}),\n",
    "                          rownames=['Sex'], colnames=['Inc'])\n",
    "tableSex_rf = pd.crosstab(y_chap_rf, X_test['sex_ Male'].map({0: \"Female\", 1: \"Male\"}), \n",
    "                          rownames=['Sex'], colnames=['Inc'])\n",
    "tableSex_gbm = pd.crosstab(y_chap_gbm, X_test['sex_ Male'].map({0: \"Female\", 1: \"Male\"}), \n",
    "                          rownames=['Sex'], colnames=['Inc'])"
   ]
  },
  {
   "cell_type": "code",
   "execution_count": null,
   "metadata": {
    "ExecuteTime": {
     "end_time": "2020-03-15T09:33:55.226055Z",
     "start_time": "2020-03-15T09:33:55.221829Z"
    }
   },
   "outputs": [],
   "source": [
    "#Calcul des DI ponctuels\n",
    "diSex_logit = DI(tableSex_logit)\n",
    "diSex_rf = DI(tableSex_rf)\n",
    "diSex_gbm = DI(tableSex_gbm)"
   ]
  },
  {
   "cell_type": "code",
   "execution_count": null,
   "metadata": {
    "ExecuteTime": {
     "end_time": "2020-03-15T09:33:55.233433Z",
     "start_time": "2020-03-15T09:33:55.228132Z"
    }
   },
   "outputs": [],
   "source": [
    "print(diSex_logit)\n",
    "print(diSex_rf)\n",
    "print(diSex_gbm)"
   ]
  },
  {
   "cell_type": "code",
   "execution_count": null,
   "metadata": {
    "ExecuteTime": {
     "end_time": "2020-03-15T09:33:55.244805Z",
     "start_time": "2020-03-15T09:33:55.235575Z"
    }
   },
   "outputs": [],
   "source": [
    "dispimpSex_theorique = dispImp(X_test[\"sex_ Male\"].values, Y_test.map({\"incLow\": 0, \"incHigh\": 1}))"
   ]
  },
  {
   "cell_type": "code",
   "execution_count": null,
   "metadata": {
    "ExecuteTime": {
     "end_time": "2020-03-15T09:33:55.261627Z",
     "start_time": "2020-03-15T09:33:55.246964Z"
    }
   },
   "outputs": [],
   "source": [
    "dispimpSex_logit = dispImp(X_test[\"sex_ Male\"].values, \n",
    "                            pd.Series(y_chap_logit).map({\"incLow\": 0, \"incHigh\": 1}).values)\n",
    "dispimpSex_rf = dispImp(X_test[\"sex_ Male\"].values, \n",
    "                         pd.Series(y_chap_rf).map({\"incLow\": 0, \"incHigh\": 1}).values)\n",
    "dispimpSex_gbm = dispImp(X_test[\"sex_ Male\"].values, \n",
    "                          pd.Series(y_chap_gbm).map({\"incLow\": 0, \"incHigh\": 1}).values)"
   ]
  },
  {
   "cell_type": "code",
   "execution_count": null,
   "metadata": {
    "ExecuteTime": {
     "end_time": "2020-03-15T09:33:55.268473Z",
     "start_time": "2020-03-15T09:33:55.263474Z"
    }
   },
   "outputs": [],
   "source": [
    "print(dispimpSex_theorique)\n",
    "print(dispimpSex_logit)\n",
    "print(dispimpSex_rf)\n",
    "print(dispimpSex_gbm)"
   ]
  },
  {
   "cell_type": "markdown",
   "metadata": {},
   "source": [
    "**Q** Comparer ces intervalles de confiance et avec ceux obtenus en R. Commenter."
   ]
  },
  {
   "cell_type": "markdown",
   "metadata": {},
   "source": [
    "#### Représentation graphique\n",
    "Le graphique obtenu est très sommaire, il mériterait un peu de travail afin de retrouver une présentation plus explicite comme celle obtenue avec les fonctions R."
   ]
  },
  {
   "cell_type": "code",
   "execution_count": null,
   "metadata": {
    "ExecuteTime": {
     "end_time": "2020-03-15T09:33:55.485873Z",
     "start_time": "2020-03-15T09:33:55.269890Z"
    }
   },
   "outputs": [],
   "source": [
    "fig, ax = plt.subplots(figsize=(15, 5))\n",
    "plt.rc('xtick', labelsize=20) \n",
    "plt.rc('ytick', labelsize=20) \n",
    "\n",
    "# Create a dataframe\n",
    "IC_l = [x[0] for x in [dispimpSex_theorique, dispimpSex_logit, dispimpSex_rf, dispimpSex_gbm]]\n",
    "mean = [x[1] for x in [dispimpSex_theorique, dispimpSex_logit, dispimpSex_rf, dispimpSex_gbm]]\n",
    "IC_h = [x[2] for x in [dispimpSex_theorique, dispimpSex_logit, dispimpSex_rf, dispimpSex_gbm]]\n",
    "\n",
    "df = pd.DataFrame({'method': list(map(str, [\"données\", \"logit\", \"rf\", \"gbm\"])), \n",
    "                   'IC_l' : IC_l , 'mean' : mean, 'IC_h' : IC_h })\n",
    "\n",
    "# Reorder it following the values of the first value:\n",
    "\n",
    "my_range=range(1,len(df.index)+1)\n",
    "col = [ \"slateblue\",  \"cadetblue\", \"darkolivegreen\", \"y\"]\n",
    "plt.hlines(y=my_range, xmin=df['IC_l'], xmax=df['IC_h'], color='darkblue', alpha=0.8, linewidth=4)\n",
    "plt.scatter(df['IC_l'], my_range, color='darkblue', alpha=0.8, marker=4)\n",
    "plt.scatter(df['mean'], my_range, color=col, alpha=1, marker=\"s\", linewidths=8)\n",
    "plt.scatter(df['IC_h'], my_range, color='darkblue', alpha=0.8, marker=5)\n",
    "axes = plt.gca()\n",
    "axes.set_xlim((0.1, 0.6))\n",
    "# plt.xlim((0.1, 0.7))\n",
    "# Add title and axis names\n",
    "plt.yticks(my_range, df['method'])\n",
    "plt.title(\"Effet disproportionné du genre selon diverses approches\", loc='center')\n",
    "plt.xlabel('Effet Disproportionné')\n",
    "\n",
    "plt.show()"
   ]
  },
  {
   "cell_type": "markdown",
   "metadata": {},
   "source": [
    "### 4.2 Comparaison des erreurs de prévision\n",
    "Estimation par intervalle de confiance du rapport des erreurs conditionelles."
   ]
  },
  {
   "cell_type": "code",
   "execution_count": null,
   "metadata": {},
   "outputs": [],
   "source": [
    "def overErrEqual(var_sens, var_cible, var_prev, alpha=0.05):\n",
    "    \"\"\"\n",
    "    Estimation de \"overall Error Equality\"   par Int. de Conf.  \n",
    "                                                             \n",
    "  Cette fonction prend trois arguments en entrée :           \n",
    "    - La variable binaire considérée comme sensible          \n",
    "    - La variable cible Y                                    \n",
    "    - La prévision P de cette variable                       \n",
    "    - alpha par défaut 0.05                                  \n",
    "  Elle renvoie la valeur du rapport des erreurs              \n",
    "   et des bornes de l'intervalle de confiance                \n",
    " Attention à l'ordre lexicographique des niveaux des facteurs\n",
    " Le premier est par convention celui jugé défavorable\n",
    "    \"\"\"\n",
    "    \n",
    "    grad_h = lambda x: np.array((x[3]/(x[1]*x[2]), -x[0]*x[3]/(x[1]**2 * x[2]), -x[0]*x[3]/(x[2]**2 * x[1]), x[0]/(x[2]*x[1])))\n",
    "    \n",
    "    S = var_sens.astype('int')\n",
    "    Y = var_cible.astype('int')\n",
    "    P = var_prev.astype('int')\n",
    "    n = len(S)\n",
    "    \n",
    "    pi_1 = np.sum(S)/n #estimated P(S=1)\n",
    "    pi_0 = 1-pi_1 #estimated P(S=0)\n",
    "    \n",
    "    # Testing Overall Error Equality: P(g(X,S)\\neq Y|S=0)/P(g(X,S)\\neq Y|S=1) \n",
    "    pp_0 = np.sum((1-S)*(1-Y)*P)/n #estimated P(g(X,S)=1, Y=0, S=0)\n",
    "    qq_0 = np.sum((1-S)*Y*(1-P))/n #estimated P(g(X,S)=0, Y=1, S=0)\n",
    "    pp_1 = np.sum(S*(1-Y)*P)/n #estimated P(g(X,S)=1, Y=0, S=1)\n",
    "    qq_1 = np.sum(S*Y*(1-P))/n #estimated P(g(X,S)=0, Y=1, S=1)\n",
    "\n",
    "    TnA3 = (pp_0+qq_0)*pi_1/((pp_1+qq_1)*pi_0) #statistic\n",
    "    grad = grad_h([pp_0+qq_0,pp_1+qq_1,pi_0,pi_1])\n",
    "    \n",
    "    Cov_4 = np.array([(0, -(pp_0+qq_0)*(pp_1+qq_1), (pp_0+qq_0)*(1-pi_0), -(pp_0+qq_0)*pi_1), (0, 0, -(pp_1+qq_1)*pi_0, (pp_1+qq_1)*(1-pi_1)), (0,0,0,-pi_0*pi_1), (0,0,0,0)])\n",
    "    Cov_4 = Cov_4 + Cov_4.T + np.diag(((pp_0+qq_0)*(1-(pp_0+qq_0)), (pp_1+qq_1)*(1-(pp_1+qq_1)),pi_0*(1-pi_0),pi_1*(1-pi_1)))\n",
    "    sigmaA3 = np.sqrt((grad.dot(Cov_4)).dot(grad))\n",
    "    lower_limA3 = TnA3 - (sigmaA3 * scipy.stats.norm.ppf(1-alpha/2)) / np.sqrt(n)\n",
    "    upper_limA3 = TnA3 + (sigmaA3 * scipy.stats.norm.ppf(1-alpha/2)) / np.sqrt(n)\n",
    "    \n",
    "    OEE_CI = pd.DataFrame({\"inf\": lower_limA3,\n",
    "                              \"est_value\": [TnA3],\n",
    "                              \"sup\": [upper_limA3]},\n",
    "                             index=[\"OEE\"])\n",
    "    return OEE_CI"
   ]
  },
  {
   "cell_type": "code",
   "execution_count": null,
   "metadata": {},
   "outputs": [],
   "source": [
    "errSex_logit = overErrEqual(X_test[\"sex_ Male\"].values, Y_test.map({\"incLow\": 0, \"incHigh\": 1}).values, \n",
    "                            pd.Series(y_chap_logit).map({\"incLow\": 0, \"incHigh\": 1}).values)\n",
    "errSex_logit"
   ]
  },
  {
   "cell_type": "code",
   "execution_count": null,
   "metadata": {},
   "outputs": [],
   "source": [
    "errSex_rf = overErrEqual(X_test[\"sex_ Male\"].values, Y_test.map({\"incLow\": 0, \"incHigh\": 1}).values, \n",
    "                            pd.Series(y_chap_rf).map({\"incLow\": 0, \"incHigh\": 1}).values)\n",
    "errSex_rf"
   ]
  },
  {
   "cell_type": "code",
   "execution_count": null,
   "metadata": {},
   "outputs": [],
   "source": [
    "errSex_gbm = overErrEqual(X_test[\"sex_ Male\"].values, Y_test.map({\"incLow\": 0, \"incHigh\": 1}).values, \n",
    "                            pd.Series(y_chap_gbm).map({\"incLow\": 0, \"incHigh\": 1}).values)\n",
    "errSex_gbm"
   ]
  },
  {
   "cell_type": "markdown",
   "metadata": {},
   "source": [
    "### 4.3 Comparaison des cotes\n",
    "Estiation par intervalle de confiance des rapports des cotes conditionnelles."
   ]
  },
  {
   "cell_type": "code",
   "execution_count": null,
   "metadata": {},
   "outputs": [],
   "source": [
    "def equalOdds(var_sens, var_cible, var_prev, alpha=0.05):\n",
    "    \"\"\"\n",
    "     Estimation de equalized odds par intervalle de confiance  \n",
    "FPRS: P(g(X,S)=1|Y=0,S=0)/P(g(X,S)=1|Y=0,S=1)               \n",
    "TPRs: P(g(X,S)=1|Y=1,S=0)=P(g(X,S)=1|Y=1,S=1)               \n",
    "Cette fonction prend trois arguments en entrée :           \n",
    "    - La variable binaire considérée comme sensible          \n",
    "    - La variable cible Y observée                           \n",
    "    - La prévision de P de Y                                 \n",
    "    - alpha par défaut 0.05                                  \n",
    "  Elle renvoie la valeur Tn du disparate impact              \n",
    "   et des bornes de l'intervalle de confiance                \n",
    " Attention à l'ordre lexicographique des niveaux des facteurs\n",
    " Le premier est par convention celui jugé défavorable        \n",
    "    \"\"\"\n",
    "    \n",
    "    S = var_sens.astype('int')\n",
    "    Y = var_cible.astype('int')\n",
    "    P = var_prev.astype('int')\n",
    "    n = len(S)\n",
    "    \n",
    "    ### 1.- Testing FPRs equality\n",
    "    p_1 = np.sum(S*(1-Y)*P)/n #estimated P(g(X)=1, Y=0, S=1)\n",
    "    p_0 = np.sum((1-S)*(1-Y)*P)/n #estimated P(g(X)=1, Y=0, S=0)\n",
    "    r_1 = np.sum(S*(1-Y))/n #estimated P(Y=0, S=1)\n",
    "    r_0 = np.sum((1-S)*(1-Y))/n #estimated P(Y=0, S=0)\n",
    "    \n",
    "    FPRR = p_0*r_1/(p_1*r_0) #statistic FALSE POSITIVE RATE\n",
    "    grad_h = lambda x: np.array((x[3]/(x[1]*x[2]), -x[0]*x[3]/(x[1]**2 * x[2]), -x[0]*x[3]/(x[2]**2 * x[1]), x[0]/(x[2]*x[1])))\n",
    "    grad = grad_h([p_0, p_1, r_0, r_1])\n",
    "    \n",
    "    Cov_4 = np.array([(0, -p_0*p_1, p_0*(1-r_0), -p_0*r_1), (0, 0, -p_1*r_0, p_1*(1-r_1)), (0,0,0,-r_0*r_1), (0,0,0,0)]).T\n",
    "    Cov_4 = Cov_4 + Cov_4.T + np.diag((p_0*(1-p_0), p_1*(1-p_1),r_0*(1-r_0),r_1*(1-r_1)))\n",
    "    sigma = np.sqrt((grad.dot(Cov_4)).dot(grad))\n",
    "    lower_lim1 = FPRR - (sigma * scipy.stats.norm.ppf(1-alpha/2)) / np.sqrt(n)\n",
    "    upper_lim1 = FPRR + (sigma * scipy.stats.norm.ppf(1-alpha/2)) / np.sqrt(n)\n",
    "    \n",
    "    \n",
    "    ### 2.- Testing TPRs equality: P(g(X,S)=1|Y=1,S=0)/P(g(X,S)=1|Y=1,S=1)\n",
    "    q_1 = np.sum(S*Y*P)/n #estimated P(g(X,S)=1, Y=1, S=1)\n",
    "    q_0 = np.sum((1-S)*Y*P)/n #estimated P(g(X,S)=1, Y=1, S=0)\n",
    "    s_1 = np.sum(S*Y)/n #estimated P(Y=1, S=1)\n",
    "    s_0 = np.sum((1-S)*Y)/n #estimated P(Y=1, S=0)\n",
    "    \n",
    "    TPRR = q_0*s_1/(q_1*s_0) #statistic TRUE POSITIVE\n",
    "    grad = grad_h([q_0,q_1,s_0,s_1])\n",
    "    \n",
    "    Cov_4 = np.array([(0, -q_0*q_1, q_0*(1-s_0), -q_0*s_1), (0, 0, -q_1*s_0, q_1*(1-s_1)), (0,0,0,-s_0*s_1), (0,0,0,0)]).T\n",
    "    Cov_4 = Cov_4 + Cov_4.T + np.diag((q_0*(1-q_0), q_1*(1-q_1),s_0*(1-s_0),s_1*(1-s_1)))\n",
    "    sigmaA1 = np.sqrt((grad.dot(Cov_4)).dot(grad))\n",
    "    lower_lim2 = TPRR - (sigmaA1 * scipy.stats.norm.ppf(1-alpha/2)) / np.sqrt(n)\n",
    "    upper_lim2 = TPRR + (sigmaA1 * scipy.stats.norm.ppf(1-alpha/2)) / np.sqrt(n)\n",
    "    \n",
    "    EQODDS_CI = pd.DataFrame({\"inf\": [lower_lim1, lower_lim2],\n",
    "                              \"est_value\": [FPRR, TPRR],\n",
    "                              \"sup\": [upper_lim1, upper_lim2]},\n",
    "                             index=[\"FPR\", \"TPR\"])\n",
    "    \n",
    "    return EQODDS_CI"
   ]
  },
  {
   "cell_type": "code",
   "execution_count": null,
   "metadata": {},
   "outputs": [],
   "source": [
    "oddsSex_logit = equalOdds(X_test[\"sex_ Male\"].values, Y_test.map({\"incLow\": 0, \"incHigh\": 1}).values, \n",
    "                            pd.Series(y_chap_logit).map({\"incLow\": 0, \"incHigh\": 1}).values)\n",
    "oddsSex_logit"
   ]
  },
  {
   "cell_type": "code",
   "execution_count": null,
   "metadata": {},
   "outputs": [],
   "source": [
    "oddsSex_rf = equalOdds(X_test[\"sex_ Male\"].values, Y_test.map({\"incLow\": 0, \"incHigh\": 1}).values, \n",
    "                            pd.Series(y_chap_rf).map({\"incLow\": 0, \"incHigh\": 1}).values)\n",
    "oddsSex_rf"
   ]
  },
  {
   "cell_type": "code",
   "execution_count": null,
   "metadata": {},
   "outputs": [],
   "source": [
    "oddsSex_gbm = equalOdds(X_test[\"sex_ Male\"].values, Y_test.map({\"incLow\": 0, \"incHigh\": 1}).values, \n",
    "                            pd.Series(y_chap_gbm).map({\"incLow\": 0, \"incHigh\": 1}).values)\n",
    "oddsSex_gbm"
   ]
  },
  {
   "cell_type": "markdown",
   "metadata": {},
   "source": [
    "**Chantier** \n",
    "\n",
    "La question de l'atténuation du biais serait à compléter afin de répondre à la question: les approches complexes de la littérature, comparées par Frieder et al. (2019) ou référencées sur le site [IBM research](https://aif360.mybluemix.net/) sont elles, au regard des coûts de calcul, plus efficaces que la version rudimentaire de post processing  développée dans le [tutoriel en R](https://github.com/wikistat/Fair-ML-4-Ethical-AI/blob/master/AdultCensus/AdultCensus-R-biasDetection.ipynb) mais pas reprises ici?\n",
    "\n",
    "**Référence**\n",
    "\n",
    "Friedler S., Scheidegger C., Venkatasubramanian S., Choudhary S., Hamilton E., Roth D. (2019). [Comparative study of fairness-enhancing interventions in machine learning](http://dl.acm.org/citation.cfm?doid=3287560.3287589). Proceedings of the Conference on Fairness, Accountability, and Transparency, p. 329‐38. "
   ]
  },
  {
   "cell_type": "code",
   "execution_count": null,
   "metadata": {},
   "outputs": [],
   "source": []
  }
 ],
 "metadata": {
  "kernelspec": {
   "display_name": "Python 3",
   "language": "python",
   "name": "python3"
  },
  "language_info": {
   "codemirror_mode": {
    "name": "ipython",
    "version": 3
   },
   "file_extension": ".py",
   "mimetype": "text/x-python",
   "name": "python",
   "nbconvert_exporter": "python",
   "pygments_lexer": "ipython3",
   "version": "3.10.5"
  },
  "latex_envs": {
   "LaTeX_envs_menu_present": true,
   "autoclose": false,
   "autocomplete": true,
   "bibliofile": "biblio.bib",
   "cite_by": "apalike",
   "current_citInitial": 1,
   "eqLabelWithNumbers": true,
   "eqNumInitial": 1,
   "hotkeys": {
    "equation": "Ctrl-E",
    "itemize": "Ctrl-I"
   },
   "labels_anchors": false,
   "latex_user_defs": false,
   "report_style_numbering": false,
   "user_envs_cfg": false
  },
  "toc": {
   "base_numbering": 1,
   "nav_menu": {},
   "number_sections": true,
   "sideBar": true,
   "skip_h1_title": true,
   "title_cell": "Table of Contents",
   "title_sidebar": "Contents",
   "toc_cell": false,
   "toc_position": {},
   "toc_section_display": true,
   "toc_window_display": true
  },
  "vscode": {
   "interpreter": {
    "hash": "38ab5aec3b6b6d2a13455cf3c0e7673913054737acc71c96a9f271dcbc4106af"
   }
  }
 },
 "nbformat": 4,
 "nbformat_minor": 1
}
