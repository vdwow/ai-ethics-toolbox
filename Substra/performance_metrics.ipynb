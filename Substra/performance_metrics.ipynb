{
  "nbformat": 4,
  "nbformat_minor": 0,
  "metadata": {
    "colab": {
      "name": "performance_metrics.ipynb",
      "provenance": [],
      "collapsed_sections": []
    },
    "kernelspec": {
      "name": "python3",
      "display_name": "Python 3"
    },
    "language_info": {
      "name": "python"
    }
  },
  "cells": [
    {
      "cell_type": "markdown",
      "metadata": {
        "id": "T57prCrxuKpd"
      },
      "source": [
        "#**Mesures de performance**\n",
        "\n",
        "\n",
        "---\n",
        "\n"
      ]
    },
    {
      "cell_type": "markdown",
      "metadata": {
        "id": "bM8qwVFhxlCN"
      },
      "source": [
        "Les **métriques d'évaluation** sont importantes dans tout projet d'apprentissage automatique, elles résument efficacement la performance de votre modèle. Bien que la plupart des métriques de performance soient faciles à mettre en œuvre ou au moins à calculer, en particulier avec des librairies spécialisées telles que **scikit-learn**, le défi consiste à savoir quand utiliser une métrique spécifique et comment l'interpréter correctement. Ce qui rend les choses encore plus difficiles, c'est que parfois, la même métrique peut avoir des significations différentes dans des contextes différents. Les tâches d'apprentissage peuvent être classées comme **supervisées** ou **non supervisées**, en plus les tâches supervisées peuvent être classées en tâches de régression ou de classification. Nous présenterons des exemples de métriques pour chaque tâche d'apprentissage.\n",
        "\n"
      ]
    },
    {
      "cell_type": "markdown",
      "metadata": {
        "id": "PQB0Jl9nugZP"
      },
      "source": [
        "\n",
        "\n",
        "\n",
        "## **1- Régression**\n",
        "\n",
        "\n",
        "---\n",
        "\n"
      ]
    },
    {
      "cell_type": "markdown",
      "metadata": {
        "id": "x0JM5OYlPyQb"
      },
      "source": [
        "Nous allons utiliser le jeu de données sur le **diabète** fourni par **scikit-learn**.\n",
        "Il s'agit d'un problème de régression où l'ensemble de données se compose de dix variables de base : l'âge, le sexe, l'indice de masse corporelle, la pression artérielle moyenne et six mesures du sérum sanguin ont été obtenues pour chacun des n = 442 patients diabétiques. La variable cible ici est une mesure quantitative de la progression de la maladie un an après la prise de ces mesures."
      ]
    },
    {
      "cell_type": "code",
      "metadata": {
        "id": "lhC-ojw9esY9"
      },
      "source": [
        "# importer les librairies\n",
        "import matplotlib.pyplot as plt\n",
        "import numpy as np\n",
        "from sklearn import datasets, linear_model\n",
        "from sklearn.metrics import mean_squared_error, r2_score\n",
        "\n",
        "# charger les données\n",
        "diabetes_X, diabetes_y = datasets.load_diabetes(return_X_y=True)\n",
        "\n",
        "# diviser les données en un ensemble d'entrainement et un ensemble de test\n",
        "diabetes_X_train = diabetes_X[:-100]\n",
        "diabetes_X_test = diabetes_X[-100:]\n",
        "\n",
        "diabetes_y_train = diabetes_y[:-100]\n",
        "diabetes_y_test = diabetes_y[-100:]\n"
      ],
      "execution_count": null,
      "outputs": []
    },
    {
      "cell_type": "code",
      "metadata": {
        "id": "3FUUqmDDIZ5N"
      },
      "source": [
        "# définir le modèle\n",
        "regr_model = linear_model.LinearRegression()\n",
        "\n",
        "# entrainer le modèle\n",
        "regr_model.fit(diabetes_X_train, diabetes_y_train)\n",
        "\n",
        "# faire des prédictions\n",
        "diabetes_y_pred = regr_model.predict(diabetes_X_test)"
      ],
      "execution_count": null,
      "outputs": []
    },
    {
      "cell_type": "markdown",
      "metadata": {
        "id": "IFKjOV8CAkwE"
      },
      "source": [
        "**Remarque:** Les métriques d'évaluation de régression suivantes ne sont pas mutuellement exclusives, en fait, vous êtes encouragé à les utiliser toutes ensemble afin d'avoir un aperçu clair et complet des performances de votre modèle"
      ]
    },
    {
      "cell_type": "markdown",
      "metadata": {
        "id": "EPmAZ9Qmw-Cu"
      },
      "source": [
        "**1-2- Erreur quadratique moyenne (MSE)**"
      ]
    },
    {
      "cell_type": "markdown",
      "metadata": {
        "id": "FzlOFoCGTRaW"
      },
      "source": [
        "La différence quadratique moyenne entre la valeur réelle et la valeur prédite, certaines de ses propriétés sont:\n",
        "\n",
        "\n",
        "*   Les erreurs sont élevées au carré, ce qui fait que les petites erreurs ont des valeurs plus grandes, ce qui peut sous-estimer la qualité de votre modèle.\n",
        "*   Lors de l'interprétation vous devez garder le facteur carré dans votre tete, dans notre cas c'est:\n",
        "\\begin{equation}(progression)^2\\end{equation}\n",
        "*   En raison de l'utilisation du carré, il est fondamentalement plus affecté par les valeurs aberrantes(**Outliers**) que les autres mesures.\n",
        "\n",
        "\n",
        "\n"
      ]
    },
    {
      "cell_type": "markdown",
      "metadata": {
        "id": "XJtnIxFFyNVm"
      },
      "source": [
        "\\begin{equation}MSE = \\frac{1}{N}\\sum_{i=0}^N(y_i - \\hat{y_i})^2\\end{equation}"
      ]
    },
    {
      "cell_type": "code",
      "metadata": {
        "id": "Ttf9dqETum2H",
        "colab": {
          "base_uri": "https://localhost:8080/"
        },
        "outputId": "e5fb7f35-92cb-4cf3-b01a-248ba71af9dd"
      },
      "source": [
        "from sklearn.metrics import mean_squared_error\n",
        "print(f'MSE:{mean_squared_error(diabetes_y_test,diabetes_y_pred)}')"
      ],
      "execution_count": null,
      "outputs": [
        {
          "output_type": "stream",
          "text": [
            "MSE:2693.8531990938804\n"
          ],
          "name": "stdout"
        }
      ]
    },
    {
      "cell_type": "markdown",
      "metadata": {
        "id": "tODGcLNyuvwx"
      },
      "source": [
        "**1-1- Erreur absolue moyenne (MAE)**"
      ]
    },
    {
      "cell_type": "markdown",
      "metadata": {
        "id": "r2rwawCmSxTA"
      },
      "source": [
        "La différence moyenne absolue entre la valeur réelle et la valeur prédite:\n",
        "\n",
        "\n",
        "*   Plus robuste aux valeurs aberrantes car elle n'augmente pas les erreurs.\n",
        "*   Elle est facilement interprétable car sa valeur est de la même grandeur que la variable cible.\n",
        "*   Puisqu'il utilise la valeur absolue, il informe de la distance entre la prédiction et la valeur réelle, mais il ne nous dit pas dans quelle direction.\n",
        "\n",
        "\n",
        "\n",
        "\n"
      ]
    },
    {
      "cell_type": "markdown",
      "metadata": {
        "id": "vRDQsj22yMyn"
      },
      "source": [
        "\\begin{equation}MAE = \\frac{1}{N}\\sum_{i=0}^N|y_i - \\hat{y_i}|\\end{equation}"
      ]
    },
    {
      "cell_type": "code",
      "metadata": {
        "id": "dcRsrYJ7umr8",
        "colab": {
          "base_uri": "https://localhost:8080/"
        },
        "outputId": "436b9c42-de2e-467f-c688-53040ed80945"
      },
      "source": [
        "from sklearn.metrics import mean_absolute_error\n",
        "print(f'MAE:{mean_absolute_error(diabetes_y_test,diabetes_y_pred)}')"
      ],
      "execution_count": null,
      "outputs": [
        {
          "output_type": "stream",
          "text": [
            "MAE:40.44130107400519\n"
          ],
          "name": "stdout"
        }
      ]
    },
    {
      "cell_type": "markdown",
      "metadata": {
        "id": "kyvlF_76x45g"
      },
      "source": [
        "**1-3- Racine de l'erreur quadratique moyenne (RMSE)**"
      ]
    },
    {
      "cell_type": "markdown",
      "metadata": {
        "id": "hg_BUTsZac3A"
      },
      "source": [
        "Il s'agit essentiellement de la racine carrée de la métrique **MSE**, et en raison de l'utilisation du carré, elle résout les inconvénients de la MSE mentionnés précédemment."
      ]
    },
    {
      "cell_type": "markdown",
      "metadata": {
        "id": "SEFqnZ6-yN0N"
      },
      "source": [
        "\\begin{equation}RMSE = \\sqrt{\\frac{1}{N}\\sum_{i=0}^N(y_i - \\hat{y_i})^2}\\end{equation}"
      ]
    },
    {
      "cell_type": "code",
      "metadata": {
        "id": "78Mz1ZxiyC6G",
        "colab": {
          "base_uri": "https://localhost:8080/"
        },
        "outputId": "c11ab1bd-0b63-4647-a7eb-60bf5caf5bd2"
      },
      "source": [
        "from sklearn.metrics import mean_squared_error\n",
        "print(f'RMSE:{mean_squared_error(diabetes_y_test,diabetes_y_pred,squared=False)}')"
      ],
      "execution_count": null,
      "outputs": [
        {
          "output_type": "stream",
          "text": [
            "RMSE:51.90234290563269\n"
          ],
          "name": "stdout"
        }
      ]
    },
    {
      "cell_type": "markdown",
      "metadata": {
        "id": "pESaz__OyD19"
      },
      "source": [
        "**1-4- Coefficient de détermination R-Carré**"
      ]
    },
    {
      "cell_type": "markdown",
      "metadata": {
        "id": "OLpLUO5oa_3Y"
      },
      "source": [
        "Cette métrique répond à la question suivante : Quel **pourcentage de la variation dans la variable cible** est expliqué par **la variation dans les prédicteurs** ? la valeur de cette métrique est comprise entre **0 et 1** et elle est interprétée comme un pourcentage. \n",
        "\n",
        "Cette métrique souffre du problème suivant : elle peut donner l'impression que le modèle s'améliore en donnant un score proche de 1, mais elle peut en fait être un signe de sur-apprentissage(**overfitting**), en particulier lors de l'ajout de nouveaux prédicteurs."
      ]
    },
    {
      "cell_type": "markdown",
      "metadata": {
        "id": "aIuiHMF3-WXW"
      },
      "source": [
        "\\begin{equation}R^2 = 1- \\frac{SS_t}{SS_r}\\end{equation}"
      ]
    },
    {
      "cell_type": "markdown",
      "metadata": {
        "id": "ThPXJYh5PamG"
      },
      "source": [
        "\n",
        "\n",
        "\n",
        "Ou \\begin{equation}SS_t = \\sum_{i=0}^N(y_i - \\hat{y})^2\\end{equation}\n",
        "\n",
        "\\begin{equation}SS_r = \\sum_{i=0}^N(y_i - f_i)^2\\end{equation}"
      ]
    },
    {
      "cell_type": "code",
      "metadata": {
        "id": "S59Sqlp4-WgJ",
        "colab": {
          "base_uri": "https://localhost:8080/"
        },
        "outputId": "84d425a9-2017-46e4-932a-41999a2a65ae"
      },
      "source": [
        "from sklearn.metrics import r2_score\n",
        "print(\"R2 score: {:.2f}%\".format(r2_score(diabetes_y_test,diabetes_y_pred)*100))"
      ],
      "execution_count": null,
      "outputs": [
        {
          "output_type": "stream",
          "text": [
            "R2 score: 55.52%\n"
          ],
          "name": "stdout"
        }
      ]
    },
    {
      "cell_type": "markdown",
      "metadata": {
        "id": "D3e79GLXBPoj"
      },
      "source": [
        "Ici, nous pouvons voir qu'environ 55% de la variation de la variable cible est expliquée par les prédicteurs."
      ]
    },
    {
      "cell_type": "markdown",
      "metadata": {
        "id": "qtdiSVx8_Tc1"
      },
      "source": [
        "**1-5- Coefficient de détermination R-Carré ajusté**"
      ]
    },
    {
      "cell_type": "markdown",
      "metadata": {
        "id": "hrHHjvQRcezb"
      },
      "source": [
        "Pour tenir compte du problème posé par la version vanille du coefficient de détermination, une version ajustée a été proposée : la nouvelle métrique s'ajuste en fonction du nombre de prédicteurs et elle n'augmente pas si l'apprentissage n'a pas lieu, même si le nombre de prédicteurs augmente. La valeur du **R-carré ajusté** est toujours plus petite que la valeur du **R-carré**"
      ]
    },
    {
      "cell_type": "markdown",
      "metadata": {
        "id": "dwyGIgTK_UZe"
      },
      "source": [
        "\\begin{equation}\\hat{R^2} = 1 - (1-R^2)\\frac{n-1}{n-p-1}\\end{equation}"
      ]
    },
    {
      "cell_type": "markdown",
      "metadata": {
        "id": "qbANyx29Q-j5"
      },
      "source": [
        "Où **n** est le nombre total d'échantillons et **p** est le nombre de prédicteurs."
      ]
    },
    {
      "cell_type": "code",
      "metadata": {
        "colab": {
          "base_uri": "https://localhost:8080/"
        },
        "id": "QUJYlM3m-5A3",
        "outputId": "93f7ef1f-2d0e-4e42-c93d-88f417a117c7"
      },
      "source": [
        "R2 = r2_score(diabetes_y_test,diabetes_y_pred) \n",
        "adjusted_R2 = 1 -(1-R2)*(len(diabetes_X)-1)/(len(diabetes_X)-diabetes_X.shape[1]-1)\n",
        "print('Adjusted R2 score: {:.2f}%'.format(adjusted_R2*100))"
      ],
      "execution_count": null,
      "outputs": [
        {
          "output_type": "stream",
          "text": [
            "Adjusted R2 score: 54.49%\n"
          ],
          "name": "stdout"
        }
      ]
    },
    {
      "cell_type": "markdown",
      "metadata": {
        "id": "9acVUvveDNfq"
      },
      "source": [
        "Le score R2 ajusté(**54.49%**) est un peu plus petit  que le score R2(**55.52%**) ce qui confirme notre définition précédente"
      ]
    },
    {
      "cell_type": "markdown",
      "metadata": {
        "id": "cK1M3kIAumJR"
      },
      "source": [
        "## **2- Classification**\n",
        "\n",
        "\n",
        "---\n",
        "\n"
      ]
    },
    {
      "cell_type": "markdown",
      "metadata": {
        "id": "XKIefYLK4aGK"
      },
      "source": [
        "Pour le problème de classification, nous allons utiliser la fonction **make_classification** de scikit-learn pour générer des données de classification binaire avec **500 échantillons**, **5 features** et **2 classes**."
      ]
    },
    {
      "cell_type": "code",
      "metadata": {
        "id": "kt998CEA4aM0"
      },
      "source": [
        "# charger les données\n",
        "from sklearn.model_selection import train_test_split\n",
        "from sklearn.datasets import make_classification\n",
        "\n",
        "# Générer des données pour la classification\n",
        "X, y = make_classification(n_samples=500,n_features=5)\n",
        "X_train, X_test, y_train, y_test = train_test_split(X, y, test_size=0.2, random_state=42)"
      ],
      "execution_count": null,
      "outputs": []
    },
    {
      "cell_type": "code",
      "metadata": {
        "id": "CVTW5gbkFotv"
      },
      "source": [
        "# définir le modèle\n",
        "from sklearn.svm import SVC\n",
        "\n",
        "svc = SVC(random_state=42)\n",
        "svc.fit(X_train, y_train)\n",
        "\n",
        "# faire des prédictions\n",
        "y_pred =svc.predict(X_test)"
      ],
      "execution_count": null,
      "outputs": []
    },
    {
      "cell_type": "markdown",
      "metadata": {
        "id": "yq_LhgRnGdLC"
      },
      "source": [
        "**2-1- Matrice de confusion**"
      ]
    },
    {
      "cell_type": "markdown",
      "metadata": {
        "id": "I6qH5EZalRm8"
      },
      "source": [
        "Il s'agit d'une représentation sous forme de tableau des valeurs réelles par rapport aux prédictions du modèle où les lignes représentent les instances prédites dans chaque classe prédite tandis que les colonnes représentent les instances de la classe réelle:"
      ]
    },
    {
      "cell_type": "markdown",
      "metadata": {
        "id": "2Sjm2VO4GiMu"
      },
      "source": [
        "|Vrai/Prédit | P | N |\n",
        "| --- | --- | --- |\n",
        "| P |  TP | FP |\n",
        "| N |  FN | TN |"
      ]
    },
    {
      "cell_type": "markdown",
      "metadata": {
        "id": "zP64EctB4abs"
      },
      "source": [
        "*   **P:** La classe positive.\n",
        "*   **N:** La classe négative.\n",
        "*   **Vrais négatifs (VN):** Le nombre d'échantillons négatifs que le modèle a classé correctement.\n",
        "*   **Faux positifs (FP):** Le nombre d'échantillons négatives classés incorrectement comme positives.\n",
        "*   **Faux négatifs (FN):** Le nombre d'échantillons positifs classés incorrectement comme négatifs.\n",
        "*   **Vrais positifs (VP):**Le nombre d'échantillons positifs correctement classés comme positifs.\n",
        "\n",
        "\n",
        "\n"
      ]
    },
    {
      "cell_type": "markdown",
      "metadata": {
        "id": "ZVNtxkIQ9QkI"
      },
      "source": [
        "**Example:** Prenons l'exemple du modèle permettant de déterminer si un patient a ou n'a pas **Covid19** \n",
        "\n",
        "*   **P:** La classe positive signifiant que le patient a **Covid19**\n",
        "*   **N:** La classe négative signifiant que le patient n'a pas de **Covid19**\n",
        "*   **Vrais négatifs:** Les patients qui ont été classés comme négatifs et qui n'ont pas de **Covid19**\n",
        "*   **Faux positifs:** Les patients qui ont été classés comme positifs et qui n'ont pas de Covid19\n",
        "*   **Faux négatifs:** Les patients qui ont été classés comme négatifs bien qu'ils aient Covid19\n",
        "*   **Vrais positifs:** Les patients qui ont été classés comme positifs et qui ont en fait du **Covid19**\n",
        "\n"
      ]
    },
    {
      "cell_type": "code",
      "metadata": {
        "id": "G08LbS6GGiTP",
        "colab": {
          "base_uri": "https://localhost:8080/"
        },
        "outputId": "2aa5794f-b555-494d-a22d-e694a65a4123"
      },
      "source": [
        "from sklearn.metrics import confusion_matrix\n",
        "print('Matrice de confusion: \\n', confusion_matrix(y_test, y_pred))"
      ],
      "execution_count": null,
      "outputs": [
        {
          "output_type": "stream",
          "text": [
            "Matrice de confusion: \n",
            " [[34  6]\n",
            " [ 8 52]]\n"
          ],
          "name": "stdout"
        }
      ]
    },
    {
      "cell_type": "code",
      "metadata": {
        "colab": {
          "base_uri": "https://localhost:8080/"
        },
        "id": "FwypXT2M24NZ",
        "outputId": "40e2ca85-c530-4dba-bab1-bbffbb642d86"
      },
      "source": [
        "tn, fp, fn, tp = confusion_matrix(y_test, y_pred).ravel()\n",
        "print('nombre des vrais négatifs:',tn)\n",
        "print('nombre des faux positifs:',fp)\n",
        "print('nombre des faux négatifs:',fn)\n",
        "print('nombre des vrais positifs:',tp)"
      ],
      "execution_count": null,
      "outputs": [
        {
          "output_type": "stream",
          "text": [
            "nombre des vrais négatifs: 34\n",
            "nombre des faux positifs: 6\n",
            "nombre des faux négatifs: 8\n",
            "nombre des vrais positifs: 52\n"
          ],
          "name": "stdout"
        }
      ]
    },
    {
      "cell_type": "markdown",
      "metadata": {
        "id": "XQy4G8rvuu6a"
      },
      "source": [
        "**2-2- Accuracy** "
      ]
    },
    {
      "cell_type": "markdown",
      "metadata": {
        "id": "gzIoY8PFG2i_"
      },
      "source": [
        "Le nombre de classifications correctes divisé par le nombre total de classifications effectuées par le modèle:"
      ]
    },
    {
      "cell_type": "markdown",
      "metadata": {
        "id": "tCkje2BZAI4h"
      },
      "source": [
        "\\begin{equation}Accuracy = \\frac{VP+VF}{FP+FN+VN+VP}\\end{equation}"
      ]
    },
    {
      "cell_type": "code",
      "metadata": {
        "colab": {
          "base_uri": "https://localhost:8080/"
        },
        "id": "FlEYFL1Z28AX",
        "outputId": "00022d08-0ae1-437f-dc2f-707855bc167e"
      },
      "source": [
        "print(f'Accuracy:{(tp+tn)/(fp+fn+tn+tp)}')"
      ],
      "execution_count": null,
      "outputs": [
        {
          "output_type": "stream",
          "text": [
            "Accuracy:0.86\n"
          ],
          "name": "stdout"
        }
      ]
    },
    {
      "cell_type": "code",
      "metadata": {
        "id": "kyw3oEhQuvCg",
        "colab": {
          "base_uri": "https://localhost:8080/"
        },
        "outputId": "0e822776-e3b3-4952-bd1d-1f9d7f47eaa5"
      },
      "source": [
        "from sklearn.metrics import accuracy_score\n",
        "print(f'Accuracy:{accuracy_score(y_test, y_pred, normalize=True)}')"
      ],
      "execution_count": null,
      "outputs": [
        {
          "output_type": "stream",
          "text": [
            "Accuracy:0.86\n"
          ],
          "name": "stdout"
        }
      ]
    },
    {
      "cell_type": "markdown",
      "metadata": {
        "id": "7RBTbGRKNuJa"
      },
      "source": [
        "La précision est une bonne mesure lorsque l'on s'intéresse uniquement au pourcentage de classifications correctes, qu'elles soient négatives ou positives. Cependant, elle peut parfois être trompeuse : pour revenir à notre exemple de détection de Covid19, si nous avons 100 patients parmi lesquels il y en a 10 qui ont le Covid19. En classant simplement tous les patients comme négatifs, nous pouvons obtenir une précision de 90 % ! Cela peut sembler un très bon résultat à première vue, mais notre modèle n'a pas réussi à détecter un seul cas de Covid19, ce qui le rend absolument inutile."
      ]
    },
    {
      "cell_type": "markdown",
      "metadata": {
        "id": "hGHXGAvpDid-"
      },
      "source": [
        "**2-4- Rappel**"
      ]
    },
    {
      "cell_type": "markdown",
      "metadata": {
        "id": "eCYcPiKkgANw"
      },
      "source": [
        "Également appelé **sensibilité** ou **taux de vrais positifs** **(TVP)**, c'est le nombre de classifications positives correctes effectuées par le modèle divisé par le nombre total d'échantillons positifs vrais dans l'ensemble de données"
      ]
    },
    {
      "cell_type": "markdown",
      "metadata": {
        "id": "ndb43F0MKk3d"
      },
      "source": [
        "\\begin{equation}Rappel = \\frac{VP}{VP+FN}\\end{equation}"
      ]
    },
    {
      "cell_type": "code",
      "metadata": {
        "colab": {
          "base_uri": "https://localhost:8080/"
        },
        "id": "G0Zt1AtS7T83",
        "outputId": "84692c9a-04c2-4023-ad52-6661893374c7"
      },
      "source": [
        "print('Recall: ',(tp/(tp+fn)))"
      ],
      "execution_count": null,
      "outputs": [
        {
          "output_type": "stream",
          "text": [
            "Recall:  0.8666666666666667\n"
          ],
          "name": "stdout"
        }
      ]
    },
    {
      "cell_type": "code",
      "metadata": {
        "id": "x6YADNnGDtJn",
        "colab": {
          "base_uri": "https://localhost:8080/"
        },
        "outputId": "c16ea26d-2eea-4edc-b392-505ecd183194"
      },
      "source": [
        "# En utilisant une fonction prédéfinie de scikit-learn\n",
        "from sklearn.metrics import recall_score\n",
        "print('Recall:',recall_score(y_test, y_pred))"
      ],
      "execution_count": null,
      "outputs": [
        {
          "output_type": "stream",
          "text": [
            "Recall: 0.8666666666666667\n"
          ],
          "name": "stdout"
        }
      ]
    },
    {
      "cell_type": "markdown",
      "metadata": {
        "id": "su6u1_TRahtz"
      },
      "source": [
        "Il s'agit d'une mesure importante, sur tous les patients qui ont effectivement le Covid19, quelle est la fraction que vous avez identifiée correctement. Si nous faisons comme précédemment et classons chaque patient comme négatif, cela donnera un rappel de zéro.\n",
        "\n",
        "**Rappel = 0/10 = 0**\n",
        "\n",
        "Donc, dans ce contexte, le rappel est une bonne mesure. Il indique que la terrible stratégie consistant à identifier chaque patient comme négatif au Covid19 conduit à un rappel nul. Et nous voulons maximiser le rappel."
      ]
    },
    {
      "cell_type": "markdown",
      "metadata": {
        "id": "sbQJygYpdx1v"
      },
      "source": [
        "Donc, pour résumer: il s'avère que le **Accuracy** était une mauvaise idée parce que classer tous les patients comme négatifs peut augmenter l'augmenter, donc le **Rappel** sera une bonne mesure dans ce contexte, mais nous réalisons ensuite que classer tous les patients comme positifs augmentera également le **Rappel**.\n",
        "\n",
        "Le rappel n'est donc pas une bonne mesure en soi.\n",
        "\n",
        "C'est pourquoi nous avons besoin de la **Précision**."
      ]
    },
    {
      "cell_type": "markdown",
      "metadata": {
        "id": "pYPwOnc4AKst"
      },
      "source": [
        "**2-3- Précision**"
      ]
    },
    {
      "cell_type": "markdown",
      "metadata": {
        "id": "MbGa1cEvHAq3"
      },
      "source": [
        "Le nombre de classifications positives correctes divisé par le nombre total de classifications positives:"
      ]
    },
    {
      "cell_type": "markdown",
      "metadata": {
        "id": "HiX5p6yBKi3l"
      },
      "source": [
        "\\begin{equation}Précision = \\frac{VP}{FP+VP}\\end{equation}"
      ]
    },
    {
      "cell_type": "code",
      "metadata": {
        "colab": {
          "base_uri": "https://localhost:8080/"
        },
        "id": "1c4-gxWq5dGl",
        "outputId": "798f6c3d-bdca-4a99-a98c-4799e378a279"
      },
      "source": [
        "print('Precision: ',(tp/(tp+fp)))"
      ],
      "execution_count": null,
      "outputs": [
        {
          "output_type": "stream",
          "text": [
            "Precision:  0.896551724137931\n"
          ],
          "name": "stdout"
        }
      ]
    },
    {
      "cell_type": "code",
      "metadata": {
        "id": "SwaDZndjuvL3",
        "colab": {
          "base_uri": "https://localhost:8080/"
        },
        "outputId": "7fd8599c-a944-457a-ba63-78ce45819418"
      },
      "source": [
        "# En utilisant une fonction prédéfinie de scikit-learn\n",
        "from sklearn.metrics import precision_score\n",
        "print('Precision:',precision_score(y_test, y_pred))"
      ],
      "execution_count": null,
      "outputs": [
        {
          "output_type": "stream",
          "text": [
            "Precision: 0.896551724137931\n"
          ],
          "name": "stdout"
        }
      ]
    },
    {
      "cell_type": "markdown",
      "metadata": {
        "id": "DVAVbyOhP3ep"
      },
      "source": [
        "Envisager une autre stratégie : classer les meilleurs patients comme positifs, c'est-à-dire classer les patients ayant la plus forte probabilité d'avoir un Covid19."
      ]
    },
    {
      "cell_type": "markdown",
      "metadata": {
        "id": "fOhgHjIlhRt1"
      },
      "source": [
        "La précision est : **1/ (1 + 0) = 1**\n",
        "\n",
        "La valeur de précision est bonne dans ce cas mais vérifions la valeur de rappel :\n",
        "\n",
        "**Rappel = 1 / (1 + 9) = 0.1**\n",
        "\n",
        "La valeur de Précision est bonne dans ce contexte mais la valeur de Rappel est faible. \n",
        "Alors que faire pour avoir à la fois une Précision et un Rappel élevés ? Malheureusement, on ne peut pas avoir le beurre et l'argent du beurre : augmenter la Précision réduit le Rappel et vice versa. C'est ce qu'on appelle le **compromis précision/rappel**."
      ]
    },
    {
      "cell_type": "markdown",
      "metadata": {
        "id": "7011Bz70j6_o"
      },
      "source": [
        "Un tableau récapitulatif de toutes les trois stratégies et de leur impact sur les trois mesures que nous avons vues:"
      ]
    },
    {
      "cell_type": "markdown",
      "metadata": {
        "id": "1ewUI6OpamgW"
      },
      "source": [
        "|Stratégie| Accuracy | Rappel | Précision\n",
        "| --- | --- | --- | --- |\n",
        "| Classer tous les patients comme négatifs | élevé | faible | faible |\n",
        "| Classer tous les patients comme positive | faible | élevé | faible |\n",
        "| Classer les patients avec une probabilité maximale comme positifs. | élevé | faible | faible |"
      ]
    },
    {
      "cell_type": "markdown",
      "metadata": {
        "id": "4zAhK2cNb4ed"
      },
      "source": [
        "**Conclusion:**\n",
        "Dans certains cas, nous sommes pratiquement certains de vouloir maximiser soit le rappel soit la précision. Comme dans le cas de la détection des patients ayant Covid19, nous voulons vraiment que les prédictions soient justes pour les patients ayant Covid19 positifs, car il est très coûteux de ne pas prédire le patient correctement, car permettre à une personne qui a le Covid19 de partir le traitement entraînera la contamination des autres. Nous sommes donc plus intéressés par le rappel ici."
      ]
    },
    {
      "cell_type": "markdown",
      "metadata": {
        "id": "qjZg_UQCC4Ag"
      },
      "source": [
        "**2-8- La courbe PR**"
      ]
    },
    {
      "cell_type": "markdown",
      "metadata": {
        "id": "uUpTR_MLyw9c"
      },
      "source": [
        "La courbe **Precision-Recall (PR)** montre le compromis entre la précision et le rappel pour différents seuils. Une zone élevée sous la courbe représente à la fois un rappel et une précision élevés, où une précision élevée correspond à un faible taux de faux positifs(TFP), et un rappel élevé correspond à un faible taux de faux négatifs(TFN). Des scores élevés pour les deux montrent que le classificateur renvoie des résultats exacts (précision élevée), ainsi qu'une majorité de tous les résultats positifs (rappel élevé)."
      ]
    },
    {
      "cell_type": "code",
      "metadata": {
        "colab": {
          "base_uri": "https://localhost:8080/",
          "height": 312
        },
        "id": "5wyMxS9tC6TE",
        "outputId": "bf99ce82-e890-48b1-9fb1-90a5ac9f85ba"
      },
      "source": [
        "from sklearn.metrics import precision_recall_curve\n",
        "from sklearn.metrics import plot_precision_recall_curve\n",
        "from sklearn.metrics import average_precision_score\n",
        "\n",
        "average_precision = average_precision_score(y_test, y_pred)\n",
        "disp = plot_precision_recall_curve(svc, X_test, y_test)\n",
        "disp.ax_.set_title('2-class Precision-Recall curve: '\n",
        "                   'AP={0:0.2f}'.format(average_precision))\n"
      ],
      "execution_count": null,
      "outputs": [
        {
          "output_type": "execute_result",
          "data": {
            "text/plain": [
              "Text(0.5, 1.0, '2-class Precision-Recall curve: AP=0.86')"
            ]
          },
          "metadata": {
            "tags": []
          },
          "execution_count": 62
        },
        {
          "output_type": "display_data",
          "data": {
            "image/png": "[encoded data removed]",
            "text/plain": [
              "<Figure size 432x288 with 1 Axes>"
            ]
          },
          "metadata": {
            "tags": [],
            "needs_background": "light"
          }
        }
      ]
    },
    {
      "cell_type": "markdown",
      "metadata": {
        "id": "0f7SCS0CzauL"
      },
      "source": [
        "La relation entre le rappel et la précision peut être observée dans la zone des marches du graphique - aux bords de ces marches, un petit changement dans le seuil réduit considérablement la précision, avec seulement un gain mineur dans le rappel."
      ]
    },
    {
      "cell_type": "markdown",
      "metadata": {
        "id": "tvz59ajlE6s3"
      },
      "source": [
        "**2-6- Score F1**"
      ]
    },
    {
      "cell_type": "markdown",
      "metadata": {
        "id": "ymbEieN-7DVy"
      },
      "source": [
        "La métrique du **score F1** utilise une combinaison de la précision et du rappel. En fait, le score F1 est **la moyenne harmonique** des deux. Un score F1 élevé symbolise une précision élevée ainsi qu'un rappel élevé. Il présente un bon équilibre entre la précision et le rappel. Cependant, un score F1 bas ne nous dit (presque) rien, Avec un F1 bas, il n'est pas clair quel est le problème (faible précision ou faible rappel ?), c'est pourquoi il est conseillé d'utiliser le **TFP** (taux de faux positifs) avec le score F1 pour tenir compte de cet inconvénient."
      ]
    },
    {
      "cell_type": "markdown",
      "metadata": {
        "id": "2cOK8I6nGN6I"
      },
      "source": [
        "\\begin{equation}F1 = 2*\\frac{Précision*Rappel}{Précision+Rappel}\\end{equation}"
      ]
    },
    {
      "cell_type": "code",
      "metadata": {
        "colab": {
          "base_uri": "https://localhost:8080/"
        },
        "id": "Bwg9LcPj_DW3",
        "outputId": "3eb05d8e-15bc-4162-9351-41f255e82038"
      },
      "source": [
        "print('F1 score:',2*((tp/(tp+fp))*(tp/(tp+fn)))/((tp/(tp+fp))+(tp/(tp+fn))))"
      ],
      "execution_count": null,
      "outputs": [
        {
          "output_type": "stream",
          "text": [
            "F1 score: 0.8813559322033899\n"
          ],
          "name": "stdout"
        }
      ]
    },
    {
      "cell_type": "code",
      "metadata": {
        "id": "sik0-d3EE9HA",
        "colab": {
          "base_uri": "https://localhost:8080/"
        },
        "outputId": "bfc56b1f-37a8-4a49-fb96-140e000f85ff"
      },
      "source": [
        "# En utilisant une fonction prédéfinie de scikit-learn\n",
        "from sklearn.metrics import f1_score\n",
        "print(f'F1 score:{f1_score(y_test,y_pred)}')\n"
      ],
      "execution_count": null,
      "outputs": [
        {
          "output_type": "stream",
          "text": [
            "F1 score:0.8813559322033899\n"
          ],
          "name": "stdout"
        }
      ]
    },
    {
      "cell_type": "markdown",
      "metadata": {
        "id": "-B_U9ORahvul"
      },
      "source": [
        "Pourquoi utiliser **la moyenne harmonique** et non **la moyenne simple** ? \n",
        "\n",
        "Nous utilisons la moyenne harmonique car elle n'est pas sensible aux valeurs extrêmement grandes, contrairement aux moyennes simples. Disons que nous avons un modèle avec une Précision de 1 et un Rappel de 0, ce qui donne une moyenne simple de 0,5 et un score F1 de 0. Si l'un des paramètres est faible, le second ne compte plus dans le score F1. Le score F1 favorise les classificateurs qui ont une Précision et un Rappel similaires. Ainsi, le score F1 est une meilleure mesure à utiliser si vous recherchez un équilibre entre la précision et le rappel."
      ]
    },
    {
      "cell_type": "markdown",
      "metadata": {
        "id": "2-IikyHeDthb"
      },
      "source": [
        "**2-5- Spécificité**"
      ]
    },
    {
      "cell_type": "markdown",
      "metadata": {
        "id": "QqvwxE4l7uEI"
      },
      "source": [
        "Également appelé **TVN (taux de vrais négatifs)**, le nombre de classifications négatives correctes effectuées par le modèle divisé par le nombre total d'échantillons négatifs vrais dans l'ensemble de données."
      ]
    },
    {
      "cell_type": "markdown",
      "metadata": {
        "id": "4Sple98bEM9K"
      },
      "source": [
        "\\begin{equation}Spécifité = \\frac{VN}{VN+FP}\\end{equation}"
      ]
    },
    {
      "cell_type": "code",
      "metadata": {
        "id": "ww4hstTlDt4T",
        "colab": {
          "base_uri": "https://localhost:8080/"
        },
        "outputId": "ad785217-d7f4-4a50-cd30-ac33ea5b2f21"
      },
      "source": [
        "print('Spécifité: ',(tn/(tn+fp)))"
      ],
      "execution_count": null,
      "outputs": [
        {
          "output_type": "stream",
          "text": [
            "Spécifité:  0.85\n"
          ],
          "name": "stdout"
        }
      ]
    },
    {
      "cell_type": "markdown",
      "metadata": {
        "id": "2ew_mcvDjJIV"
      },
      "source": [
        "La **spécificité** dans notre exemple concerne la capacité du modèle à rejeter correctement les patients négatifs qui n'ont pas de Covid19. Dans ce cas, cette métrique n'est pas très utile car la pénalité liée à la classification positive d'un patient sain comme ayant Covid19 est négligeable. Cependant, imaginez que nous utilisions le modèle pour détecter une maladie extrêmement rare ou que le test de diagnostic soit extrêmement coûteux, La spécificité pourrait être une bonne mesure dans ces cas."
      ]
    },
    {
      "cell_type": "markdown",
      "metadata": {
        "id": "KY6QnXtYkTYu"
      },
      "source": [
        "### **Astuce:**\n",
        "Pour décider de la métrique de classification à utiliser, posez-vous la question suivante : êtes-vous intéressé par l'identification de classes positives plus importantes que les classes négatives ? quelle est la pénalité pour classer une classe négative comme positive et via versa ? la réponse devrait vous guider dans le choix de la bonne métrique. gardez à l'esprit que parfois la réponse à la question ci-dessus n'est pas claire et qu'elle dépend fortement du contexte, par exemple : détection des emails spam, certains préféreraient maximiser le nombre de spams correctement classés (peut-être parce qu'ils contiennent du contenu suspect ou des liens malveillants) même si cela signifie parfois mal classer quelques emails illégitimes, d'autres préfèrent l'inverse, où les emails illégitimes sont considérés comme sensibles ou précieux de sorte que le fait de les classer comme spam est pénalisant.\n",
        "\n",
        "Assurez-vous donc de bien comprendre le problème avant de choisir la métrique qui vous convient le mieux."
      ]
    },
    {
      "cell_type": "markdown",
      "metadata": {
        "id": "Z2GfI15yE9cc"
      },
      "source": [
        "**2-7- La courbe ROC**"
      ]
    },
    {
      "cell_type": "markdown",
      "metadata": {
        "id": "LsuhQ0-VvSme"
      },
      "source": [
        "La courbe **ROC** est une mesure de performance pour les problèmes de classification, elle indique dans quelle mesure le modèle est capable de faire la distinction entre différentes classes. La courbe ROC est tracée avec le **TVR (taux de vrais positifs)** en fonction du **TFP (taux de faux positifs)**, le **TVR** étant sur l'axe des y et le **TFP** sur l'axe des x."
      ]
    },
    {
      "cell_type": "code",
      "metadata": {
        "colab": {
          "base_uri": "https://localhost:8080/",
          "height": 278
        },
        "id": "qySVfeco_fYp",
        "outputId": "f18ff6f3-c67a-48d6-b408-05daaa560b5c"
      },
      "source": [
        "from sklearn.metrics import plot_roc_curve\n",
        "svc_disp = plot_roc_curve(svc, X_test, y_test)\n",
        "plt.show()"
      ],
      "execution_count": null,
      "outputs": [
        {
          "output_type": "display_data",
          "data": {
            "image/png": "[encoded data removed]",
            "text/plain": [
              "<Figure size 432x288 with 1 Axes>"
            ]
          },
          "metadata": {
            "tags": [],
            "needs_background": "light"
          }
        }
      ]
    },
    {
      "cell_type": "markdown",
      "metadata": {
        "id": "Lliv1KMkvfwC"
      },
      "source": [
        "## **3- Clustering**\n",
        "\n",
        "\n",
        "---\n",
        "\n"
      ]
    },
    {
      "cell_type": "markdown",
      "metadata": {
        "id": "F5i9tQfDUA1y"
      },
      "source": [
        "Le **Clustering** est une tâche d'apprentissage automatique non-supervisée dans laquelle le modèle tente de regrouper des échantillons en **clusters** sur la base d'**une mesure de similarité** spécifique calculée sur leurs features. L'évaluation d'un modèle dans cette setting est difficile parce que, la plupart du temps, il n'y a pas de vérité du terrain (ground-truth) ou des labels vraies auxquelles nous pouvons comparer notre clustering, donc le choix et l'interprétation de la métrique d'évaluation dépendent fortement du contexte."
      ]
    },
    {
      "cell_type": "markdown",
      "metadata": {
        "id": "10WwdLUtzymO"
      },
      "source": [
        "D'une manière générale, toutes les mesures d'évaluation du clustering visent à quantifier la qualité du regroupement et de la séparation des clusters résultants."
      ]
    },
    {
      "cell_type": "code",
      "metadata": {
        "id": "xtuH2pl0_0fg"
      },
      "source": [
        "from sklearn.datasets import make_blobs\n",
        "from sklearn import cluster\n",
        "\n",
        "# générer des clusters de données aleatoires\n",
        "X, y = make_blobs(n_samples=250, centers=3, n_features=2,\n",
        "                 random_state=42)"
      ],
      "execution_count": null,
      "outputs": []
    },
    {
      "cell_type": "code",
      "metadata": {
        "colab": {
          "base_uri": "https://localhost:8080/"
        },
        "id": "_FrBImSmAAb-",
        "outputId": "e21fb3c6-bd8d-4746-909e-1f7de1c5e206"
      },
      "source": [
        "# définir le modèle, ici nous allons utiliser K-means\n",
        "k_means = cluster.KMeans(n_clusters=3)\n",
        "k_means.fit(X)"
      ],
      "execution_count": null,
      "outputs": [
        {
          "output_type": "execute_result",
          "data": {
            "text/plain": [
              "KMeans(algorithm='auto', copy_x=True, init='k-means++', max_iter=300,\n",
              "       n_clusters=3, n_init=10, n_jobs=None, precompute_distances='auto',\n",
              "       random_state=None, tol=0.0001, verbose=0)"
            ]
          },
          "metadata": {
            "tags": []
          },
          "execution_count": 68
        }
      ]
    },
    {
      "cell_type": "markdown",
      "metadata": {
        "id": "mO1uG1CawjM9"
      },
      "source": [
        "**3-1- Indice Davies-Bouldin**"
      ]
    },
    {
      "cell_type": "markdown",
      "metadata": {
        "id": "BcepW_eZ3EUb"
      },
      "source": [
        "Cet indice signifie la \"similarité\" moyenne entre les clusters, où la similarité est une mesure qui compare la distance entre les clusters avec la taille des clusters eux-mêmes."
      ]
    },
    {
      "cell_type": "markdown",
      "metadata": {
        "id": "tdV5DU-t3Jyt"
      },
      "source": [
        "Zéro est le score le plus bas possible. Les valeurs plus proches de zéro indiquent une meilleure partition."
      ]
    },
    {
      "cell_type": "code",
      "metadata": {
        "id": "FOX91UibwjYu",
        "colab": {
          "base_uri": "https://localhost:8080/"
        },
        "outputId": "486343d2-db28-4696-d0d8-0ae4868e09ce"
      },
      "source": [
        "from sklearn.metrics import davies_bouldin_score\n",
        "print(f'score Davies-Bouldin: {davies_bouldin_score(X,k_means.labels_)}')"
      ],
      "execution_count": null,
      "outputs": [
        {
          "output_type": "stream",
          "text": [
            "score Davies-Bouldin: 0.21438375625027106\n"
          ],
          "name": "stdout"
        }
      ]
    },
    {
      "cell_type": "markdown",
      "metadata": {
        "id": "w_U7aFxkLAGw"
      },
      "source": [
        "**3-2- Calinski-Harabasz Index**\n",
        "L'indice **Calinski-Harabasz** (également connu sous le nom de critère du rapport de variance) est une mesure de la similarité d'un échantillon à sa propre grappe (cohésion) par rapport aux autres grappes (séparation). Ici, la cohésion est estimée sur la base des distances entre les points de données d'un cluster et son centroïde de cluster et la séparation est basée sur la distance entre les centroïdes de cluster et le centroïde global. L'indice de Calinski-Harabasz varie entre 0 (pire classification) et l'infini (meilleure classification).\n",
        "\n",
        "Il dépend fortement de N (le nombre d'échantillons), par conséquent, son ordre de grandeur peut varier considérablement d'un jeu de données à l'autre."
      ]
    },
    {
      "cell_type": "code",
      "metadata": {
        "id": "Gm8CZub3LFi0",
        "colab": {
          "base_uri": "https://localhost:8080/"
        },
        "outputId": "d3edbf98-66aa-4452-b73f-85ec48452953"
      },
      "source": [
        "from sklearn.metrics import calinski_harabasz_score\n",
        "print(f'calinski harabasz score: {calinski_harabasz_score(X, k_means.labels_)}')"
      ],
      "execution_count": null,
      "outputs": [
        {
          "output_type": "stream",
          "text": [
            "calinski harabasz score: 4188.035215622732\n"
          ],
          "name": "stdout"
        }
      ]
    },
    {
      "cell_type": "markdown",
      "metadata": {
        "id": "BsKMAN4YLGbs"
      },
      "source": [
        "**3-3- Silhouette Coefficient**"
      ]
    },
    {
      "cell_type": "markdown",
      "metadata": {
        "id": "SUllab951l7H"
      },
      "source": [
        "Comme l'indice précédent, l'indice de **silhouette** est une mesure de la similarité d'un échantillon avec son propre cluster (cohésion) par rapport aux autres clusters (séparation). Cependant, la silhouette varie de -1 à +1, où une valeur élevée indique que l'échantillon est bien adapté à son propre cluster et mal adapté aux clusters voisins. Si la plupart des échantillons ont une valeur élevée, alors la configuration du clustering est appropriée. Si de nombreux échantillons ont une valeur faible ou négative, alors la configuration de clustering peut avoir trop ou trop peu de clusters."
      ]
    },
    {
      "cell_type": "markdown",
      "metadata": {
        "id": "HmHQeTbt1l-W"
      },
      "source": [
        "Le Coefficient de Silhouette est défini pour chaque échantillon et est composé de deux scores :\n",
        "\n",
        "**a** : La distance moyenne entre un échantillon et tous les autres points de la même classe.\n",
        "\n",
        "**b** : La distance moyenne entre un échantillon et tous les autres points de la classe la plus proche."
      ]
    },
    {
      "cell_type": "markdown",
      "metadata": {
        "id": "5ByML1W_UIGv"
      },
      "source": [
        "\\begin{equation}Silhouette = \\frac{b-a}{max(a,b)}\\end{equation}"
      ]
    },
    {
      "cell_type": "markdown",
      "metadata": {
        "id": "xvB_wfe-LUY9"
      },
      "source": [
        "**Equation**"
      ]
    },
    {
      "cell_type": "code",
      "metadata": {
        "id": "QA-c993bLUoU",
        "colab": {
          "base_uri": "https://localhost:8080/"
        },
        "outputId": "5848539c-dab2-4943-a373-81327fe7f856"
      },
      "source": [
        "from sklearn.metrics import silhouette_score\n",
        "print(f'silhouette score: {silhouette_score(X, k_means.labels_)}')"
      ],
      "execution_count": null,
      "outputs": [
        {
          "output_type": "stream",
          "text": [
            "silhouette score: 0.8460055933437445\n"
          ],
          "name": "stdout"
        }
      ]
    },
    {
      "cell_type": "markdown",
      "metadata": {
        "id": "Uu0vox5FcOKH"
      },
      "source": [
        "**bold text**"
      ]
    },
    {
      "cell_type": "markdown",
      "metadata": {
        "id": "ns-UKnSTgNYG"
      },
      "source": [
        "Il existe de nombreuses autres métriques que vous pouvez utiliser pour évaluer la qualité de votre clustering, pour plus d'informations sur les autres métriques , vous pouvez consulter [la page de documentation officielle de scikit-learn](https://scikit-learn.org/stable/modules/clustering.html#clustering) qui présente une excellente explication de chaque métrique, de sa formule mathématique et de son implémentation."
      ]
    }
  ]
}