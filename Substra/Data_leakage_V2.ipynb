{
  "nbformat": 4,
  "nbformat_minor": 0,
  "metadata": {
    "colab": {
      "name": "Data_leakage V2.ipynb",
      "provenance": [],
      "collapsed_sections": []
    },
    "kernelspec": {
      "name": "python3",
      "display_name": "Python 3"
    },
    "language_info": {
      "name": "python"
    }
  },
  "cells": [
    {
      "cell_type": "markdown",
      "metadata": {
        "id": "rZ3fwBZ0Jo73"
      },
      "source": [
        "# **Fuite de données**"
      ]
    },
    {
      "cell_type": "markdown",
      "metadata": {
        "id": "jozHWd-8JvYY"
      },
      "source": [
        "## **1- Définition**\n",
        "\n",
        "---\n",
        "\n"
      ]
    },
    {
      "cell_type": "markdown",
      "metadata": {
        "id": "Mf2kX6Q0J1WV"
      },
      "source": [
        "**La fuite de données** (en anglais **Data Leakage**) dans le contexte de mise en place de modèle prédictif est considérée comme l'une des principaux problèmes lors des projets de Data Science.\n",
        "\n",
        "**Une fuite de données** signifie que le modèle \"triche\" en recherchant les réponses pendant la phase d'entraînement. Concrétement : des informations sur **la cible** que nous essayons de prédire sont introduites et découvertes pendant l'entraînement. Ces informations ne devraient pas être disponibles lors de l'entraînement et cela permet au modèle d'apprendre ou savoir quelque chose qu'il ne devrait pas savoir autrement.\n",
        "\n",
        "Ce phénomène est difficile à détecter et se passe de manière imperceptible. Il se produit souvent par accident ou inadvertance lors de la phase de préparation des données.\n",
        "\n",
        "**La fuite de données** peut aboutir à des modèles trop performant qui fonctionnent avec une grande précision sur les données de test mais qui ont une faible capacité de généralisation lorsqu'ils sont déployés en production.\n",
        "\n",
        "\n",
        "L'exemple le plus trivial de fuite de données est lorsqu'un modèle utilise la variable cible elle-même comme prédicteur, par exemple pour prédire **qu'il pleut les jours de pluie!**\n"
      ]
    },
    {
      "cell_type": "markdown",
      "metadata": {
        "id": "B4PUlo_eXrGr"
      },
      "source": [
        "# **Fuite de données dans les challenges et compétitions de Machine Learning**\n",
        "\n",
        "---\n",
        "\n"
      ]
    },
    {
      "cell_type": "markdown",
      "metadata": {
        "id": "5mWec_ZDppKP"
      },
      "source": [
        "Des problèmes de Data leakage ont été détectés dans de nombreuses compétitions et challenges de machine learning:\n",
        "\n",
        "* Lors du concours de Data Mining KDDCup 2007 (KDD signifie Knowledge Discovery in Databases), il y avait deux challenges à partir d'un même jeu de données portant sur les critiques de films Netflix. Le premier challenge était de prédire si chaque utilisateur donnerait un avis pour différents films en 2006, compte tenu des données disponibles jusqu'en 2005. Le deuxième défi, \"Combien Avis\", était de prédire le nombre d'avis que chaque film allait recevoir en 2006, en utilisant également les données fournies jusqu'en 2005. Pour le premier challenge, un ensemble de données tests avec des données réelles de 2006 a été fourni, ce qui était la principale source de fuite.\n",
        "\n",
        "Deux concours d'exploration de données médicales ont eu lieu l'année suivante et qui présentait également des problèmes de fuite de données. \n",
        "\n",
        "* La coupe KDD de l'année 2008 portait sur la détection du cancer à partir des données de mammographie. En analysant les données de ce concours, des chercheurs ont identifié que l'attribut «ID patient» (ignoré par la plupart des concurrents) avait un pouvoir prédictif énorme et inattendu. Ils émettent l'hypothèse que plusieurs études cliniques, institutions ou autres sources ont été utilisées pour entrainer les modèles et que certaines de ces sources détenaient une connaissance de l'état du patient. Les fuites ont ainsi été facilitées en attribuant des identifiants de patient identiques pour les données de chaque source. La manipulation a ainsi été effectuée sans obscurcir la source.\n",
        "\n",
        "* Le Challenge INFORMS de 2008 portait sur le problème de diagnostic de pneumonie basé sur les informations du patient de l'hôpital. La cible était à l'origine intégrée en tant que valeur spéciale de une ou plusieurs caractéristiques dans les données fournies aux concurrents. Les organisateurs ont supprimé ces valeurs, mais il a été possible d'identifier des traces de ce retrait des données, ce qui a constitué la source de fuite dans cet exemple.\n",
        "\n",
        "\n"
      ]
    },
    {
      "cell_type": "markdown",
      "metadata": {
        "id": "RiCs38PRJyPc"
      },
      "source": [
        "## **3- Sources de fuite de données**\n",
        "\n",
        "---\n",
        "\n"
      ]
    },
    {
      "cell_type": "markdown",
      "metadata": {
        "id": "U9F-NXNHwlR8"
      },
      "source": [
        "La fuite de données a deux sources principales: \n",
        "\n",
        "1.   Les features\n",
        "2.   Les données d'entrainement\n",
        "\n"
      ]
    },
    {
      "cell_type": "markdown",
      "metadata": {
        "id": "H9q8NSKayPjk"
      },
      "source": [
        "### **3-1 Fuite des features** "
      ]
    },
    {
      "cell_type": "markdown",
      "metadata": {
        "id": "ZHf0Cebf_rx_"
      },
      "source": [
        "Ce type de fuite de données est souvent appelé **le piège de la machine à remonter le temps** (en anglais **the time machine trap**), et pour une bonne raison: le modèle reçoit des informations du futur sur sa variable cible qui ne devraient pas être disponibles au moment de faire des prédictions lorsque le modèle est déployé.\n",
        "\n",
        "\n",
        "\n",
        "\n",
        "\n",
        "\n"
      ]
    },
    {
      "cell_type": "markdown",
      "metadata": {
        "id": "dsNy-TLc1FHT"
      },
      "source": [
        "**Exemple:**\n",
        "Prenons un exemple d'un ensemble de données médicales pour prédire le cancer. Supposons que nous ayons un attribut booléen pour indiquer si un patient suit un traitement de chimiothérapie ou non. En fait, c'est une feature qui fuit car elle contient une information qui appartient au futur, ce qui signifie qu'elle a été enregistrée après que la variable cible s'est réellement produite (est-ce que le patient a un cancer ou non ?). Naturellement, la grande majorité des personnes atteintes de cancer suivent un traitement de chimiothérapie."
      ]
    },
    {
      "cell_type": "markdown",
      "metadata": {
        "id": "PQxHb6hb3psz"
      },
      "source": [
        "**Astuce:** Pour éviter ce piège, posez-vous quelques questions sur l'ensemble de données : s'agit-il d'un ensemble de données chronologiques (en anglais **time series data**) ou les attributs ont-ils été enregistrés à des moments différents par rapport à la variable cible ? \n",
        "Si oui, assurez-vous de supprimer tout attribut qui a été enregistré après l'enregistrement de la variable cible."
      ]
    },
    {
      "cell_type": "markdown",
      "metadata": {
        "id": "4r456hjjyPoC"
      },
      "source": [
        "### **3-2 Fuite dans les données d'entrainement**"
      ]
    },
    {
      "cell_type": "markdown",
      "metadata": {
        "id": "HIcWuewBLJn5"
      },
      "source": [
        "Ce type de fuite de données se produit lorsque le jeu de données d'entrainement est contaminé par le jeu de données de test, soit en ayant des échantillons communs, soit si certaines informations du jeu de données de test ont été divulguées lors de l'étape de préparation des données"
      ]
    },
    {
      "cell_type": "markdown",
      "metadata": {
        "id": "-RBC2rUj1IRm"
      },
      "source": [
        "**Exemple pratique:**\n"
      ]
    },
    {
      "cell_type": "markdown",
      "metadata": {
        "id": "xGtZnRb3YKq0"
      },
      "source": [
        "Une façon possible d'introduire une fuite dans vos données d'entraînement est quand vous essayez de traiter le problème des valeurs manquantes. Tenter de remplir les valeurs manquantes avant le **train-test split** entraînera une fuite de données car l'ensemble de test sera utilisé pour remplir les valeurs manquantes dans l'ensemble d'entrainement."
      ]
    },
    {
      "cell_type": "markdown",
      "metadata": {
        "id": "eNzuq4Vcdqh8"
      },
      "source": [
        "Nous allons démontrer cette fuite avec le célèbre jeu de données **Titanic**.  Nous allons utiliser **une méthode d'imputation** simple où nous remplaçons les valeurs manquantes par une variable aléatoire d'une plage de valeurs délimitée par deux valeurs : (**mean-std**) et (**mean + std**), où mean et std sont respectivement la moyenne et l'écart de l'attribut manquant :"
      ]
    },
    {
      "cell_type": "code",
      "metadata": {
        "colab": {
          "base_uri": "https://localhost:8080/"
        },
        "id": "p-UT6iJLd1Jh",
        "outputId": "4477ae84-5d82-4a89-9051-973352caa41b"
      },
      "source": [
        "from google.colab import drive\n",
        "drive.mount('/content/MyDrive')\n"
      ],
      "execution_count": null,
      "outputs": [
        {
          "output_type": "stream",
          "text": [
            "Mounted at /content/MyDrive\n"
          ],
          "name": "stdout"
        }
      ]
    },
    {
      "cell_type": "code",
      "metadata": {
        "colab": {
          "base_uri": "https://localhost:8080/"
        },
        "id": "Rca89iFX0SNB",
        "outputId": "9ebff23a-0762-4cc9-9b74-6b19465c4148"
      },
      "source": [
        "cd MyDrive/\n"
      ],
      "execution_count": null,
      "outputs": [
        {
          "output_type": "stream",
          "text": [
            "/content/MyDrive/MyDrive\n"
          ],
          "name": "stdout"
        }
      ]
    },
    {
      "cell_type": "code",
      "metadata": {
        "colab": {
          "base_uri": "https://localhost:8080/"
        },
        "id": "j12POGM1fahz",
        "outputId": "936696b8-ac55-42a8-de95-15f0721e80aa"
      },
      "source": [
        "cd \"Colab Notebooks\""
      ],
      "execution_count": null,
      "outputs": [
        {
          "output_type": "stream",
          "text": [
            "/content/MyDrive/MyDrive/Colab Notebooks\n"
          ],
          "name": "stdout"
        }
      ]
    },
    {
      "cell_type": "code",
      "metadata": {
        "id": "rZ9ABbnQaZQQ"
      },
      "source": [
        "import numpy as np\n",
        "import pandas as pd\n",
        "from sklearn.model_selection import train_test_split\n",
        "from sklearn.naive_bayes import GaussianNB"
      ],
      "execution_count": null,
      "outputs": []
    },
    {
      "cell_type": "code",
      "metadata": {
        "id": "smh3_gkj1HsE"
      },
      "source": [
        "titanic_dataset_train = pd.read_csv(\"titanic_train.csv\")\n",
        "titanic_dataset_test = pd.read_csv(\"titanic_test.csv\")\n",
        "# full data\n",
        "titanic_dataset = pd.concat([titanic_dataset_train,titanic_dataset_test],axis=0)\n",
        "# shuffle the data"
      ],
      "execution_count": null,
      "outputs": []
    },
    {
      "cell_type": "code",
      "metadata": {
        "id": "dE36WBd81H1q",
        "colab": {
          "base_uri": "https://localhost:8080/",
          "height": 204
        },
        "outputId": "1122c64c-379d-4e6d-c6ca-2c8c95fce41e"
      },
      "source": [
        "# percentage of missing values\n",
        "total = titanic_dataset.isnull().sum().sort_values(ascending=False)\n",
        "percent_1 = titanic_dataset.isnull().sum()/titanic_dataset.isnull().count()*100\n",
        "percent_2 = (round(percent_1, 1)).sort_values(ascending=False)\n",
        "missing_data = pd.concat([total, percent_2], axis=1, keys=['Total', '%'])\n",
        "missing_data.head(5)"
      ],
      "execution_count": null,
      "outputs": [
        {
          "output_type": "execute_result",
          "data": {
            "text/html": [
              "<div>\n",
              "<style scoped>\n",
              "    .dataframe tbody tr th:only-of-type {\n",
              "        vertical-align: middle;\n",
              "    }\n",
              "\n",
              "    .dataframe tbody tr th {\n",
              "        vertical-align: top;\n",
              "    }\n",
              "\n",
              "    .dataframe thead th {\n",
              "        text-align: right;\n",
              "    }\n",
              "</style>\n",
              "<table border=\"1\" class=\"dataframe\">\n",
              "  <thead>\n",
              "    <tr style=\"text-align: right;\">\n",
              "      <th></th>\n",
              "      <th>Total</th>\n",
              "      <th>%</th>\n",
              "    </tr>\n",
              "  </thead>\n",
              "  <tbody>\n",
              "    <tr>\n",
              "      <th>Cabin</th>\n",
              "      <td>687</td>\n",
              "      <td>77.1</td>\n",
              "    </tr>\n",
              "    <tr>\n",
              "      <th>Age</th>\n",
              "      <td>177</td>\n",
              "      <td>19.9</td>\n",
              "    </tr>\n",
              "    <tr>\n",
              "      <th>Embarked</th>\n",
              "      <td>2</td>\n",
              "      <td>0.2</td>\n",
              "    </tr>\n",
              "    <tr>\n",
              "      <th>Fare</th>\n",
              "      <td>0</td>\n",
              "      <td>0.0</td>\n",
              "    </tr>\n",
              "    <tr>\n",
              "      <th>Ticket</th>\n",
              "      <td>0</td>\n",
              "      <td>0.0</td>\n",
              "    </tr>\n",
              "  </tbody>\n",
              "</table>\n",
              "</div>"
            ],
            "text/plain": [
              "          Total     %\n",
              "Cabin       687  77.1\n",
              "Age         177  19.9\n",
              "Embarked      2   0.2\n",
              "Fare          0   0.0\n",
              "Ticket        0   0.0"
            ]
          },
          "metadata": {
            "tags": []
          },
          "execution_count": 58
        }
      ]
    },
    {
      "cell_type": "code",
      "metadata": {
        "id": "TTkdVGtNako0"
      },
      "source": [
        "# converting the type of \"Fare\" from float64 to int64\n",
        "titanic_dataset['Fare'] = titanic_dataset['Fare'].astype(int)"
      ],
      "execution_count": null,
      "outputs": []
    },
    {
      "cell_type": "code",
      "metadata": {
        "id": "YaMZDHhnamgk"
      },
      "source": [
        "titanic_dataset['Fare'] = titanic_dataset['Fare'].astype(int)"
      ],
      "execution_count": null,
      "outputs": []
    },
    {
      "cell_type": "code",
      "metadata": {
        "colab": {
          "base_uri": "https://localhost:8080/",
          "height": 204
        },
        "id": "fu0Z_n2vqGig",
        "outputId": "5923672c-a755-4448-f0da-68f31de762c8"
      },
      "source": [
        "# converting the sex attribute to numerical\n",
        "cat_sex = {\"Sex\": {\"male\":1,\"female\":0}}\n",
        "titanic_dataset.replace(cat_sex, inplace=True)\n",
        "titanic_dataset.head(5)"
      ],
      "execution_count": null,
      "outputs": [
        {
          "output_type": "execute_result",
          "data": {
            "text/html": [
              "<div>\n",
              "<style scoped>\n",
              "    .dataframe tbody tr th:only-of-type {\n",
              "        vertical-align: middle;\n",
              "    }\n",
              "\n",
              "    .dataframe tbody tr th {\n",
              "        vertical-align: top;\n",
              "    }\n",
              "\n",
              "    .dataframe thead th {\n",
              "        text-align: right;\n",
              "    }\n",
              "</style>\n",
              "<table border=\"1\" class=\"dataframe\">\n",
              "  <thead>\n",
              "    <tr style=\"text-align: right;\">\n",
              "      <th></th>\n",
              "      <th>PassengerId</th>\n",
              "      <th>Survived</th>\n",
              "      <th>Pclass</th>\n",
              "      <th>Name</th>\n",
              "      <th>FullName</th>\n",
              "      <th>Sex</th>\n",
              "      <th>Age</th>\n",
              "      <th>SibSp</th>\n",
              "      <th>Parch</th>\n",
              "      <th>Ticket</th>\n",
              "      <th>Fare</th>\n",
              "      <th>Cabin</th>\n",
              "      <th>Embarked</th>\n",
              "    </tr>\n",
              "  </thead>\n",
              "  <tbody>\n",
              "    <tr>\n",
              "      <th>0</th>\n",
              "      <td>299</td>\n",
              "      <td>1</td>\n",
              "      <td>1</td>\n",
              "      <td>Saalfeld</td>\n",
              "      <td>Mr. Adolphe</td>\n",
              "      <td>1</td>\n",
              "      <td>NaN</td>\n",
              "      <td>0</td>\n",
              "      <td>0</td>\n",
              "      <td>19988</td>\n",
              "      <td>30</td>\n",
              "      <td>C106</td>\n",
              "      <td>S</td>\n",
              "    </tr>\n",
              "    <tr>\n",
              "      <th>1</th>\n",
              "      <td>300</td>\n",
              "      <td>1</td>\n",
              "      <td>1</td>\n",
              "      <td>Baxter</td>\n",
              "      <td>Mrs. James (Helene DeLaudeniere Chaput)</td>\n",
              "      <td>0</td>\n",
              "      <td>50.0</td>\n",
              "      <td>0</td>\n",
              "      <td>1</td>\n",
              "      <td>PC 17558</td>\n",
              "      <td>247</td>\n",
              "      <td>B58 B60</td>\n",
              "      <td>C</td>\n",
              "    </tr>\n",
              "    <tr>\n",
              "      <th>2</th>\n",
              "      <td>301</td>\n",
              "      <td>1</td>\n",
              "      <td>3</td>\n",
              "      <td>Kelly</td>\n",
              "      <td>Miss. Anna Katherine Annie Kate</td>\n",
              "      <td>0</td>\n",
              "      <td>NaN</td>\n",
              "      <td>0</td>\n",
              "      <td>0</td>\n",
              "      <td>9234</td>\n",
              "      <td>7</td>\n",
              "      <td>NaN</td>\n",
              "      <td>Q</td>\n",
              "    </tr>\n",
              "    <tr>\n",
              "      <th>3</th>\n",
              "      <td>302</td>\n",
              "      <td>1</td>\n",
              "      <td>3</td>\n",
              "      <td>McCoy</td>\n",
              "      <td>Mr. Bernard</td>\n",
              "      <td>1</td>\n",
              "      <td>NaN</td>\n",
              "      <td>2</td>\n",
              "      <td>0</td>\n",
              "      <td>367226</td>\n",
              "      <td>23</td>\n",
              "      <td>NaN</td>\n",
              "      <td>Q</td>\n",
              "    </tr>\n",
              "    <tr>\n",
              "      <th>4</th>\n",
              "      <td>303</td>\n",
              "      <td>0</td>\n",
              "      <td>3</td>\n",
              "      <td>Johnson</td>\n",
              "      <td>Mr. William Cahoone Jr</td>\n",
              "      <td>1</td>\n",
              "      <td>19.0</td>\n",
              "      <td>0</td>\n",
              "      <td>0</td>\n",
              "      <td>LINE</td>\n",
              "      <td>0</td>\n",
              "      <td>NaN</td>\n",
              "      <td>S</td>\n",
              "    </tr>\n",
              "  </tbody>\n",
              "</table>\n",
              "</div>"
            ],
            "text/plain": [
              "   PassengerId  Survived  Pclass      Name  ...    Ticket  Fare    Cabin  Embarked\n",
              "0          299         1       1  Saalfeld  ...     19988    30     C106         S\n",
              "1          300         1       1    Baxter  ...  PC 17558   247  B58 B60         C\n",
              "2          301         1       3     Kelly  ...      9234     7      NaN         Q\n",
              "3          302         1       3     McCoy  ...    367226    23      NaN         Q\n",
              "4          303         0       3   Johnson  ...      LINE     0      NaN         S\n",
              "\n",
              "[5 rows x 13 columns]"
            ]
          },
          "metadata": {
            "tags": []
          },
          "execution_count": 61
        }
      ]
    },
    {
      "cell_type": "code",
      "metadata": {
        "colab": {
          "base_uri": "https://localhost:8080/",
          "height": 204
        },
        "id": "s4gXE0d6t-2H",
        "outputId": "c22b78b7-8453-4440-a0da-c33274aa84f4"
      },
      "source": [
        "# converting the child attribute to numerical\n",
        "titanic_dataset[\"Child\"] = np.where(titanic_dataset['Age'] < 18 , \"child\" , \"adult\")\n",
        "cat_child = {\"Child\": {\"adult\":1,\"child\":0}}\n",
        "titanic_dataset.replace(cat_child, inplace=True)\n",
        "titanic_dataset.head(5)"
      ],
      "execution_count": null,
      "outputs": [
        {
          "output_type": "execute_result",
          "data": {
            "text/html": [
              "<div>\n",
              "<style scoped>\n",
              "    .dataframe tbody tr th:only-of-type {\n",
              "        vertical-align: middle;\n",
              "    }\n",
              "\n",
              "    .dataframe tbody tr th {\n",
              "        vertical-align: top;\n",
              "    }\n",
              "\n",
              "    .dataframe thead th {\n",
              "        text-align: right;\n",
              "    }\n",
              "</style>\n",
              "<table border=\"1\" class=\"dataframe\">\n",
              "  <thead>\n",
              "    <tr style=\"text-align: right;\">\n",
              "      <th></th>\n",
              "      <th>PassengerId</th>\n",
              "      <th>Survived</th>\n",
              "      <th>Pclass</th>\n",
              "      <th>Name</th>\n",
              "      <th>FullName</th>\n",
              "      <th>Sex</th>\n",
              "      <th>Age</th>\n",
              "      <th>SibSp</th>\n",
              "      <th>Parch</th>\n",
              "      <th>Ticket</th>\n",
              "      <th>Fare</th>\n",
              "      <th>Cabin</th>\n",
              "      <th>Embarked</th>\n",
              "      <th>Child</th>\n",
              "    </tr>\n",
              "  </thead>\n",
              "  <tbody>\n",
              "    <tr>\n",
              "      <th>0</th>\n",
              "      <td>299</td>\n",
              "      <td>1</td>\n",
              "      <td>1</td>\n",
              "      <td>Saalfeld</td>\n",
              "      <td>Mr. Adolphe</td>\n",
              "      <td>1</td>\n",
              "      <td>NaN</td>\n",
              "      <td>0</td>\n",
              "      <td>0</td>\n",
              "      <td>19988</td>\n",
              "      <td>30</td>\n",
              "      <td>C106</td>\n",
              "      <td>S</td>\n",
              "      <td>1</td>\n",
              "    </tr>\n",
              "    <tr>\n",
              "      <th>1</th>\n",
              "      <td>300</td>\n",
              "      <td>1</td>\n",
              "      <td>1</td>\n",
              "      <td>Baxter</td>\n",
              "      <td>Mrs. James (Helene DeLaudeniere Chaput)</td>\n",
              "      <td>0</td>\n",
              "      <td>50.0</td>\n",
              "      <td>0</td>\n",
              "      <td>1</td>\n",
              "      <td>PC 17558</td>\n",
              "      <td>247</td>\n",
              "      <td>B58 B60</td>\n",
              "      <td>C</td>\n",
              "      <td>1</td>\n",
              "    </tr>\n",
              "    <tr>\n",
              "      <th>2</th>\n",
              "      <td>301</td>\n",
              "      <td>1</td>\n",
              "      <td>3</td>\n",
              "      <td>Kelly</td>\n",
              "      <td>Miss. Anna Katherine Annie Kate</td>\n",
              "      <td>0</td>\n",
              "      <td>NaN</td>\n",
              "      <td>0</td>\n",
              "      <td>0</td>\n",
              "      <td>9234</td>\n",
              "      <td>7</td>\n",
              "      <td>NaN</td>\n",
              "      <td>Q</td>\n",
              "      <td>1</td>\n",
              "    </tr>\n",
              "    <tr>\n",
              "      <th>3</th>\n",
              "      <td>302</td>\n",
              "      <td>1</td>\n",
              "      <td>3</td>\n",
              "      <td>McCoy</td>\n",
              "      <td>Mr. Bernard</td>\n",
              "      <td>1</td>\n",
              "      <td>NaN</td>\n",
              "      <td>2</td>\n",
              "      <td>0</td>\n",
              "      <td>367226</td>\n",
              "      <td>23</td>\n",
              "      <td>NaN</td>\n",
              "      <td>Q</td>\n",
              "      <td>1</td>\n",
              "    </tr>\n",
              "    <tr>\n",
              "      <th>4</th>\n",
              "      <td>303</td>\n",
              "      <td>0</td>\n",
              "      <td>3</td>\n",
              "      <td>Johnson</td>\n",
              "      <td>Mr. William Cahoone Jr</td>\n",
              "      <td>1</td>\n",
              "      <td>19.0</td>\n",
              "      <td>0</td>\n",
              "      <td>0</td>\n",
              "      <td>LINE</td>\n",
              "      <td>0</td>\n",
              "      <td>NaN</td>\n",
              "      <td>S</td>\n",
              "      <td>1</td>\n",
              "    </tr>\n",
              "  </tbody>\n",
              "</table>\n",
              "</div>"
            ],
            "text/plain": [
              "   PassengerId  Survived  Pclass      Name  ... Fare    Cabin  Embarked  Child\n",
              "0          299         1       1  Saalfeld  ...   30     C106         S      1\n",
              "1          300         1       1    Baxter  ...  247  B58 B60         C      1\n",
              "2          301         1       3     Kelly  ...    7      NaN         Q      1\n",
              "3          302         1       3     McCoy  ...   23      NaN         Q      1\n",
              "4          303         0       3   Johnson  ...    0      NaN         S      1\n",
              "\n",
              "[5 rows x 14 columns]"
            ]
          },
          "metadata": {
            "tags": []
          },
          "execution_count": 62
        }
      ]
    },
    {
      "cell_type": "code",
      "metadata": {
        "id": "Sg2tAYJevQ6s"
      },
      "source": [
        "# there is one missing value in each set, so we can just fill it with the most common value \"S\"\n",
        "titanic_dataset[\"Embarked\"]=titanic_dataset[\"Embarked\"].fillna(\"S\")"
      ],
      "execution_count": null,
      "outputs": []
    },
    {
      "cell_type": "code",
      "metadata": {
        "colab": {
          "base_uri": "https://localhost:8080/",
          "height": 204
        },
        "id": "y-l8WB4BvexN",
        "outputId": "c5acabf5-86e3-4ee7-eec0-a35693e3a663"
      },
      "source": [
        "# there are 3 unique possible values : S , C , Q\n",
        "cat_emb = {\"Embarked\": {\"S\":0,\"Q\":1,\"C\":2}}\n",
        "titanic_dataset.replace(cat_emb, inplace=True)\n",
        "titanic_dataset.head(5)"
      ],
      "execution_count": null,
      "outputs": [
        {
          "output_type": "execute_result",
          "data": {
            "text/html": [
              "<div>\n",
              "<style scoped>\n",
              "    .dataframe tbody tr th:only-of-type {\n",
              "        vertical-align: middle;\n",
              "    }\n",
              "\n",
              "    .dataframe tbody tr th {\n",
              "        vertical-align: top;\n",
              "    }\n",
              "\n",
              "    .dataframe thead th {\n",
              "        text-align: right;\n",
              "    }\n",
              "</style>\n",
              "<table border=\"1\" class=\"dataframe\">\n",
              "  <thead>\n",
              "    <tr style=\"text-align: right;\">\n",
              "      <th></th>\n",
              "      <th>PassengerId</th>\n",
              "      <th>Survived</th>\n",
              "      <th>Pclass</th>\n",
              "      <th>Name</th>\n",
              "      <th>FullName</th>\n",
              "      <th>Sex</th>\n",
              "      <th>Age</th>\n",
              "      <th>SibSp</th>\n",
              "      <th>Parch</th>\n",
              "      <th>Ticket</th>\n",
              "      <th>Fare</th>\n",
              "      <th>Cabin</th>\n",
              "      <th>Embarked</th>\n",
              "      <th>Child</th>\n",
              "    </tr>\n",
              "  </thead>\n",
              "  <tbody>\n",
              "    <tr>\n",
              "      <th>0</th>\n",
              "      <td>299</td>\n",
              "      <td>1</td>\n",
              "      <td>1</td>\n",
              "      <td>Saalfeld</td>\n",
              "      <td>Mr. Adolphe</td>\n",
              "      <td>1</td>\n",
              "      <td>NaN</td>\n",
              "      <td>0</td>\n",
              "      <td>0</td>\n",
              "      <td>19988</td>\n",
              "      <td>30</td>\n",
              "      <td>C106</td>\n",
              "      <td>0</td>\n",
              "      <td>1</td>\n",
              "    </tr>\n",
              "    <tr>\n",
              "      <th>1</th>\n",
              "      <td>300</td>\n",
              "      <td>1</td>\n",
              "      <td>1</td>\n",
              "      <td>Baxter</td>\n",
              "      <td>Mrs. James (Helene DeLaudeniere Chaput)</td>\n",
              "      <td>0</td>\n",
              "      <td>50.0</td>\n",
              "      <td>0</td>\n",
              "      <td>1</td>\n",
              "      <td>PC 17558</td>\n",
              "      <td>247</td>\n",
              "      <td>B58 B60</td>\n",
              "      <td>2</td>\n",
              "      <td>1</td>\n",
              "    </tr>\n",
              "    <tr>\n",
              "      <th>2</th>\n",
              "      <td>301</td>\n",
              "      <td>1</td>\n",
              "      <td>3</td>\n",
              "      <td>Kelly</td>\n",
              "      <td>Miss. Anna Katherine Annie Kate</td>\n",
              "      <td>0</td>\n",
              "      <td>NaN</td>\n",
              "      <td>0</td>\n",
              "      <td>0</td>\n",
              "      <td>9234</td>\n",
              "      <td>7</td>\n",
              "      <td>NaN</td>\n",
              "      <td>1</td>\n",
              "      <td>1</td>\n",
              "    </tr>\n",
              "    <tr>\n",
              "      <th>3</th>\n",
              "      <td>302</td>\n",
              "      <td>1</td>\n",
              "      <td>3</td>\n",
              "      <td>McCoy</td>\n",
              "      <td>Mr. Bernard</td>\n",
              "      <td>1</td>\n",
              "      <td>NaN</td>\n",
              "      <td>2</td>\n",
              "      <td>0</td>\n",
              "      <td>367226</td>\n",
              "      <td>23</td>\n",
              "      <td>NaN</td>\n",
              "      <td>1</td>\n",
              "      <td>1</td>\n",
              "    </tr>\n",
              "    <tr>\n",
              "      <th>4</th>\n",
              "      <td>303</td>\n",
              "      <td>0</td>\n",
              "      <td>3</td>\n",
              "      <td>Johnson</td>\n",
              "      <td>Mr. William Cahoone Jr</td>\n",
              "      <td>1</td>\n",
              "      <td>19.0</td>\n",
              "      <td>0</td>\n",
              "      <td>0</td>\n",
              "      <td>LINE</td>\n",
              "      <td>0</td>\n",
              "      <td>NaN</td>\n",
              "      <td>0</td>\n",
              "      <td>1</td>\n",
              "    </tr>\n",
              "  </tbody>\n",
              "</table>\n",
              "</div>"
            ],
            "text/plain": [
              "   PassengerId  Survived  Pclass      Name  ... Fare    Cabin  Embarked  Child\n",
              "0          299         1       1  Saalfeld  ...   30     C106         0      1\n",
              "1          300         1       1    Baxter  ...  247  B58 B60         2      1\n",
              "2          301         1       3     Kelly  ...    7      NaN         1      1\n",
              "3          302         1       3     McCoy  ...   23      NaN         1      1\n",
              "4          303         0       3   Johnson  ...    0      NaN         0      1\n",
              "\n",
              "[5 rows x 14 columns]"
            ]
          },
          "metadata": {
            "tags": []
          },
          "execution_count": 64
        }
      ]
    },
    {
      "cell_type": "code",
      "metadata": {
        "id": "hc9CmDRHamjb"
      },
      "source": [
        "# drop unnanessary attributes\n",
        "attributes_to_drop =[\"PassengerId\",\"Cabin\",\"Survived\",\"Name\",\"FullName\",\"Ticket\"]\n",
        "#  data\n",
        "X_titanic_dataset = titanic_dataset.drop(attributes_to_drop,axis=1)\n",
        "#  labels\n",
        "Y_titanic_dataset = titanic_dataset[\"Survived\"]\n"
      ],
      "execution_count": null,
      "outputs": []
    },
    {
      "cell_type": "markdown",
      "metadata": {
        "id": "DZXSzrh0pEXB"
      },
      "source": [
        "**Scenario 1 :** remplir les valeurs manquantes avant le train-test split"
      ]
    },
    {
      "cell_type": "code",
      "metadata": {
        "colab": {
          "base_uri": "https://localhost:8080/"
        },
        "id": "lOXfgJUQa6QM",
        "outputId": "0db5bd09-ff1f-46d0-95b7-5f21a3c3d81a"
      },
      "source": [
        "# dealing with missing values for the \"age\" attribute\n",
        "# filling missing values for the age attribute\n",
        "\n",
        "mean = X_titanic_dataset[\"Age\"].mean()\n",
        "std = X_titanic_dataset[\"Age\"].std()\n",
        "is_null = X_titanic_dataset[\"Age\"].isnull().sum()\n",
        "# compute random numbers between the mean, std and is_null\n",
        "rand_age = np.random.randint(mean - std, mean + std, size = is_null)\n",
        "# fill NaN values in Age column with random values generated\n",
        "age_slice = X_titanic_dataset[\"Age\"].copy()\n",
        "age_slice[np.isnan(age_slice)] = rand_age\n",
        "X_titanic_dataset[\"Age\"] = age_slice\n",
        "X_titanic_dataset[\"Age\"] = X_titanic_dataset[\"Age\"].astype(int)\n",
        "X_titanic_dataset[\"Age\"].isnull().sum()\n"
      ],
      "execution_count": null,
      "outputs": [
        {
          "output_type": "execute_result",
          "data": {
            "text/plain": [
              "0"
            ]
          },
          "metadata": {
            "tags": []
          },
          "execution_count": 49
        }
      ]
    },
    {
      "cell_type": "code",
      "metadata": {
        "id": "8de3MgKOa6Tx"
      },
      "source": [
        "# train-test split\n",
        "X_train, X_test, y_train, y_test = train_test_split(\n",
        "X_titanic_dataset, Y_titanic_dataset, test_size=0.33, random_state=42)\n"
      ],
      "execution_count": null,
      "outputs": []
    },
    {
      "cell_type": "code",
      "metadata": {
        "colab": {
          "base_uri": "https://localhost:8080/"
        },
        "id": "VoHgc2cdammD",
        "outputId": "c0da09e2-c8bc-45fb-c4bc-24d0069144a5"
      },
      "source": [
        "# initilize a guassian naive bayes classifier\n",
        "gaussian = GaussianNB()\n",
        "gaussian.fit(X_train, y_train)\n",
        "# probabilities of each sample in the dataset for each label (survived,dead)\n",
        "gaussian.predict_proba(X_train)"
      ],
      "execution_count": null,
      "outputs": [
        {
          "output_type": "execute_result",
          "data": {
            "text/plain": [
              "array([[0.97397463, 0.02602537],\n",
              "       [0.36155316, 0.63844684],\n",
              "       [0.64951747, 0.35048253],\n",
              "       ...,\n",
              "       [0.97339778, 0.02660222],\n",
              "       [0.94276918, 0.05723082],\n",
              "       [0.97368316, 0.02631684]])"
            ]
          },
          "metadata": {
            "tags": []
          },
          "execution_count": 51
        }
      ]
    },
    {
      "cell_type": "code",
      "metadata": {
        "colab": {
          "base_uri": "https://localhost:8080/"
        },
        "id": "wVDJMbkgws5N",
        "outputId": "abdf0b4e-6243-4838-f312-6a3ef49c4650"
      },
      "source": [
        "# model accuracy\n",
        "titanic_accuracy = gaussian.score(X_test, y_test) * 100\n",
        "print(\"prediction accuracy : %3.3f percent\" %titanic_accuracy)"
      ],
      "execution_count": null,
      "outputs": [
        {
          "output_type": "stream",
          "text": [
            "prediction accuracy : 81.356 percent\n"
          ],
          "name": "stdout"
        }
      ]
    },
    {
      "cell_type": "markdown",
      "metadata": {
        "id": "Mi6ZyZcJwxOD"
      },
      "source": [
        "**Scenario 2 :** remplir les valeurs manquantes après le train-test split"
      ]
    },
    {
      "cell_type": "code",
      "metadata": {
        "id": "1w-UikC8xw1m"
      },
      "source": [
        "# train-test split\n",
        "X_train, X_test, y_train, y_test = train_test_split(\n",
        "X_titanic_dataset, Y_titanic_dataset, test_size=0.33, random_state=42)"
      ],
      "execution_count": null,
      "outputs": []
    },
    {
      "cell_type": "code",
      "metadata": {
        "colab": {
          "base_uri": "https://localhost:8080/"
        },
        "id": "Wigei8etx_co",
        "outputId": "79beae97-7cee-4c9a-9cee-ea9a1d31fc57"
      },
      "source": [
        "# dealing with missing values for the \"age\" attribute\n",
        "# filling missing values for the age attribute\n",
        "\n",
        "# filling in missing data in the train set\n",
        "mean = X_train[\"Age\"].mean()\n",
        "std = X_train[\"Age\"].std()\n",
        "is_null = X_train[\"Age\"].isnull().sum()\n",
        "# compute random numbers between the mean, std and is_null\n",
        "rand_age = np.random.randint(mean - std, mean + std, size = is_null)\n",
        "# fill NaN values in Age column with random values generated\n",
        "age_slice = X_train[\"Age\"].copy()\n",
        "age_slice[np.isnan(age_slice)] = rand_age\n",
        "X_train[\"Age\"] = age_slice\n",
        "X_train[\"Age\"] = X_train[\"Age\"].astype(int)\n",
        "X_train[\"Age\"].isnull().sum()\n",
        "\n",
        "\n",
        "# filling in missing data in the test set\n",
        "mean = X_test[\"Age\"].mean()\n",
        "std = X_test[\"Age\"].std()\n",
        "is_null = X_test[\"Age\"].isnull().sum()\n",
        "# compute random numbers between the mean, std and is_null\n",
        "rand_age = np.random.randint(mean - std, mean + std, size = is_null)\n",
        "# fill NaN values in Age column with random values generated\n",
        "age_slice = X_test[\"Age\"].copy()\n",
        "age_slice[np.isnan(age_slice)] = rand_age\n",
        "X_test[\"Age\"] = age_slice\n",
        "X_test[\"Age\"] = X_test[\"Age\"].astype(int)\n",
        "X_test[\"Age\"].isnull().sum()\n"
      ],
      "execution_count": null,
      "outputs": [
        {
          "output_type": "stream",
          "text": [
            "/usr/local/lib/python3.7/dist-packages/ipykernel_launcher.py:13: SettingWithCopyWarning: \n",
            "A value is trying to be set on a copy of a slice from a DataFrame.\n",
            "Try using .loc[row_indexer,col_indexer] = value instead\n",
            "\n",
            "See the caveats in the documentation: https://pandas.pydata.org/pandas-docs/stable/user_guide/indexing.html#returning-a-view-versus-a-copy\n",
            "  del sys.path[0]\n",
            "/usr/local/lib/python3.7/dist-packages/ipykernel_launcher.py:14: SettingWithCopyWarning: \n",
            "A value is trying to be set on a copy of a slice from a DataFrame.\n",
            "Try using .loc[row_indexer,col_indexer] = value instead\n",
            "\n",
            "See the caveats in the documentation: https://pandas.pydata.org/pandas-docs/stable/user_guide/indexing.html#returning-a-view-versus-a-copy\n",
            "  \n",
            "/usr/local/lib/python3.7/dist-packages/ipykernel_launcher.py:27: SettingWithCopyWarning: \n",
            "A value is trying to be set on a copy of a slice from a DataFrame.\n",
            "Try using .loc[row_indexer,col_indexer] = value instead\n",
            "\n",
            "See the caveats in the documentation: https://pandas.pydata.org/pandas-docs/stable/user_guide/indexing.html#returning-a-view-versus-a-copy\n",
            "/usr/local/lib/python3.7/dist-packages/ipykernel_launcher.py:28: SettingWithCopyWarning: \n",
            "A value is trying to be set on a copy of a slice from a DataFrame.\n",
            "Try using .loc[row_indexer,col_indexer] = value instead\n",
            "\n",
            "See the caveats in the documentation: https://pandas.pydata.org/pandas-docs/stable/user_guide/indexing.html#returning-a-view-versus-a-copy\n"
          ],
          "name": "stderr"
        },
        {
          "output_type": "execute_result",
          "data": {
            "text/plain": [
              "0"
            ]
          },
          "metadata": {
            "tags": []
          },
          "execution_count": 67
        }
      ]
    },
    {
      "cell_type": "code",
      "metadata": {
        "colab": {
          "base_uri": "https://localhost:8080/"
        },
        "id": "Ah5yk04-0FJp",
        "outputId": "e2ef0726-790d-47ec-92c4-aa66f8de442c"
      },
      "source": [
        "# applying naiveBayes classifier\n",
        "gaussian = GaussianNB()\n",
        "gaussian.fit(X_train, y_train)\n",
        "# probabilities of each sample in the dataset for each label (survived,dead)\n",
        "gaussian.predict_proba(X_train)"
      ],
      "execution_count": null,
      "outputs": [
        {
          "output_type": "execute_result",
          "data": {
            "text/plain": [
              "array([[0.9733319 , 0.0266681 ],\n",
              "       [0.35471667, 0.64528333],\n",
              "       [0.65468461, 0.34531539],\n",
              "       ...,\n",
              "       [0.97322305, 0.02677695],\n",
              "       [0.94222556, 0.05777444],\n",
              "       [0.97403942, 0.02596058]])"
            ]
          },
          "metadata": {
            "tags": []
          },
          "execution_count": 68
        }
      ]
    },
    {
      "cell_type": "code",
      "metadata": {
        "colab": {
          "base_uri": "https://localhost:8080/"
        },
        "id": "_NpkSXZP0xGL",
        "outputId": "8b3ca085-f201-41f0-abb0-d8a054ccf78a"
      },
      "source": [
        "# model accuracy\n",
        "titanic_accuracy = gaussian.score(X_test, y_test) * 100\n",
        "print(\"prediction accuracy : %3.3f percent\" %titanic_accuracy)"
      ],
      "execution_count": null,
      "outputs": [
        {
          "output_type": "stream",
          "text": [
            "prediction accuracy : 81.695 percent\n"
          ],
          "name": "stdout"
        }
      ]
    },
    {
      "cell_type": "markdown",
      "metadata": {
        "id": "rSQHrHmz1Afv"
      },
      "source": [
        "**Conclusion :**\n",
        "\n",
        "Nous pouvons voir la différence entre les performances du modèle dans les deux scénarios (81.356 vs. 81.695%), sachant que nous avons gardé le même jeu de données et le même modèle. \n",
        "\n",
        "Cela peut sembler une très petite différence, mais rappelez-vous que nous avons utilisé une stratégie d'imputation simple pour une seul variable (\"Age\"). \n",
        "\n",
        "Supposons que nous avons plusieurs variables à imputer maintenant. Et si nous utilisions des méthodes d'imputation plus complexes ? Ou si l'ensemble de données est très grand ? Cela aggraverait le problème."
      ]
    },
    {
      "cell_type": "markdown",
      "metadata": {
        "id": "l1kA9h0iJ07l"
      },
      "source": [
        "## **4- Comment éviter et résoudre le problème de Data Leakage**\n",
        "\n",
        "---\n",
        "\n"
      ]
    },
    {
      "cell_type": "markdown",
      "metadata": {
        "id": "m_gbW-lNbiFe"
      },
      "source": [
        "Pour faire face aux fuites de données, vous devez prendre du recul. \n",
        "Vous devez obtenir accés aux données brutes et essayer de supprimer les features et les échantillons qui fuient. \n",
        "\n",
        "Si vous n'avez pas accès aux données sources d'origine et que vous vous retrouvez avec un ensemble de données, suivez ces astuces et techniques pour minimiser l'impact des fuites de données :"
      ]
    },
    {
      "cell_type": "markdown",
      "metadata": {
        "id": "zKlfJegMc8DU"
      },
      "source": [
        "\n",
        "\n",
        "*   L'analyse exploratoire des données (EDA) peut être un outil puissant pour identifier les fuites de données. EDA vous permet de vous familiariser avec les données en les examinant à travers des outils statistiques et de visualisation\n",
        "\n",
        "*   Supprimez toutes les données postérieur à l'événement qui vous intéresse (la variable cible), en vous concentrant sur le moment où vous avez appris un fait ou une observation plutôt que sur l'heure à laquelle l'observation s'est produite.\n",
        "\n",
        "*   Ajoutez du bruit aléatoire aux données d'entrée du modèle pour essayer de lisser les effets d'éventuelles fuites des features.\n",
        "\n",
        "*   Si vous pensez qu'une variable fuit, envisagez de la supprimer.\n",
        "\n",
        "\n",
        "*   Si la performance de votre modèle est trop bonne pour être vraie, une fuite de données peut en être la cause. Vous devez mettre votre performance au regard des résultats documentés antérieurs ou concurrents pour le problème en question. Une divergence substantielle par rapport à ces performances attendues mérite de tester le modèle de plus près pour s'assurer qu'il n'y a pas de fuite.\n",
        "\n",
        "\n",
        "\n",
        "\n",
        "\n",
        "\n"
      ]
    },
    {
      "cell_type": "markdown",
      "metadata": {
        "id": "bZ01mLKjGH4D"
      },
      "source": [
        "**Réference principal** \n",
        "\n",
        "\n",
        "*   [Leakage in Data Mining: Formulation, Detection, and Avoidance](https://www.cs.umb.edu/~ding/history/470_670_fall_2011/papers/cs670_Tran_PreferredPaper_LeakingInDataMining.pdf)\n",
        "\n",
        "\n"
      ]
    }
  ]
}